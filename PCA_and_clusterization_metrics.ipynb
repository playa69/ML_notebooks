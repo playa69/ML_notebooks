{
 "cells": [
  {
   "cell_type": "markdown",
   "id": "1e16c8de-d121-43e5-bb9b-c1b58e4e10b4",
   "metadata": {},
   "source": [
    "## Данные по цветам ириса (scikit)"
   ]
  },
  {
   "cell_type": "code",
   "execution_count": 43,
   "id": "13b677be-b3fb-437d-8cde-7abbf6858bac",
   "metadata": {},
   "outputs": [],
   "source": [
    "import numpy as np\n",
    "import matplotlib.pyplot as plt\n",
    "import seaborn as sns; sns.set(style = 'white')"
   ]
  },
  {
   "cell_type": "code",
   "execution_count": 44,
   "id": "e2948f40-40b2-435b-9c73-cae69ad11f52",
   "metadata": {},
   "outputs": [],
   "source": [
    "from sklearn import decomposition\n",
    "from sklearn import datasets\n",
    "from mpl_toolkits.mplot3d import Axes3D"
   ]
  },
  {
   "cell_type": "code",
   "execution_count": 8,
   "id": "f150661c-6cbc-4d30-8b39-8d892f347303",
   "metadata": {},
   "outputs": [
    {
     "data": {
      "text/plain": [
       "sklearn.utils._bunch.Bunch"
      ]
     },
     "execution_count": 8,
     "metadata": {},
     "output_type": "execute_result"
    }
   ],
   "source": [
    "iris = datasets.load_iris()\n",
    "type(iris)"
   ]
  },
  {
   "cell_type": "code",
   "execution_count": 11,
   "id": "d7ea26da-2aa5-4295-80a6-750320aa216e",
   "metadata": {},
   "outputs": [],
   "source": [
    "X = iris.data\n",
    "y = iris.target"
   ]
  },
  {
   "cell_type": "code",
   "execution_count": 13,
   "id": "5f5437b2-a412-428c-97ac-b94bd2dfc47c",
   "metadata": {},
   "outputs": [
    {
     "data": {
      "text/plain": [
       "array([[5.1, 3.5, 1.4, 0.2],\n",
       "       [4.9, 3. , 1.4, 0.2],\n",
       "       [4.7, 3.2, 1.3, 0.2],\n",
       "       [4.6, 3.1, 1.5, 0.2],\n",
       "       [5. , 3.6, 1.4, 0.2],\n",
       "       [5.4, 3.9, 1.7, 0.4],\n",
       "       [4.6, 3.4, 1.4, 0.3],\n",
       "       [5. , 3.4, 1.5, 0.2],\n",
       "       [4.4, 2.9, 1.4, 0.2],\n",
       "       [4.9, 3.1, 1.5, 0.1],\n",
       "       [5.4, 3.7, 1.5, 0.2],\n",
       "       [4.8, 3.4, 1.6, 0.2],\n",
       "       [4.8, 3. , 1.4, 0.1],\n",
       "       [4.3, 3. , 1.1, 0.1],\n",
       "       [5.8, 4. , 1.2, 0.2],\n",
       "       [5.7, 4.4, 1.5, 0.4],\n",
       "       [5.4, 3.9, 1.3, 0.4],\n",
       "       [5.1, 3.5, 1.4, 0.3],\n",
       "       [5.7, 3.8, 1.7, 0.3],\n",
       "       [5.1, 3.8, 1.5, 0.3],\n",
       "       [5.4, 3.4, 1.7, 0.2],\n",
       "       [5.1, 3.7, 1.5, 0.4],\n",
       "       [4.6, 3.6, 1. , 0.2],\n",
       "       [5.1, 3.3, 1.7, 0.5],\n",
       "       [4.8, 3.4, 1.9, 0.2],\n",
       "       [5. , 3. , 1.6, 0.2],\n",
       "       [5. , 3.4, 1.6, 0.4],\n",
       "       [5.2, 3.5, 1.5, 0.2],\n",
       "       [5.2, 3.4, 1.4, 0.2],\n",
       "       [4.7, 3.2, 1.6, 0.2],\n",
       "       [4.8, 3.1, 1.6, 0.2],\n",
       "       [5.4, 3.4, 1.5, 0.4],\n",
       "       [5.2, 4.1, 1.5, 0.1],\n",
       "       [5.5, 4.2, 1.4, 0.2],\n",
       "       [4.9, 3.1, 1.5, 0.2],\n",
       "       [5. , 3.2, 1.2, 0.2],\n",
       "       [5.5, 3.5, 1.3, 0.2],\n",
       "       [4.9, 3.6, 1.4, 0.1],\n",
       "       [4.4, 3. , 1.3, 0.2],\n",
       "       [5.1, 3.4, 1.5, 0.2],\n",
       "       [5. , 3.5, 1.3, 0.3],\n",
       "       [4.5, 2.3, 1.3, 0.3],\n",
       "       [4.4, 3.2, 1.3, 0.2],\n",
       "       [5. , 3.5, 1.6, 0.6],\n",
       "       [5.1, 3.8, 1.9, 0.4],\n",
       "       [4.8, 3. , 1.4, 0.3],\n",
       "       [5.1, 3.8, 1.6, 0.2],\n",
       "       [4.6, 3.2, 1.4, 0.2],\n",
       "       [5.3, 3.7, 1.5, 0.2],\n",
       "       [5. , 3.3, 1.4, 0.2],\n",
       "       [7. , 3.2, 4.7, 1.4],\n",
       "       [6.4, 3.2, 4.5, 1.5],\n",
       "       [6.9, 3.1, 4.9, 1.5],\n",
       "       [5.5, 2.3, 4. , 1.3],\n",
       "       [6.5, 2.8, 4.6, 1.5],\n",
       "       [5.7, 2.8, 4.5, 1.3],\n",
       "       [6.3, 3.3, 4.7, 1.6],\n",
       "       [4.9, 2.4, 3.3, 1. ],\n",
       "       [6.6, 2.9, 4.6, 1.3],\n",
       "       [5.2, 2.7, 3.9, 1.4],\n",
       "       [5. , 2. , 3.5, 1. ],\n",
       "       [5.9, 3. , 4.2, 1.5],\n",
       "       [6. , 2.2, 4. , 1. ],\n",
       "       [6.1, 2.9, 4.7, 1.4],\n",
       "       [5.6, 2.9, 3.6, 1.3],\n",
       "       [6.7, 3.1, 4.4, 1.4],\n",
       "       [5.6, 3. , 4.5, 1.5],\n",
       "       [5.8, 2.7, 4.1, 1. ],\n",
       "       [6.2, 2.2, 4.5, 1.5],\n",
       "       [5.6, 2.5, 3.9, 1.1],\n",
       "       [5.9, 3.2, 4.8, 1.8],\n",
       "       [6.1, 2.8, 4. , 1.3],\n",
       "       [6.3, 2.5, 4.9, 1.5],\n",
       "       [6.1, 2.8, 4.7, 1.2],\n",
       "       [6.4, 2.9, 4.3, 1.3],\n",
       "       [6.6, 3. , 4.4, 1.4],\n",
       "       [6.8, 2.8, 4.8, 1.4],\n",
       "       [6.7, 3. , 5. , 1.7],\n",
       "       [6. , 2.9, 4.5, 1.5],\n",
       "       [5.7, 2.6, 3.5, 1. ],\n",
       "       [5.5, 2.4, 3.8, 1.1],\n",
       "       [5.5, 2.4, 3.7, 1. ],\n",
       "       [5.8, 2.7, 3.9, 1.2],\n",
       "       [6. , 2.7, 5.1, 1.6],\n",
       "       [5.4, 3. , 4.5, 1.5],\n",
       "       [6. , 3.4, 4.5, 1.6],\n",
       "       [6.7, 3.1, 4.7, 1.5],\n",
       "       [6.3, 2.3, 4.4, 1.3],\n",
       "       [5.6, 3. , 4.1, 1.3],\n",
       "       [5.5, 2.5, 4. , 1.3],\n",
       "       [5.5, 2.6, 4.4, 1.2],\n",
       "       [6.1, 3. , 4.6, 1.4],\n",
       "       [5.8, 2.6, 4. , 1.2],\n",
       "       [5. , 2.3, 3.3, 1. ],\n",
       "       [5.6, 2.7, 4.2, 1.3],\n",
       "       [5.7, 3. , 4.2, 1.2],\n",
       "       [5.7, 2.9, 4.2, 1.3],\n",
       "       [6.2, 2.9, 4.3, 1.3],\n",
       "       [5.1, 2.5, 3. , 1.1],\n",
       "       [5.7, 2.8, 4.1, 1.3],\n",
       "       [6.3, 3.3, 6. , 2.5],\n",
       "       [5.8, 2.7, 5.1, 1.9],\n",
       "       [7.1, 3. , 5.9, 2.1],\n",
       "       [6.3, 2.9, 5.6, 1.8],\n",
       "       [6.5, 3. , 5.8, 2.2],\n",
       "       [7.6, 3. , 6.6, 2.1],\n",
       "       [4.9, 2.5, 4.5, 1.7],\n",
       "       [7.3, 2.9, 6.3, 1.8],\n",
       "       [6.7, 2.5, 5.8, 1.8],\n",
       "       [7.2, 3.6, 6.1, 2.5],\n",
       "       [6.5, 3.2, 5.1, 2. ],\n",
       "       [6.4, 2.7, 5.3, 1.9],\n",
       "       [6.8, 3. , 5.5, 2.1],\n",
       "       [5.7, 2.5, 5. , 2. ],\n",
       "       [5.8, 2.8, 5.1, 2.4],\n",
       "       [6.4, 3.2, 5.3, 2.3],\n",
       "       [6.5, 3. , 5.5, 1.8],\n",
       "       [7.7, 3.8, 6.7, 2.2],\n",
       "       [7.7, 2.6, 6.9, 2.3],\n",
       "       [6. , 2.2, 5. , 1.5],\n",
       "       [6.9, 3.2, 5.7, 2.3],\n",
       "       [5.6, 2.8, 4.9, 2. ],\n",
       "       [7.7, 2.8, 6.7, 2. ],\n",
       "       [6.3, 2.7, 4.9, 1.8],\n",
       "       [6.7, 3.3, 5.7, 2.1],\n",
       "       [7.2, 3.2, 6. , 1.8],\n",
       "       [6.2, 2.8, 4.8, 1.8],\n",
       "       [6.1, 3. , 4.9, 1.8],\n",
       "       [6.4, 2.8, 5.6, 2.1],\n",
       "       [7.2, 3. , 5.8, 1.6],\n",
       "       [7.4, 2.8, 6.1, 1.9],\n",
       "       [7.9, 3.8, 6.4, 2. ],\n",
       "       [6.4, 2.8, 5.6, 2.2],\n",
       "       [6.3, 2.8, 5.1, 1.5],\n",
       "       [6.1, 2.6, 5.6, 1.4],\n",
       "       [7.7, 3. , 6.1, 2.3],\n",
       "       [6.3, 3.4, 5.6, 2.4],\n",
       "       [6.4, 3.1, 5.5, 1.8],\n",
       "       [6. , 3. , 4.8, 1.8],\n",
       "       [6.9, 3.1, 5.4, 2.1],\n",
       "       [6.7, 3.1, 5.6, 2.4],\n",
       "       [6.9, 3.1, 5.1, 2.3],\n",
       "       [5.8, 2.7, 5.1, 1.9],\n",
       "       [6.8, 3.2, 5.9, 2.3],\n",
       "       [6.7, 3.3, 5.7, 2.5],\n",
       "       [6.7, 3. , 5.2, 2.3],\n",
       "       [6.3, 2.5, 5. , 1.9],\n",
       "       [6.5, 3. , 5.2, 2. ],\n",
       "       [6.2, 3.4, 5.4, 2.3],\n",
       "       [5.9, 3. , 5.1, 1.8]])"
      ]
     },
     "execution_count": 13,
     "metadata": {},
     "output_type": "execute_result"
    }
   ],
   "source": [
    "X"
   ]
  },
  {
   "cell_type": "code",
   "execution_count": 15,
   "id": "9dfa6422-03f1-4e6b-bb27-82d0a9fd23ce",
   "metadata": {},
   "outputs": [
    {
     "data": {
      "text/plain": [
       "array([0, 0, 0, 0, 0, 0, 0, 0, 0, 0, 0, 0, 0, 0, 0, 0, 0, 0, 0, 0, 0, 0,\n",
       "       0, 0, 0, 0, 0, 0, 0, 0, 0, 0, 0, 0, 0, 0, 0, 0, 0, 0, 0, 0, 0, 0,\n",
       "       0, 0, 0, 0, 0, 0, 1, 1, 1, 1, 1, 1, 1, 1, 1, 1, 1, 1, 1, 1, 1, 1,\n",
       "       1, 1, 1, 1, 1, 1, 1, 1, 1, 1, 1, 1, 1, 1, 1, 1, 1, 1, 1, 1, 1, 1,\n",
       "       1, 1, 1, 1, 1, 1, 1, 1, 1, 1, 1, 1, 2, 2, 2, 2, 2, 2, 2, 2, 2, 2,\n",
       "       2, 2, 2, 2, 2, 2, 2, 2, 2, 2, 2, 2, 2, 2, 2, 2, 2, 2, 2, 2, 2, 2,\n",
       "       2, 2, 2, 2, 2, 2, 2, 2, 2, 2, 2, 2, 2, 2, 2, 2, 2, 2])"
      ]
     },
     "execution_count": 15,
     "metadata": {},
     "output_type": "execute_result"
    }
   ],
   "source": [
    "y"
   ]
  },
  {
   "cell_type": "code",
   "execution_count": 21,
   "id": "9d041bc4-00de-4495-9838-2affcfca4d10",
   "metadata": {},
   "outputs": [
    {
     "data": {
      "text/plain": [
       "(150, 4)"
      ]
     },
     "execution_count": 21,
     "metadata": {},
     "output_type": "execute_result"
    }
   ],
   "source": [
    "X.shape # n = 4 - размерность данных"
   ]
  },
  {
   "cell_type": "code",
   "execution_count": 24,
   "id": "3e3f945d-9bce-4cdd-aa12-249890d9c371",
   "metadata": {},
   "outputs": [
    {
     "data": {
      "text/plain": [
       "<Figure size 700x700 with 0 Axes>"
      ]
     },
     "metadata": {},
     "output_type": "display_data"
    }
   ],
   "source": [
    "fig = plt.figure(1, figsize = (7, 7))"
   ]
  },
  {
   "cell_type": "code",
   "execution_count": 25,
   "id": "988bc4f3-2165-4156-bdb5-aa8d029eb377",
   "metadata": {},
   "outputs": [
    {
     "data": {
      "text/plain": [
       "<Figure size 640x480 with 0 Axes>"
      ]
     },
     "metadata": {},
     "output_type": "display_data"
    }
   ],
   "source": [
    "plt.clf()"
   ]
  },
  {
   "cell_type": "code",
   "execution_count": 28,
   "id": "9d07691e-b845-4290-88de-e1205afbf440",
   "metadata": {},
   "outputs": [],
   "source": [
    "ax = Axes3D(fig, rect = [0,0,.95,1], elev=48, azim = 134)\n"
   ]
  },
  {
   "cell_type": "code",
   "execution_count": 29,
   "id": "ff7d31df-9a2c-4544-b031-2ab46500c6a4",
   "metadata": {},
   "outputs": [
    {
     "data": {
      "image/png": "[encoded data removed]",
      "text/plain": [
       "<Figure size 640x480 with 1 Axes>"
      ]
     },
     "metadata": {},
     "output_type": "display_data"
    }
   ],
   "source": [
    "plt.cla()"
   ]
  },
  {
   "cell_type": "code",
   "execution_count": 47,
   "id": "67371591-4514-41c1-8ddc-8aa1d7bee525",
   "metadata": {},
   "outputs": [],
   "source": [
    "from sklearn.tree import DecisionTreeClassifier\n",
    "from sklearn.model_selection import train_test_split\n",
    "from sklearn.metrics import accuracy_score, roc_auc_score"
   ]
  },
  {
   "cell_type": "code",
   "execution_count": 48,
   "id": "b0c4f4a8-9dea-4bde-97ed-4c52818d6004",
   "metadata": {},
   "outputs": [],
   "source": [
    "X_train, X_test, y_train, y_test = train_test_split(X,y, test_size = .3, stratify = y, random_state = 42)"
   ]
  },
  {
   "cell_type": "code",
   "execution_count": 50,
   "id": "951e5ca3-d901-48d3-8dbe-3f06bd268430",
   "metadata": {},
   "outputs": [
    {
     "data": {
      "text/html": [
       "<style>#sk-container-id-2 {color: black;}#sk-container-id-2 pre{padding: 0;}#sk-container-id-2 div.sk-toggleable {background-color: white;}#sk-container-id-2 label.sk-toggleable__label {cursor: pointer;display: block;width: 100%;margin-bottom: 0;padding: 0.3em;box-sizing: border-box;text-align: center;}#sk-container-id-2 label.sk-toggleable__label-arrow:before {content: \"▸\";float: left;margin-right: 0.25em;color: #696969;}#sk-container-id-2 label.sk-toggleable__label-arrow:hover:before {color: black;}#sk-container-id-2 div.sk-estimator:hover label.sk-toggleable__label-arrow:before {color: black;}#sk-container-id-2 div.sk-toggleable__content {max-height: 0;max-width: 0;overflow: hidden;text-align: left;background-color: #f0f8ff;}#sk-container-id-2 div.sk-toggleable__content pre {margin: 0.2em;color: black;border-radius: 0.25em;background-color: #f0f8ff;}#sk-container-id-2 input.sk-toggleable__control:checked~div.sk-toggleable__content {max-height: 200px;max-width: 100%;overflow: auto;}#sk-container-id-2 input.sk-toggleable__control:checked~label.sk-toggleable__label-arrow:before {content: \"▾\";}#sk-container-id-2 div.sk-estimator input.sk-toggleable__control:checked~label.sk-toggleable__label {background-color: #d4ebff;}#sk-container-id-2 div.sk-label input.sk-toggleable__control:checked~label.sk-toggleable__label {background-color: #d4ebff;}#sk-container-id-2 input.sk-hidden--visually {border: 0;clip: rect(1px 1px 1px 1px);clip: rect(1px, 1px, 1px, 1px);height: 1px;margin: -1px;overflow: hidden;padding: 0;position: absolute;width: 1px;}#sk-container-id-2 div.sk-estimator {font-family: monospace;background-color: #f0f8ff;border: 1px dotted black;border-radius: 0.25em;box-sizing: border-box;margin-bottom: 0.5em;}#sk-container-id-2 div.sk-estimator:hover {background-color: #d4ebff;}#sk-container-id-2 div.sk-parallel-item::after {content: \"\";width: 100%;border-bottom: 1px solid gray;flex-grow: 1;}#sk-container-id-2 div.sk-label:hover label.sk-toggleable__label {background-color: #d4ebff;}#sk-container-id-2 div.sk-serial::before {content: \"\";position: absolute;border-left: 1px solid gray;box-sizing: border-box;top: 0;bottom: 0;left: 50%;z-index: 0;}#sk-container-id-2 div.sk-serial {display: flex;flex-direction: column;align-items: center;background-color: white;padding-right: 0.2em;padding-left: 0.2em;position: relative;}#sk-container-id-2 div.sk-item {position: relative;z-index: 1;}#sk-container-id-2 div.sk-parallel {display: flex;align-items: stretch;justify-content: center;background-color: white;position: relative;}#sk-container-id-2 div.sk-item::before, #sk-container-id-2 div.sk-parallel-item::before {content: \"\";position: absolute;border-left: 1px solid gray;box-sizing: border-box;top: 0;bottom: 0;left: 50%;z-index: -1;}#sk-container-id-2 div.sk-parallel-item {display: flex;flex-direction: column;z-index: 1;position: relative;background-color: white;}#sk-container-id-2 div.sk-parallel-item:first-child::after {align-self: flex-end;width: 50%;}#sk-container-id-2 div.sk-parallel-item:last-child::after {align-self: flex-start;width: 50%;}#sk-container-id-2 div.sk-parallel-item:only-child::after {width: 0;}#sk-container-id-2 div.sk-dashed-wrapped {border: 1px dashed gray;margin: 0 0.4em 0.5em 0.4em;box-sizing: border-box;padding-bottom: 0.4em;background-color: white;}#sk-container-id-2 div.sk-label label {font-family: monospace;font-weight: bold;display: inline-block;line-height: 1.2em;}#sk-container-id-2 div.sk-label-container {text-align: center;}#sk-container-id-2 div.sk-container {/* jupyter's `normalize.less` sets `[hidden] { display: none; }` but bootstrap.min.css set `[hidden] { display: none !important; }` so we also need the `!important` here to be able to override the default hidden behavior on the sphinx rendered scikit-learn.org. See: https://github.com/scikit-learn/scikit-learn/issues/21755 */display: inline-block !important;position: relative;}#sk-container-id-2 div.sk-text-repr-fallback {display: none;}</style><div id=\"sk-container-id-2\" class=\"sk-top-container\"><div class=\"sk-text-repr-fallback\"><pre>DecisionTreeClassifier(max_depth=2, random_state=42)</pre><b>In a Jupyter environment, please rerun this cell to show the HTML representation or trust the notebook. <br />On GitHub, the HTML representation is unable to render, please try loading this page with nbviewer.org.</b></div><div class=\"sk-container\" hidden><div class=\"sk-item\"><div class=\"sk-estimator sk-toggleable\"><input class=\"sk-toggleable__control sk-hidden--visually\" id=\"sk-estimator-id-2\" type=\"checkbox\" checked><label for=\"sk-estimator-id-2\" class=\"sk-toggleable__label sk-toggleable__label-arrow\">DecisionTreeClassifier</label><div class=\"sk-toggleable__content\"><pre>DecisionTreeClassifier(max_depth=2, random_state=42)</pre></div></div></div></div></div>"
      ],
      "text/plain": [
       "DecisionTreeClassifier(max_depth=2, random_state=42)"
      ]
     },
     "execution_count": 50,
     "metadata": {},
     "output_type": "execute_result"
    }
   ],
   "source": [
    "clf = DecisionTreeClassifier(max_depth = 2, random_state = 42)\n",
    "clf.fit(X_train, y_train)\n",
    "                             "
   ]
  },
  {
   "cell_type": "code",
   "execution_count": 52,
   "id": "e3584121-0590-4d2d-94a0-bff5f2380c06",
   "metadata": {},
   "outputs": [],
   "source": [
    "pred = clf.predict_proba(X_test)"
   ]
  },
  {
   "cell_type": "code",
   "execution_count": 55,
   "id": "b2cef2fd-2097-4ab1-9633-0337e25a2b6b",
   "metadata": {},
   "outputs": [
    {
     "data": {
      "text/plain": [
       "array([[0.        , 0.05555556, 0.94444444],\n",
       "       [0.        , 0.97058824, 0.02941176],\n",
       "       [0.        , 0.97058824, 0.02941176],\n",
       "       [0.        , 0.05555556, 0.94444444],\n",
       "       [0.        , 0.05555556, 0.94444444],\n",
       "       [0.        , 0.05555556, 0.94444444],\n",
       "       [0.        , 0.97058824, 0.02941176],\n",
       "       [0.        , 0.97058824, 0.02941176],\n",
       "       [1.        , 0.        , 0.        ],\n",
       "       [0.        , 0.05555556, 0.94444444],\n",
       "       [1.        , 0.        , 0.        ],\n",
       "       [1.        , 0.        , 0.        ],\n",
       "       [0.        , 0.05555556, 0.94444444],\n",
       "       [0.        , 0.05555556, 0.94444444],\n",
       "       [1.        , 0.        , 0.        ],\n",
       "       [0.        , 0.05555556, 0.94444444],\n",
       "       [0.        , 0.97058824, 0.02941176],\n",
       "       [1.        , 0.        , 0.        ],\n",
       "       [1.        , 0.        , 0.        ],\n",
       "       [1.        , 0.        , 0.        ],\n",
       "       [0.        , 0.97058824, 0.02941176],\n",
       "       [1.        , 0.        , 0.        ],\n",
       "       [0.        , 0.97058824, 0.02941176],\n",
       "       [0.        , 0.05555556, 0.94444444],\n",
       "       [0.        , 0.05555556, 0.94444444],\n",
       "       [0.        , 0.97058824, 0.02941176],\n",
       "       [0.        , 0.97058824, 0.02941176],\n",
       "       [0.        , 0.97058824, 0.02941176],\n",
       "       [0.        , 0.97058824, 0.02941176],\n",
       "       [1.        , 0.        , 0.        ],\n",
       "       [0.        , 0.97058824, 0.02941176],\n",
       "       [0.        , 0.05555556, 0.94444444],\n",
       "       [0.        , 0.05555556, 0.94444444],\n",
       "       [1.        , 0.        , 0.        ],\n",
       "       [0.        , 0.05555556, 0.94444444],\n",
       "       [1.        , 0.        , 0.        ],\n",
       "       [1.        , 0.        , 0.        ],\n",
       "       [1.        , 0.        , 0.        ],\n",
       "       [1.        , 0.        , 0.        ],\n",
       "       [0.        , 0.05555556, 0.94444444],\n",
       "       [0.        , 0.97058824, 0.02941176],\n",
       "       [1.        , 0.        , 0.        ],\n",
       "       [0.        , 0.05555556, 0.94444444],\n",
       "       [0.        , 0.05555556, 0.94444444],\n",
       "       [0.        , 0.97058824, 0.02941176]])"
      ]
     },
     "execution_count": 55,
     "metadata": {},
     "output_type": "execute_result"
    }
   ],
   "source": [
    "pred"
   ]
  },
  {
   "cell_type": "code",
   "execution_count": 65,
   "id": "a185f452-84e8-4bd7-807b-b33216a43a9c",
   "metadata": {},
   "outputs": [
    {
     "data": {
      "text/plain": [
       "(45, 3)"
      ]
     },
     "execution_count": 65,
     "metadata": {},
     "output_type": "execute_result"
    }
   ],
   "source": [
    "pred.shape"
   ]
  },
  {
   "cell_type": "code",
   "execution_count": 59,
   "id": "a37e555b-8c2c-4de6-84c1-48b6a0e4cbd9",
   "metadata": {},
   "outputs": [
    {
     "name": "stdout",
     "output_type": "stream",
     "text": [
      "Accuracy: 0.88889\n"
     ]
    }
   ],
   "source": [
    "print('Accuracy: {:.5f}'.format( accuracy_score(y_test,  pred.argmax(axis=1)) ) )"
   ]
  },
  {
   "cell_type": "code",
   "execution_count": 62,
   "id": "cdb89b40-571a-48d8-ba10-cffd3a7dc82e",
   "metadata": {},
   "outputs": [
    {
     "data": {
      "text/plain": [
       "0.9714285714285714"
      ]
     },
     "execution_count": 62,
     "metadata": {},
     "output_type": "execute_result"
    }
   ],
   "source": [
    "clf.score(X_train, y_train)"
   ]
  },
  {
   "cell_type": "code",
   "execution_count": 66,
   "id": "89880027-5740-4fcd-967a-3497c4246a19",
   "metadata": {},
   "outputs": [
    {
     "data": {
      "text/plain": [
       "array([2, 1, 1, 2, 2, 2, 1, 1, 0, 2, 0, 0, 2, 2, 0, 2, 1, 0, 0, 0, 1, 0,\n",
       "       1, 2, 2, 1, 1, 1, 1, 0, 1, 2, 2, 0, 2, 0, 0, 0, 0, 2, 1, 0, 2, 2,\n",
       "       1])"
      ]
     },
     "execution_count": 66,
     "metadata": {},
     "output_type": "execute_result"
    }
   ],
   "source": [
    "pred_pred = clf.predict(X_test)\n",
    "pred_pred"
   ]
  },
  {
   "cell_type": "code",
   "execution_count": 68,
   "id": "0fc9933f-4874-4c00-8b63-ccd38f9d7c0e",
   "metadata": {},
   "outputs": [
    {
     "data": {
      "text/plain": [
       "(45,)"
      ]
     },
     "execution_count": 68,
     "metadata": {},
     "output_type": "execute_result"
    }
   ],
   "source": [
    "pred_pred.shape"
   ]
  },
  {
   "cell_type": "markdown",
   "id": "5710cc2d-0490-4a12-8585-8e460abeb723",
   "metadata": {},
   "source": [
    "## Зафиксируем score 0.88889. Далее снизим размерность до k =2 "
   ]
  },
  {
   "cell_type": "code",
   "execution_count": 71,
   "id": "9bd343f1-afe9-4b2c-8428-65c6fe3bf8f3",
   "metadata": {},
   "outputs": [
    {
     "data": {
      "text/plain": [
       "array([[5.1, 3.5, 1.4, 0.2],\n",
       "       [4.9, 3. , 1.4, 0.2],\n",
       "       [4.7, 3.2, 1.3, 0.2],\n",
       "       [4.6, 3.1, 1.5, 0.2],\n",
       "       [5. , 3.6, 1.4, 0.2],\n",
       "       [5.4, 3.9, 1.7, 0.4],\n",
       "       [4.6, 3.4, 1.4, 0.3],\n",
       "       [5. , 3.4, 1.5, 0.2],\n",
       "       [4.4, 2.9, 1.4, 0.2],\n",
       "       [4.9, 3.1, 1.5, 0.1],\n",
       "       [5.4, 3.7, 1.5, 0.2],\n",
       "       [4.8, 3.4, 1.6, 0.2],\n",
       "       [4.8, 3. , 1.4, 0.1],\n",
       "       [4.3, 3. , 1.1, 0.1],\n",
       "       [5.8, 4. , 1.2, 0.2],\n",
       "       [5.7, 4.4, 1.5, 0.4],\n",
       "       [5.4, 3.9, 1.3, 0.4],\n",
       "       [5.1, 3.5, 1.4, 0.3],\n",
       "       [5.7, 3.8, 1.7, 0.3],\n",
       "       [5.1, 3.8, 1.5, 0.3],\n",
       "       [5.4, 3.4, 1.7, 0.2],\n",
       "       [5.1, 3.7, 1.5, 0.4],\n",
       "       [4.6, 3.6, 1. , 0.2],\n",
       "       [5.1, 3.3, 1.7, 0.5],\n",
       "       [4.8, 3.4, 1.9, 0.2],\n",
       "       [5. , 3. , 1.6, 0.2],\n",
       "       [5. , 3.4, 1.6, 0.4],\n",
       "       [5.2, 3.5, 1.5, 0.2],\n",
       "       [5.2, 3.4, 1.4, 0.2],\n",
       "       [4.7, 3.2, 1.6, 0.2],\n",
       "       [4.8, 3.1, 1.6, 0.2],\n",
       "       [5.4, 3.4, 1.5, 0.4],\n",
       "       [5.2, 4.1, 1.5, 0.1],\n",
       "       [5.5, 4.2, 1.4, 0.2],\n",
       "       [4.9, 3.1, 1.5, 0.2],\n",
       "       [5. , 3.2, 1.2, 0.2],\n",
       "       [5.5, 3.5, 1.3, 0.2],\n",
       "       [4.9, 3.6, 1.4, 0.1],\n",
       "       [4.4, 3. , 1.3, 0.2],\n",
       "       [5.1, 3.4, 1.5, 0.2],\n",
       "       [5. , 3.5, 1.3, 0.3],\n",
       "       [4.5, 2.3, 1.3, 0.3],\n",
       "       [4.4, 3.2, 1.3, 0.2],\n",
       "       [5. , 3.5, 1.6, 0.6],\n",
       "       [5.1, 3.8, 1.9, 0.4],\n",
       "       [4.8, 3. , 1.4, 0.3],\n",
       "       [5.1, 3.8, 1.6, 0.2],\n",
       "       [4.6, 3.2, 1.4, 0.2],\n",
       "       [5.3, 3.7, 1.5, 0.2],\n",
       "       [5. , 3.3, 1.4, 0.2],\n",
       "       [7. , 3.2, 4.7, 1.4],\n",
       "       [6.4, 3.2, 4.5, 1.5],\n",
       "       [6.9, 3.1, 4.9, 1.5],\n",
       "       [5.5, 2.3, 4. , 1.3],\n",
       "       [6.5, 2.8, 4.6, 1.5],\n",
       "       [5.7, 2.8, 4.5, 1.3],\n",
       "       [6.3, 3.3, 4.7, 1.6],\n",
       "       [4.9, 2.4, 3.3, 1. ],\n",
       "       [6.6, 2.9, 4.6, 1.3],\n",
       "       [5.2, 2.7, 3.9, 1.4],\n",
       "       [5. , 2. , 3.5, 1. ],\n",
       "       [5.9, 3. , 4.2, 1.5],\n",
       "       [6. , 2.2, 4. , 1. ],\n",
       "       [6.1, 2.9, 4.7, 1.4],\n",
       "       [5.6, 2.9, 3.6, 1.3],\n",
       "       [6.7, 3.1, 4.4, 1.4],\n",
       "       [5.6, 3. , 4.5, 1.5],\n",
       "       [5.8, 2.7, 4.1, 1. ],\n",
       "       [6.2, 2.2, 4.5, 1.5],\n",
       "       [5.6, 2.5, 3.9, 1.1],\n",
       "       [5.9, 3.2, 4.8, 1.8],\n",
       "       [6.1, 2.8, 4. , 1.3],\n",
       "       [6.3, 2.5, 4.9, 1.5],\n",
       "       [6.1, 2.8, 4.7, 1.2],\n",
       "       [6.4, 2.9, 4.3, 1.3],\n",
       "       [6.6, 3. , 4.4, 1.4],\n",
       "       [6.8, 2.8, 4.8, 1.4],\n",
       "       [6.7, 3. , 5. , 1.7],\n",
       "       [6. , 2.9, 4.5, 1.5],\n",
       "       [5.7, 2.6, 3.5, 1. ],\n",
       "       [5.5, 2.4, 3.8, 1.1],\n",
       "       [5.5, 2.4, 3.7, 1. ],\n",
       "       [5.8, 2.7, 3.9, 1.2],\n",
       "       [6. , 2.7, 5.1, 1.6],\n",
       "       [5.4, 3. , 4.5, 1.5],\n",
       "       [6. , 3.4, 4.5, 1.6],\n",
       "       [6.7, 3.1, 4.7, 1.5],\n",
       "       [6.3, 2.3, 4.4, 1.3],\n",
       "       [5.6, 3. , 4.1, 1.3],\n",
       "       [5.5, 2.5, 4. , 1.3],\n",
       "       [5.5, 2.6, 4.4, 1.2],\n",
       "       [6.1, 3. , 4.6, 1.4],\n",
       "       [5.8, 2.6, 4. , 1.2],\n",
       "       [5. , 2.3, 3.3, 1. ],\n",
       "       [5.6, 2.7, 4.2, 1.3],\n",
       "       [5.7, 3. , 4.2, 1.2],\n",
       "       [5.7, 2.9, 4.2, 1.3],\n",
       "       [6.2, 2.9, 4.3, 1.3],\n",
       "       [5.1, 2.5, 3. , 1.1],\n",
       "       [5.7, 2.8, 4.1, 1.3],\n",
       "       [6.3, 3.3, 6. , 2.5],\n",
       "       [5.8, 2.7, 5.1, 1.9],\n",
       "       [7.1, 3. , 5.9, 2.1],\n",
       "       [6.3, 2.9, 5.6, 1.8],\n",
       "       [6.5, 3. , 5.8, 2.2],\n",
       "       [7.6, 3. , 6.6, 2.1],\n",
       "       [4.9, 2.5, 4.5, 1.7],\n",
       "       [7.3, 2.9, 6.3, 1.8],\n",
       "       [6.7, 2.5, 5.8, 1.8],\n",
       "       [7.2, 3.6, 6.1, 2.5],\n",
       "       [6.5, 3.2, 5.1, 2. ],\n",
       "       [6.4, 2.7, 5.3, 1.9],\n",
       "       [6.8, 3. , 5.5, 2.1],\n",
       "       [5.7, 2.5, 5. , 2. ],\n",
       "       [5.8, 2.8, 5.1, 2.4],\n",
       "       [6.4, 3.2, 5.3, 2.3],\n",
       "       [6.5, 3. , 5.5, 1.8],\n",
       "       [7.7, 3.8, 6.7, 2.2],\n",
       "       [7.7, 2.6, 6.9, 2.3],\n",
       "       [6. , 2.2, 5. , 1.5],\n",
       "       [6.9, 3.2, 5.7, 2.3],\n",
       "       [5.6, 2.8, 4.9, 2. ],\n",
       "       [7.7, 2.8, 6.7, 2. ],\n",
       "       [6.3, 2.7, 4.9, 1.8],\n",
       "       [6.7, 3.3, 5.7, 2.1],\n",
       "       [7.2, 3.2, 6. , 1.8],\n",
       "       [6.2, 2.8, 4.8, 1.8],\n",
       "       [6.1, 3. , 4.9, 1.8],\n",
       "       [6.4, 2.8, 5.6, 2.1],\n",
       "       [7.2, 3. , 5.8, 1.6],\n",
       "       [7.4, 2.8, 6.1, 1.9],\n",
       "       [7.9, 3.8, 6.4, 2. ],\n",
       "       [6.4, 2.8, 5.6, 2.2],\n",
       "       [6.3, 2.8, 5.1, 1.5],\n",
       "       [6.1, 2.6, 5.6, 1.4],\n",
       "       [7.7, 3. , 6.1, 2.3],\n",
       "       [6.3, 3.4, 5.6, 2.4],\n",
       "       [6.4, 3.1, 5.5, 1.8],\n",
       "       [6. , 3. , 4.8, 1.8],\n",
       "       [6.9, 3.1, 5.4, 2.1],\n",
       "       [6.7, 3.1, 5.6, 2.4],\n",
       "       [6.9, 3.1, 5.1, 2.3],\n",
       "       [5.8, 2.7, 5.1, 1.9],\n",
       "       [6.8, 3.2, 5.9, 2.3],\n",
       "       [6.7, 3.3, 5.7, 2.5],\n",
       "       [6.7, 3. , 5.2, 2.3],\n",
       "       [6.3, 2.5, 5. , 1.9],\n",
       "       [6.5, 3. , 5.2, 2. ],\n",
       "       [6.2, 3.4, 5.4, 2.3],\n",
       "       [5.9, 3. , 5.1, 1.8]])"
      ]
     },
     "execution_count": 71,
     "metadata": {},
     "output_type": "execute_result"
    }
   ],
   "source": [
    "X"
   ]
  },
  {
   "cell_type": "code",
   "execution_count": 70,
   "id": "4c1976db-5a21-4e8e-a801-f974a06c10fa",
   "metadata": {},
   "outputs": [
    {
     "data": {
      "text/plain": [
       "array([5.84333333, 3.05733333, 3.758     , 1.19933333])"
      ]
     },
     "execution_count": 70,
     "metadata": {},
     "output_type": "execute_result"
    }
   ],
   "source": [
    "X.mean(axis=0)"
   ]
  },
  {
   "cell_type": "code",
   "execution_count": 73,
   "id": "49546de5-f267-471a-a219-37b11d6df222",
   "metadata": {},
   "outputs": [
    {
     "data": {
      "text/plain": [
       "array([[-7.43333333e-01,  4.42666667e-01, -2.35800000e+00,\n",
       "        -9.99333333e-01],\n",
       "       [-9.43333333e-01, -5.73333333e-02, -2.35800000e+00,\n",
       "        -9.99333333e-01],\n",
       "       [-1.14333333e+00,  1.42666667e-01, -2.45800000e+00,\n",
       "        -9.99333333e-01],\n",
       "       [-1.24333333e+00,  4.26666667e-02, -2.25800000e+00,\n",
       "        -9.99333333e-01],\n",
       "       [-8.43333333e-01,  5.42666667e-01, -2.35800000e+00,\n",
       "        -9.99333333e-01],\n",
       "       [-4.43333333e-01,  8.42666667e-01, -2.05800000e+00,\n",
       "        -7.99333333e-01],\n",
       "       [-1.24333333e+00,  3.42666667e-01, -2.35800000e+00,\n",
       "        -8.99333333e-01],\n",
       "       [-8.43333333e-01,  3.42666667e-01, -2.25800000e+00,\n",
       "        -9.99333333e-01],\n",
       "       [-1.44333333e+00, -1.57333333e-01, -2.35800000e+00,\n",
       "        -9.99333333e-01],\n",
       "       [-9.43333333e-01,  4.26666667e-02, -2.25800000e+00,\n",
       "        -1.09933333e+00],\n",
       "       [-4.43333333e-01,  6.42666667e-01, -2.25800000e+00,\n",
       "        -9.99333333e-01],\n",
       "       [-1.04333333e+00,  3.42666667e-01, -2.15800000e+00,\n",
       "        -9.99333333e-01],\n",
       "       [-1.04333333e+00, -5.73333333e-02, -2.35800000e+00,\n",
       "        -1.09933333e+00],\n",
       "       [-1.54333333e+00, -5.73333333e-02, -2.65800000e+00,\n",
       "        -1.09933333e+00],\n",
       "       [-4.33333333e-02,  9.42666667e-01, -2.55800000e+00,\n",
       "        -9.99333333e-01],\n",
       "       [-1.43333333e-01,  1.34266667e+00, -2.25800000e+00,\n",
       "        -7.99333333e-01],\n",
       "       [-4.43333333e-01,  8.42666667e-01, -2.45800000e+00,\n",
       "        -7.99333333e-01],\n",
       "       [-7.43333333e-01,  4.42666667e-01, -2.35800000e+00,\n",
       "        -8.99333333e-01],\n",
       "       [-1.43333333e-01,  7.42666667e-01, -2.05800000e+00,\n",
       "        -8.99333333e-01],\n",
       "       [-7.43333333e-01,  7.42666667e-01, -2.25800000e+00,\n",
       "        -8.99333333e-01],\n",
       "       [-4.43333333e-01,  3.42666667e-01, -2.05800000e+00,\n",
       "        -9.99333333e-01],\n",
       "       [-7.43333333e-01,  6.42666667e-01, -2.25800000e+00,\n",
       "        -7.99333333e-01],\n",
       "       [-1.24333333e+00,  5.42666667e-01, -2.75800000e+00,\n",
       "        -9.99333333e-01],\n",
       "       [-7.43333333e-01,  2.42666667e-01, -2.05800000e+00,\n",
       "        -6.99333333e-01],\n",
       "       [-1.04333333e+00,  3.42666667e-01, -1.85800000e+00,\n",
       "        -9.99333333e-01],\n",
       "       [-8.43333333e-01, -5.73333333e-02, -2.15800000e+00,\n",
       "        -9.99333333e-01],\n",
       "       [-8.43333333e-01,  3.42666667e-01, -2.15800000e+00,\n",
       "        -7.99333333e-01],\n",
       "       [-6.43333333e-01,  4.42666667e-01, -2.25800000e+00,\n",
       "        -9.99333333e-01],\n",
       "       [-6.43333333e-01,  3.42666667e-01, -2.35800000e+00,\n",
       "        -9.99333333e-01],\n",
       "       [-1.14333333e+00,  1.42666667e-01, -2.15800000e+00,\n",
       "        -9.99333333e-01],\n",
       "       [-1.04333333e+00,  4.26666667e-02, -2.15800000e+00,\n",
       "        -9.99333333e-01],\n",
       "       [-4.43333333e-01,  3.42666667e-01, -2.25800000e+00,\n",
       "        -7.99333333e-01],\n",
       "       [-6.43333333e-01,  1.04266667e+00, -2.25800000e+00,\n",
       "        -1.09933333e+00],\n",
       "       [-3.43333333e-01,  1.14266667e+00, -2.35800000e+00,\n",
       "        -9.99333333e-01],\n",
       "       [-9.43333333e-01,  4.26666667e-02, -2.25800000e+00,\n",
       "        -9.99333333e-01],\n",
       "       [-8.43333333e-01,  1.42666667e-01, -2.55800000e+00,\n",
       "        -9.99333333e-01],\n",
       "       [-3.43333333e-01,  4.42666667e-01, -2.45800000e+00,\n",
       "        -9.99333333e-01],\n",
       "       [-9.43333333e-01,  5.42666667e-01, -2.35800000e+00,\n",
       "        -1.09933333e+00],\n",
       "       [-1.44333333e+00, -5.73333333e-02, -2.45800000e+00,\n",
       "        -9.99333333e-01],\n",
       "       [-7.43333333e-01,  3.42666667e-01, -2.25800000e+00,\n",
       "        -9.99333333e-01],\n",
       "       [-8.43333333e-01,  4.42666667e-01, -2.45800000e+00,\n",
       "        -8.99333333e-01],\n",
       "       [-1.34333333e+00, -7.57333333e-01, -2.45800000e+00,\n",
       "        -8.99333333e-01],\n",
       "       [-1.44333333e+00,  1.42666667e-01, -2.45800000e+00,\n",
       "        -9.99333333e-01],\n",
       "       [-8.43333333e-01,  4.42666667e-01, -2.15800000e+00,\n",
       "        -5.99333333e-01],\n",
       "       [-7.43333333e-01,  7.42666667e-01, -1.85800000e+00,\n",
       "        -7.99333333e-01],\n",
       "       [-1.04333333e+00, -5.73333333e-02, -2.35800000e+00,\n",
       "        -8.99333333e-01],\n",
       "       [-7.43333333e-01,  7.42666667e-01, -2.15800000e+00,\n",
       "        -9.99333333e-01],\n",
       "       [-1.24333333e+00,  1.42666667e-01, -2.35800000e+00,\n",
       "        -9.99333333e-01],\n",
       "       [-5.43333333e-01,  6.42666667e-01, -2.25800000e+00,\n",
       "        -9.99333333e-01],\n",
       "       [-8.43333333e-01,  2.42666667e-01, -2.35800000e+00,\n",
       "        -9.99333333e-01],\n",
       "       [ 1.15666667e+00,  1.42666667e-01,  9.42000000e-01,\n",
       "         2.00666667e-01],\n",
       "       [ 5.56666667e-01,  1.42666667e-01,  7.42000000e-01,\n",
       "         3.00666667e-01],\n",
       "       [ 1.05666667e+00,  4.26666667e-02,  1.14200000e+00,\n",
       "         3.00666667e-01],\n",
       "       [-3.43333333e-01, -7.57333333e-01,  2.42000000e-01,\n",
       "         1.00666667e-01],\n",
       "       [ 6.56666667e-01, -2.57333333e-01,  8.42000000e-01,\n",
       "         3.00666667e-01],\n",
       "       [-1.43333333e-01, -2.57333333e-01,  7.42000000e-01,\n",
       "         1.00666667e-01],\n",
       "       [ 4.56666667e-01,  2.42666667e-01,  9.42000000e-01,\n",
       "         4.00666667e-01],\n",
       "       [-9.43333333e-01, -6.57333333e-01, -4.58000000e-01,\n",
       "        -1.99333333e-01],\n",
       "       [ 7.56666667e-01, -1.57333333e-01,  8.42000000e-01,\n",
       "         1.00666667e-01],\n",
       "       [-6.43333333e-01, -3.57333333e-01,  1.42000000e-01,\n",
       "         2.00666667e-01],\n",
       "       [-8.43333333e-01, -1.05733333e+00, -2.58000000e-01,\n",
       "        -1.99333333e-01],\n",
       "       [ 5.66666667e-02, -5.73333333e-02,  4.42000000e-01,\n",
       "         3.00666667e-01],\n",
       "       [ 1.56666667e-01, -8.57333333e-01,  2.42000000e-01,\n",
       "        -1.99333333e-01],\n",
       "       [ 2.56666667e-01, -1.57333333e-01,  9.42000000e-01,\n",
       "         2.00666667e-01],\n",
       "       [-2.43333333e-01, -1.57333333e-01, -1.58000000e-01,\n",
       "         1.00666667e-01],\n",
       "       [ 8.56666667e-01,  4.26666667e-02,  6.42000000e-01,\n",
       "         2.00666667e-01],\n",
       "       [-2.43333333e-01, -5.73333333e-02,  7.42000000e-01,\n",
       "         3.00666667e-01],\n",
       "       [-4.33333333e-02, -3.57333333e-01,  3.42000000e-01,\n",
       "        -1.99333333e-01],\n",
       "       [ 3.56666667e-01, -8.57333333e-01,  7.42000000e-01,\n",
       "         3.00666667e-01],\n",
       "       [-2.43333333e-01, -5.57333333e-01,  1.42000000e-01,\n",
       "        -9.93333333e-02],\n",
       "       [ 5.66666667e-02,  1.42666667e-01,  1.04200000e+00,\n",
       "         6.00666667e-01],\n",
       "       [ 2.56666667e-01, -2.57333333e-01,  2.42000000e-01,\n",
       "         1.00666667e-01],\n",
       "       [ 4.56666667e-01, -5.57333333e-01,  1.14200000e+00,\n",
       "         3.00666667e-01],\n",
       "       [ 2.56666667e-01, -2.57333333e-01,  9.42000000e-01,\n",
       "         6.66666667e-04],\n",
       "       [ 5.56666667e-01, -1.57333333e-01,  5.42000000e-01,\n",
       "         1.00666667e-01],\n",
       "       [ 7.56666667e-01, -5.73333333e-02,  6.42000000e-01,\n",
       "         2.00666667e-01],\n",
       "       [ 9.56666667e-01, -2.57333333e-01,  1.04200000e+00,\n",
       "         2.00666667e-01],\n",
       "       [ 8.56666667e-01, -5.73333333e-02,  1.24200000e+00,\n",
       "         5.00666667e-01],\n",
       "       [ 1.56666667e-01, -1.57333333e-01,  7.42000000e-01,\n",
       "         3.00666667e-01],\n",
       "       [-1.43333333e-01, -4.57333333e-01, -2.58000000e-01,\n",
       "        -1.99333333e-01],\n",
       "       [-3.43333333e-01, -6.57333333e-01,  4.20000000e-02,\n",
       "        -9.93333333e-02],\n",
       "       [-3.43333333e-01, -6.57333333e-01, -5.80000000e-02,\n",
       "        -1.99333333e-01],\n",
       "       [-4.33333333e-02, -3.57333333e-01,  1.42000000e-01,\n",
       "         6.66666667e-04],\n",
       "       [ 1.56666667e-01, -3.57333333e-01,  1.34200000e+00,\n",
       "         4.00666667e-01],\n",
       "       [-4.43333333e-01, -5.73333333e-02,  7.42000000e-01,\n",
       "         3.00666667e-01],\n",
       "       [ 1.56666667e-01,  3.42666667e-01,  7.42000000e-01,\n",
       "         4.00666667e-01],\n",
       "       [ 8.56666667e-01,  4.26666667e-02,  9.42000000e-01,\n",
       "         3.00666667e-01],\n",
       "       [ 4.56666667e-01, -7.57333333e-01,  6.42000000e-01,\n",
       "         1.00666667e-01],\n",
       "       [-2.43333333e-01, -5.73333333e-02,  3.42000000e-01,\n",
       "         1.00666667e-01],\n",
       "       [-3.43333333e-01, -5.57333333e-01,  2.42000000e-01,\n",
       "         1.00666667e-01],\n",
       "       [-3.43333333e-01, -4.57333333e-01,  6.42000000e-01,\n",
       "         6.66666667e-04],\n",
       "       [ 2.56666667e-01, -5.73333333e-02,  8.42000000e-01,\n",
       "         2.00666667e-01],\n",
       "       [-4.33333333e-02, -4.57333333e-01,  2.42000000e-01,\n",
       "         6.66666667e-04],\n",
       "       [-8.43333333e-01, -7.57333333e-01, -4.58000000e-01,\n",
       "        -1.99333333e-01],\n",
       "       [-2.43333333e-01, -3.57333333e-01,  4.42000000e-01,\n",
       "         1.00666667e-01],\n",
       "       [-1.43333333e-01, -5.73333333e-02,  4.42000000e-01,\n",
       "         6.66666667e-04],\n",
       "       [-1.43333333e-01, -1.57333333e-01,  4.42000000e-01,\n",
       "         1.00666667e-01],\n",
       "       [ 3.56666667e-01, -1.57333333e-01,  5.42000000e-01,\n",
       "         1.00666667e-01],\n",
       "       [-7.43333333e-01, -5.57333333e-01, -7.58000000e-01,\n",
       "        -9.93333333e-02],\n",
       "       [-1.43333333e-01, -2.57333333e-01,  3.42000000e-01,\n",
       "         1.00666667e-01],\n",
       "       [ 4.56666667e-01,  2.42666667e-01,  2.24200000e+00,\n",
       "         1.30066667e+00],\n",
       "       [-4.33333333e-02, -3.57333333e-01,  1.34200000e+00,\n",
       "         7.00666667e-01],\n",
       "       [ 1.25666667e+00, -5.73333333e-02,  2.14200000e+00,\n",
       "         9.00666667e-01],\n",
       "       [ 4.56666667e-01, -1.57333333e-01,  1.84200000e+00,\n",
       "         6.00666667e-01],\n",
       "       [ 6.56666667e-01, -5.73333333e-02,  2.04200000e+00,\n",
       "         1.00066667e+00],\n",
       "       [ 1.75666667e+00, -5.73333333e-02,  2.84200000e+00,\n",
       "         9.00666667e-01],\n",
       "       [-9.43333333e-01, -5.57333333e-01,  7.42000000e-01,\n",
       "         5.00666667e-01],\n",
       "       [ 1.45666667e+00, -1.57333333e-01,  2.54200000e+00,\n",
       "         6.00666667e-01],\n",
       "       [ 8.56666667e-01, -5.57333333e-01,  2.04200000e+00,\n",
       "         6.00666667e-01],\n",
       "       [ 1.35666667e+00,  5.42666667e-01,  2.34200000e+00,\n",
       "         1.30066667e+00],\n",
       "       [ 6.56666667e-01,  1.42666667e-01,  1.34200000e+00,\n",
       "         8.00666667e-01],\n",
       "       [ 5.56666667e-01, -3.57333333e-01,  1.54200000e+00,\n",
       "         7.00666667e-01],\n",
       "       [ 9.56666667e-01, -5.73333333e-02,  1.74200000e+00,\n",
       "         9.00666667e-01],\n",
       "       [-1.43333333e-01, -5.57333333e-01,  1.24200000e+00,\n",
       "         8.00666667e-01],\n",
       "       [-4.33333333e-02, -2.57333333e-01,  1.34200000e+00,\n",
       "         1.20066667e+00],\n",
       "       [ 5.56666667e-01,  1.42666667e-01,  1.54200000e+00,\n",
       "         1.10066667e+00],\n",
       "       [ 6.56666667e-01, -5.73333333e-02,  1.74200000e+00,\n",
       "         6.00666667e-01],\n",
       "       [ 1.85666667e+00,  7.42666667e-01,  2.94200000e+00,\n",
       "         1.00066667e+00],\n",
       "       [ 1.85666667e+00, -4.57333333e-01,  3.14200000e+00,\n",
       "         1.10066667e+00],\n",
       "       [ 1.56666667e-01, -8.57333333e-01,  1.24200000e+00,\n",
       "         3.00666667e-01],\n",
       "       [ 1.05666667e+00,  1.42666667e-01,  1.94200000e+00,\n",
       "         1.10066667e+00],\n",
       "       [-2.43333333e-01, -2.57333333e-01,  1.14200000e+00,\n",
       "         8.00666667e-01],\n",
       "       [ 1.85666667e+00, -2.57333333e-01,  2.94200000e+00,\n",
       "         8.00666667e-01],\n",
       "       [ 4.56666667e-01, -3.57333333e-01,  1.14200000e+00,\n",
       "         6.00666667e-01],\n",
       "       [ 8.56666667e-01,  2.42666667e-01,  1.94200000e+00,\n",
       "         9.00666667e-01],\n",
       "       [ 1.35666667e+00,  1.42666667e-01,  2.24200000e+00,\n",
       "         6.00666667e-01],\n",
       "       [ 3.56666667e-01, -2.57333333e-01,  1.04200000e+00,\n",
       "         6.00666667e-01],\n",
       "       [ 2.56666667e-01, -5.73333333e-02,  1.14200000e+00,\n",
       "         6.00666667e-01],\n",
       "       [ 5.56666667e-01, -2.57333333e-01,  1.84200000e+00,\n",
       "         9.00666667e-01],\n",
       "       [ 1.35666667e+00, -5.73333333e-02,  2.04200000e+00,\n",
       "         4.00666667e-01],\n",
       "       [ 1.55666667e+00, -2.57333333e-01,  2.34200000e+00,\n",
       "         7.00666667e-01],\n",
       "       [ 2.05666667e+00,  7.42666667e-01,  2.64200000e+00,\n",
       "         8.00666667e-01],\n",
       "       [ 5.56666667e-01, -2.57333333e-01,  1.84200000e+00,\n",
       "         1.00066667e+00],\n",
       "       [ 4.56666667e-01, -2.57333333e-01,  1.34200000e+00,\n",
       "         3.00666667e-01],\n",
       "       [ 2.56666667e-01, -4.57333333e-01,  1.84200000e+00,\n",
       "         2.00666667e-01],\n",
       "       [ 1.85666667e+00, -5.73333333e-02,  2.34200000e+00,\n",
       "         1.10066667e+00],\n",
       "       [ 4.56666667e-01,  3.42666667e-01,  1.84200000e+00,\n",
       "         1.20066667e+00],\n",
       "       [ 5.56666667e-01,  4.26666667e-02,  1.74200000e+00,\n",
       "         6.00666667e-01],\n",
       "       [ 1.56666667e-01, -5.73333333e-02,  1.04200000e+00,\n",
       "         6.00666667e-01],\n",
       "       [ 1.05666667e+00,  4.26666667e-02,  1.64200000e+00,\n",
       "         9.00666667e-01],\n",
       "       [ 8.56666667e-01,  4.26666667e-02,  1.84200000e+00,\n",
       "         1.20066667e+00],\n",
       "       [ 1.05666667e+00,  4.26666667e-02,  1.34200000e+00,\n",
       "         1.10066667e+00],\n",
       "       [-4.33333333e-02, -3.57333333e-01,  1.34200000e+00,\n",
       "         7.00666667e-01],\n",
       "       [ 9.56666667e-01,  1.42666667e-01,  2.14200000e+00,\n",
       "         1.10066667e+00],\n",
       "       [ 8.56666667e-01,  2.42666667e-01,  1.94200000e+00,\n",
       "         1.30066667e+00],\n",
       "       [ 8.56666667e-01, -5.73333333e-02,  1.44200000e+00,\n",
       "         1.10066667e+00],\n",
       "       [ 4.56666667e-01, -5.57333333e-01,  1.24200000e+00,\n",
       "         7.00666667e-01],\n",
       "       [ 6.56666667e-01, -5.73333333e-02,  1.44200000e+00,\n",
       "         8.00666667e-01],\n",
       "       [ 3.56666667e-01,  3.42666667e-01,  1.64200000e+00,\n",
       "         1.10066667e+00],\n",
       "       [ 5.66666667e-02, -5.73333333e-02,  1.34200000e+00,\n",
       "         6.00666667e-01]])"
      ]
     },
     "execution_count": 73,
     "metadata": {},
     "output_type": "execute_result"
    }
   ],
   "source": [
    "X_centered = X - X.mean(axis=0)\n",
    "X_centered"
   ]
  },
  {
   "cell_type": "code",
   "execution_count": 69,
   "id": "73f26c50-69d0-4850-bfc3-aff23cd19b13",
   "metadata": {},
   "outputs": [
    {
     "data": {
      "image/png": "[encoded data removed]",
      "text/plain": [
       "<Figure size 640x480 with 1 Axes>"
      ]
     },
     "metadata": {},
     "output_type": "display_data"
    }
   ],
   "source": [
    "# Прогоним встроенный в sklearn PCA\n",
    "pca = decomposition.PCA(n_components=2)\n",
    "# Центрируем данные\n",
    "X_centered = X - X.mean(axis=0)\n",
    "pca.fit(X_centered)\n",
    "X_pca = pca.transform(X_centered)\n",
    "\n",
    "# И нарисуем получившиеся точки в нашем новом пространстве\n",
    "plt.plot(X_pca[y == 0, 0], X_pca[y == 0, 1], 'bo', label='Setosa')\n",
    "plt.plot(X_pca[y == 1, 0], X_pca[y == 1, 1], 'go', label='Versicolour')\n",
    "plt.plot(X_pca[y == 2, 0], X_pca[y == 2, 1], 'ro', label='Virginica')\n",
    "plt.legend(loc=0);"
   ]
  },
  {
   "cell_type": "code",
   "execution_count": 75,
   "id": "72788a70-0b1f-4666-994f-0f3a7d6f81c8",
   "metadata": {},
   "outputs": [],
   "source": [
    "X_train, X_test, y_train, y_test = train_test_split(X_pca, y, test_size = .3, stratify = y, random_state = 42)"
   ]
  },
  {
   "cell_type": "code",
   "execution_count": 77,
   "id": "3cb37ddf-ec03-4ce1-b271-b5422ca3e149",
   "metadata": {},
   "outputs": [],
   "source": [
    "clf = DecisionTreeClassifier(max_depth = 2, random_state = 42)"
   ]
  },
  {
   "cell_type": "code",
   "execution_count": 78,
   "id": "678a6cda-d047-4b5f-808c-cc728fdee7e6",
   "metadata": {},
   "outputs": [
    {
     "data": {
      "text/html": [
       "<style>#sk-container-id-3 {color: black;}#sk-container-id-3 pre{padding: 0;}#sk-container-id-3 div.sk-toggleable {background-color: white;}#sk-container-id-3 label.sk-toggleable__label {cursor: pointer;display: block;width: 100%;margin-bottom: 0;padding: 0.3em;box-sizing: border-box;text-align: center;}#sk-container-id-3 label.sk-toggleable__label-arrow:before {content: \"▸\";float: left;margin-right: 0.25em;color: #696969;}#sk-container-id-3 label.sk-toggleable__label-arrow:hover:before {color: black;}#sk-container-id-3 div.sk-estimator:hover label.sk-toggleable__label-arrow:before {color: black;}#sk-container-id-3 div.sk-toggleable__content {max-height: 0;max-width: 0;overflow: hidden;text-align: left;background-color: #f0f8ff;}#sk-container-id-3 div.sk-toggleable__content pre {margin: 0.2em;color: black;border-radius: 0.25em;background-color: #f0f8ff;}#sk-container-id-3 input.sk-toggleable__control:checked~div.sk-toggleable__content {max-height: 200px;max-width: 100%;overflow: auto;}#sk-container-id-3 input.sk-toggleable__control:checked~label.sk-toggleable__label-arrow:before {content: \"▾\";}#sk-container-id-3 div.sk-estimator input.sk-toggleable__control:checked~label.sk-toggleable__label {background-color: #d4ebff;}#sk-container-id-3 div.sk-label input.sk-toggleable__control:checked~label.sk-toggleable__label {background-color: #d4ebff;}#sk-container-id-3 input.sk-hidden--visually {border: 0;clip: rect(1px 1px 1px 1px);clip: rect(1px, 1px, 1px, 1px);height: 1px;margin: -1px;overflow: hidden;padding: 0;position: absolute;width: 1px;}#sk-container-id-3 div.sk-estimator {font-family: monospace;background-color: #f0f8ff;border: 1px dotted black;border-radius: 0.25em;box-sizing: border-box;margin-bottom: 0.5em;}#sk-container-id-3 div.sk-estimator:hover {background-color: #d4ebff;}#sk-container-id-3 div.sk-parallel-item::after {content: \"\";width: 100%;border-bottom: 1px solid gray;flex-grow: 1;}#sk-container-id-3 div.sk-label:hover label.sk-toggleable__label {background-color: #d4ebff;}#sk-container-id-3 div.sk-serial::before {content: \"\";position: absolute;border-left: 1px solid gray;box-sizing: border-box;top: 0;bottom: 0;left: 50%;z-index: 0;}#sk-container-id-3 div.sk-serial {display: flex;flex-direction: column;align-items: center;background-color: white;padding-right: 0.2em;padding-left: 0.2em;position: relative;}#sk-container-id-3 div.sk-item {position: relative;z-index: 1;}#sk-container-id-3 div.sk-parallel {display: flex;align-items: stretch;justify-content: center;background-color: white;position: relative;}#sk-container-id-3 div.sk-item::before, #sk-container-id-3 div.sk-parallel-item::before {content: \"\";position: absolute;border-left: 1px solid gray;box-sizing: border-box;top: 0;bottom: 0;left: 50%;z-index: -1;}#sk-container-id-3 div.sk-parallel-item {display: flex;flex-direction: column;z-index: 1;position: relative;background-color: white;}#sk-container-id-3 div.sk-parallel-item:first-child::after {align-self: flex-end;width: 50%;}#sk-container-id-3 div.sk-parallel-item:last-child::after {align-self: flex-start;width: 50%;}#sk-container-id-3 div.sk-parallel-item:only-child::after {width: 0;}#sk-container-id-3 div.sk-dashed-wrapped {border: 1px dashed gray;margin: 0 0.4em 0.5em 0.4em;box-sizing: border-box;padding-bottom: 0.4em;background-color: white;}#sk-container-id-3 div.sk-label label {font-family: monospace;font-weight: bold;display: inline-block;line-height: 1.2em;}#sk-container-id-3 div.sk-label-container {text-align: center;}#sk-container-id-3 div.sk-container {/* jupyter's `normalize.less` sets `[hidden] { display: none; }` but bootstrap.min.css set `[hidden] { display: none !important; }` so we also need the `!important` here to be able to override the default hidden behavior on the sphinx rendered scikit-learn.org. See: https://github.com/scikit-learn/scikit-learn/issues/21755 */display: inline-block !important;position: relative;}#sk-container-id-3 div.sk-text-repr-fallback {display: none;}</style><div id=\"sk-container-id-3\" class=\"sk-top-container\"><div class=\"sk-text-repr-fallback\"><pre>DecisionTreeClassifier(max_depth=2, random_state=42)</pre><b>In a Jupyter environment, please rerun this cell to show the HTML representation or trust the notebook. <br />On GitHub, the HTML representation is unable to render, please try loading this page with nbviewer.org.</b></div><div class=\"sk-container\" hidden><div class=\"sk-item\"><div class=\"sk-estimator sk-toggleable\"><input class=\"sk-toggleable__control sk-hidden--visually\" id=\"sk-estimator-id-3\" type=\"checkbox\" checked><label for=\"sk-estimator-id-3\" class=\"sk-toggleable__label sk-toggleable__label-arrow\">DecisionTreeClassifier</label><div class=\"sk-toggleable__content\"><pre>DecisionTreeClassifier(max_depth=2, random_state=42)</pre></div></div></div></div></div>"
      ],
      "text/plain": [
       "DecisionTreeClassifier(max_depth=2, random_state=42)"
      ]
     },
     "execution_count": 78,
     "metadata": {},
     "output_type": "execute_result"
    }
   ],
   "source": [
    "clf.fit(X_train, y_train)"
   ]
  },
  {
   "cell_type": "code",
   "execution_count": 80,
   "id": "424e44c8-a173-4a8a-a8b7-2af9dce8a6cf",
   "metadata": {},
   "outputs": [],
   "source": [
    "preds = clf.predict_proba(X_test)"
   ]
  },
  {
   "cell_type": "code",
   "execution_count": 82,
   "id": "9ce7137e-62ff-426c-bd66-30c2cf6b0d54",
   "metadata": {},
   "outputs": [
    {
     "name": "stdout",
     "output_type": "stream",
     "text": [
      "Accuracy:  0.91111\n"
     ]
    }
   ],
   "source": [
    "print('Accuracy: {: .5f}'.format(accuracy_score(y_test, preds.argmax(axis=1))))"
   ]
  },
  {
   "cell_type": "markdown",
   "id": "1e19d3a2-2cec-499d-819a-fc6484687aef",
   "metadata": {},
   "source": [
    "## Качество модели возросло после перехода на 2е компоненты PCA"
   ]
  },
  {
   "cell_type": "code",
   "execution_count": 83,
   "id": "59e25b84-cf2f-43a5-b949-62b6a29e6228",
   "metadata": {},
   "outputs": [
    {
     "data": {
      "text/plain": [
       "0.05306648311706783"
      ]
     },
     "execution_count": 83,
     "metadata": {},
     "output_type": "execute_result"
    }
   ],
   "source": [
    "pca.explained_variance_ratio_[1]"
   ]
  },
  {
   "cell_type": "code",
   "execution_count": 84,
   "id": "47c05504-d60f-4fea-af9d-fce5089aa057",
   "metadata": {},
   "outputs": [
    {
     "data": {
      "text/plain": [
       "0.9246187232017271"
      ]
     },
     "execution_count": 84,
     "metadata": {},
     "output_type": "execute_result"
    }
   ],
   "source": [
    "pca.explained_variance_ratio_[0]"
   ]
  },
  {
   "cell_type": "markdown",
   "id": "777f07d5-1f79-4562-ab45-60b8acef67c5",
   "metadata": {},
   "source": [
    "## Необъясненная вариация (дисперсия)"
   ]
  },
  {
   "cell_type": "code",
   "execution_count": 88,
   "id": "c467f0fc-91ea-4bb0-94c2-a7005d472988",
   "metadata": {},
   "outputs": [
    {
     "data": {
      "text/plain": [
       "0.022314793681205036"
      ]
     },
     "execution_count": 88,
     "metadata": {},
     "output_type": "execute_result"
    }
   ],
   "source": [
    "1 - pca.explained_variance_ratio_.sum() "
   ]
  },
  {
   "cell_type": "markdown",
   "id": "38f9628c-2767-4ed7-a460-e6c44f809dec",
   "metadata": {},
   "source": [
    "## Метрики кластеризации "
   ]
  },
  {
   "cell_type": "code",
   "execution_count": 113,
   "id": "61ab3944-b328-4601-aed6-86d752458fab",
   "metadata": {},
   "outputs": [],
   "source": [
    "from sklearn import metrics\n",
    "from sklearn import datasets\n",
    "import pandas as pd\n",
    "from sklearn.cluster import KMeans, AgglomerativeClustering, AffinityPropagation, SpectralClustering\n",
    "\n",
    "data = datasets.load_digits()\n",
    "X, y = data.data, data.target\n",
    "\n",
    "algorithms = []"
   ]
  },
  {
   "cell_type": "code",
   "execution_count": 114,
   "id": "9cb00c7a-6d7e-45a7-b07f-b4405779e533",
   "metadata": {},
   "outputs": [
    {
     "data": {
      "text/plain": [
       "list"
      ]
     },
     "execution_count": 114,
     "metadata": {},
     "output_type": "execute_result"
    }
   ],
   "source": [
    "type(algorithms)"
   ]
  },
  {
   "cell_type": "code",
   "execution_count": 115,
   "id": "0fc8fbe6-5a1a-41e6-bc23-6254f33e2f1f",
   "metadata": {},
   "outputs": [],
   "source": [
    "algorithms.append(KMeans(n_clusters = 10, random_state=1))"
   ]
  },
  {
   "cell_type": "code",
   "execution_count": 116,
   "id": "da50c4dc-4c33-4c89-9a0f-a0c4e22c620a",
   "metadata": {},
   "outputs": [],
   "source": [
    "algorithms.append(AffinityPropagation())"
   ]
  },
  {
   "cell_type": "code",
   "execution_count": 117,
   "id": "ea338e21-e4d2-49b1-a87c-60825969a076",
   "metadata": {},
   "outputs": [],
   "source": [
    "algorithms.append(SpectralClustering(n_clusters = 10, random_state = 1, affinity = 'nearest_neighbors'))"
   ]
  },
  {
   "cell_type": "code",
   "execution_count": 118,
   "id": "02ff7ce5-0506-4194-b394-cb59454612e1",
   "metadata": {},
   "outputs": [],
   "source": [
    "algorithms.append(AgglomerativeClustering(n_clusters =10))"
   ]
  },
  {
   "cell_type": "code",
   "execution_count": 119,
   "id": "3bd71ccc-faa0-4f13-870c-5e96b3f1b93d",
   "metadata": {},
   "outputs": [],
   "source": [
    "data = []"
   ]
  },
  {
   "cell_type": "code",
   "execution_count": 120,
   "id": "aa163375-480f-4de9-b8e5-e22d54550350",
   "metadata": {},
   "outputs": [
    {
     "name": "stderr",
     "output_type": "stream",
     "text": [
      "C:\\Users\\User1\\AppData\\Local\\Programs\\Python\\Python312\\Lib\\site-packages\\sklearn\\cluster\\_kmeans.py:1416: FutureWarning: The default value of `n_init` will change from 10 to 'auto' in 1.4. Set the value of `n_init` explicitly to suppress the warning\n",
      "  super()._check_params_vs_input(X, default_n_init=10)\n"
     ]
    }
   ],
   "source": [
    "for algo in algorithms:\n",
    "    algo.fit(X)\n",
    "    data.append(({\n",
    "        'ARI': metrics.adjusted_rand_score(y, algo.labels_),           # внешняя метрика, вплоть до V-меры\n",
    "        'AMI': metrics.adjusted_mutual_info_score(y, algo.labels_),\n",
    "        'Homogenity': metrics.homogeneity_score(y, algo.labels_),\n",
    "        'Completeness': metrics.completeness_score(y, algo.labels_),\n",
    "        'V-measure': metrics.v_measure_score(y, algo.labels_),\n",
    "        'Silhouette': metrics.silhouette_score(X, algo.labels_)}))     # внутренняя метрика - не знаем про y (unsupervised)"
   ]
  },
  {
   "cell_type": "code",
   "execution_count": 125,
   "id": "d43d6fee-be6e-41ee-af91-706cec2c1b3f",
   "metadata": {},
   "outputs": [],
   "source": [
    "results = pd.DataFrame( data = data, columns=['ARI', 'AMI', 'Homogenity',\n",
    "                                           'Completeness', 'V-measure', \n",
    "                                           'Silhouette'], index=['K-means', 'Affinity', \n",
    "                              'Spectral', 'Agglomerative'])"
   ]
  },
  {
   "cell_type": "markdown",
   "id": "417f1446-926f-43ab-afb3-3f9098a99d79",
   "metadata": {},
   "source": [
    "## Метрики для 4ех типов кластеризации"
   ]
  },
  {
   "cell_type": "code",
   "execution_count": 126,
   "id": "b815a8b3-00c6-4c11-b1ce-5db185a83e07",
   "metadata": {},
   "outputs": [
    {
     "data": {
      "text/html": [
       "<div>\n",
       "<style scoped>\n",
       "    .dataframe tbody tr th:only-of-type {\n",
       "        vertical-align: middle;\n",
       "    }\n",
       "\n",
       "    .dataframe tbody tr th {\n",
       "        vertical-align: top;\n",
       "    }\n",
       "\n",
       "    .dataframe thead th {\n",
       "        text-align: right;\n",
       "    }\n",
       "</style>\n",
       "<table border=\"1\" class=\"dataframe\">\n",
       "  <thead>\n",
       "    <tr style=\"text-align: right;\">\n",
       "      <th></th>\n",
       "      <th>ARI</th>\n",
       "      <th>AMI</th>\n",
       "      <th>Homogenity</th>\n",
       "      <th>Completeness</th>\n",
       "      <th>V-measure</th>\n",
       "      <th>Silhouette</th>\n",
       "    </tr>\n",
       "  </thead>\n",
       "  <tbody>\n",
       "    <tr>\n",
       "      <th>K-means</th>\n",
       "      <td>0.667179</td>\n",
       "      <td>0.736804</td>\n",
       "      <td>0.735623</td>\n",
       "      <td>0.743268</td>\n",
       "      <td>0.739426</td>\n",
       "      <td>0.182247</td>\n",
       "    </tr>\n",
       "    <tr>\n",
       "      <th>Affinity</th>\n",
       "      <td>0.174986</td>\n",
       "      <td>0.612405</td>\n",
       "      <td>0.958913</td>\n",
       "      <td>0.486840</td>\n",
       "      <td>0.645805</td>\n",
       "      <td>0.115176</td>\n",
       "    </tr>\n",
       "    <tr>\n",
       "      <th>Spectral</th>\n",
       "      <td>0.756461</td>\n",
       "      <td>0.852040</td>\n",
       "      <td>0.831691</td>\n",
       "      <td>0.876614</td>\n",
       "      <td>0.853562</td>\n",
       "      <td>0.182729</td>\n",
       "    </tr>\n",
       "    <tr>\n",
       "      <th>Agglomerative</th>\n",
       "      <td>0.794003</td>\n",
       "      <td>0.866832</td>\n",
       "      <td>0.857513</td>\n",
       "      <td>0.879096</td>\n",
       "      <td>0.868170</td>\n",
       "      <td>0.178497</td>\n",
       "    </tr>\n",
       "  </tbody>\n",
       "</table>\n",
       "</div>"
      ],
      "text/plain": [
       "                    ARI       AMI  Homogenity  Completeness  V-measure  \\\n",
       "K-means        0.667179  0.736804    0.735623      0.743268   0.739426   \n",
       "Affinity       0.174986  0.612405    0.958913      0.486840   0.645805   \n",
       "Spectral       0.756461  0.852040    0.831691      0.876614   0.853562   \n",
       "Agglomerative  0.794003  0.866832    0.857513      0.879096   0.868170   \n",
       "\n",
       "               Silhouette  \n",
       "K-means          0.182247  \n",
       "Affinity         0.115176  \n",
       "Spectral         0.182729  \n",
       "Agglomerative    0.178497  "
      ]
     },
     "execution_count": 126,
     "metadata": {},
     "output_type": "execute_result"
    }
   ],
   "source": [
    "results"
   ]
  },
  {
   "cell_type": "markdown",
   "id": "caa03ac6-4de9-4549-a345-5e1325fc4276",
   "metadata": {},
   "source": [
    "## Неудачное число кластеров - силуэт должен стремиться к 1. H, C, V удачные - стремятся к 1. ARI/AMI - смешанные, в зависимости от модели. Также должны стремиться к 1."
   ]
  }
 ],
 "metadata": {
  "kernelspec": {
   "display_name": "Python 3 (ipykernel)",
   "language": "python",
   "name": "python3"
  },
  "language_info": {
   "codemirror_mode": {
    "name": "ipython",
    "version": 3
   },
   "file_extension": ".py",
   "mimetype": "text/x-python",
   "name": "python",
   "nbconvert_exporter": "python",
   "pygments_lexer": "ipython3",
   "version": "3.12.0"
  }
 },
 "nbformat": 4,
 "nbformat_minor": 5
}
