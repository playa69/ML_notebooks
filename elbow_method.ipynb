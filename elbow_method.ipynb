{
 "cells": [
  {
   "cell_type": "code",
   "execution_count": 1,
   "id": "0c3473db-ad51-4caa-9364-6c2987f951d3",
   "metadata": {},
   "outputs": [],
   "source": [
    "#метод локтя"
   ]
  },
  {
   "cell_type": "code",
   "execution_count": 2,
   "id": "237acb43-711f-4366-a2c5-1e0aeb00cfd5",
   "metadata": {},
   "outputs": [],
   "source": [
    "import matplotlib.pyplot as plt"
   ]
  },
  {
   "cell_type": "code",
   "execution_count": 3,
   "id": "e31d7145-1e9a-4c15-ba37-c5cd9bbaebba",
   "metadata": {},
   "outputs": [],
   "source": [
    "import pandas as pd\n",
    "import numpy as np"
   ]
  },
  {
   "cell_type": "code",
   "execution_count": 4,
   "id": "19041b49-05eb-45fe-8372-d171820a6871",
   "metadata": {},
   "outputs": [],
   "source": [
    "from sklearn.datasets import make_blobs"
   ]
  },
  {
   "cell_type": "code",
   "execution_count": 5,
   "id": "10263638-c355-4779-9346-b56e43381031",
   "metadata": {},
   "outputs": [],
   "source": [
    "X, y = make_blobs(n_samples = 250, random_state = 17)\n",
    "# 250 точек"
   ]
  },
  {
   "cell_type": "code",
   "execution_count": 6,
   "id": "b1b3de1c-bd87-4a7e-86a9-bae18b8ebb00",
   "metadata": {},
   "outputs": [
    {
     "data": {
      "text/plain": [
       "(250, 2)"
      ]
     },
     "execution_count": 6,
     "metadata": {},
     "output_type": "execute_result"
    }
   ],
   "source": [
    "X.shape"
   ]
  },
  {
   "cell_type": "code",
   "execution_count": 7,
   "id": "5d5b5dd3-f014-490b-afd6-a510f0f4737a",
   "metadata": {},
   "outputs": [
    {
     "data": {
      "text/plain": [
       "numpy.ndarray"
      ]
     },
     "execution_count": 7,
     "metadata": {},
     "output_type": "execute_result"
    }
   ],
   "source": [
    "type(X)"
   ]
  },
  {
   "cell_type": "code",
   "execution_count": 8,
   "id": "6ab47d75-06ec-4b07-8ffb-d4c4acd474cc",
   "metadata": {},
   "outputs": [
    {
     "data": {
      "text/plain": [
       "array([[ 5.02116606e+00,  3.46233386e+00],\n",
       "       [ 6.77790695e+00,  4.43167209e+00],\n",
       "       [ 7.73040035e+00,  3.49977184e+00],\n",
       "       [-6.41821950e+00, -7.34702273e+00],\n",
       "       [ 6.00681097e+00,  1.49418049e+00],\n",
       "       [-3.52733891e+00,  1.54498535e+00],\n",
       "       [-6.35748584e+00, -9.50516243e+00],\n",
       "       [-5.53053031e+00, -8.65898544e+00],\n",
       "       [ 6.88068360e+00,  3.30031849e+00],\n",
       "       [ 7.03132708e+00,  3.81060183e+00],\n",
       "       [-4.90228106e+00,  8.96317362e-01],\n",
       "       [-5.31926018e+00,  7.71725966e-01],\n",
       "       [ 5.09832213e+00,  3.15478234e+00],\n",
       "       [-3.56686033e+00, -1.16354718e+00],\n",
       "       [-4.06932267e+00,  1.54560496e+00],\n",
       "       [ 6.51672743e+00,  2.41434463e+00],\n",
       "       [ 5.70905730e+00,  4.75509018e+00],\n",
       "       [-4.26095831e+00,  8.99342348e-01],\n",
       "       [-4.89516978e+00, -2.34838751e+00],\n",
       "       [ 4.80060841e+00,  3.57772337e+00],\n",
       "       [-3.10309677e+00,  1.74246156e+00],\n",
       "       [ 4.87272144e+00,  2.18388288e+00],\n",
       "       [ 5.76960746e+00,  3.14864253e+00],\n",
       "       [-3.06950948e+00,  2.49837404e+00],\n",
       "       [-6.50799441e+00, -7.23638137e+00],\n",
       "       [ 6.14660421e+00,  1.49725170e+00],\n",
       "       [-7.92666254e+00, -9.12443213e+00],\n",
       "       [-8.38570846e+00, -8.97070214e+00],\n",
       "       [ 4.66460137e+00,  1.71439862e+00],\n",
       "       [ 6.86958503e+00,  3.56719465e+00],\n",
       "       [-3.49736869e+00,  1.22695473e+00],\n",
       "       [-4.81753395e+00, -1.69393818e-01],\n",
       "       [-2.75862115e+00, -1.35227648e+00],\n",
       "       [-3.58416266e+00,  6.95289556e-01],\n",
       "       [-3.03379389e+00,  6.44337238e-01],\n",
       "       [-6.20482607e+00,  3.53960957e-01],\n",
       "       [-6.04806642e+00, -8.13623555e+00],\n",
       "       [-1.38590436e+00,  1.22274299e+00],\n",
       "       [-5.02421185e+00, -8.56551292e+00],\n",
       "       [-6.21658680e+00, -8.36519343e+00],\n",
       "       [-5.08363687e+00,  1.07980541e+00],\n",
       "       [ 5.67516289e+00,  2.74920051e+00],\n",
       "       [-5.26211324e+00,  3.95689251e+00],\n",
       "       [-5.17315382e+00, -7.38521623e+00],\n",
       "       [-3.95979330e+00,  9.04293615e-01],\n",
       "       [-3.61536617e+00,  1.65088508e-01],\n",
       "       [-7.77275912e+00, -9.46305559e+00],\n",
       "       [-7.03023973e+00, -9.02969182e+00],\n",
       "       [ 6.32902997e+00,  3.71174079e+00],\n",
       "       [-5.70345158e+00, -9.19379825e+00],\n",
       "       [-4.53333116e+00,  1.41967534e+00],\n",
       "       [-7.29735260e+00, -7.99524162e+00],\n",
       "       [ 3.81473303e+00,  4.47336384e+00],\n",
       "       [ 6.12497482e+00,  1.61608911e+00],\n",
       "       [-5.94609656e+00, -8.87154677e+00],\n",
       "       [-5.32540221e+00, -8.73782624e+00],\n",
       "       [-4.73205694e+00, -4.45897538e-01],\n",
       "       [ 5.25336836e+00,  2.76643422e+00],\n",
       "       [-6.31638034e+00, -6.58968875e+00],\n",
       "       [ 7.25786520e+00,  1.66446376e+00],\n",
       "       [-3.17255186e+00,  4.91700570e-01],\n",
       "       [-3.08307511e+00,  2.97074398e-01],\n",
       "       [ 5.67120857e+00,  2.59277173e+00],\n",
       "       [-6.78425520e+00, -8.43384477e+00],\n",
       "       [-4.56952474e+00, -9.37252495e+00],\n",
       "       [-4.21430877e+00, -1.05367838e+01],\n",
       "       [-5.96557974e+00, -8.25385022e+00],\n",
       "       [ 5.59916104e+00,  3.50309470e+00],\n",
       "       [ 5.79960583e+00,  4.02661082e+00],\n",
       "       [-7.40712832e+00, -9.93434325e+00],\n",
       "       [-3.95802490e+00,  1.73951960e-01],\n",
       "       [-4.86158884e+00, -7.68552387e+00],\n",
       "       [-3.15212611e+00,  6.05278402e-01],\n",
       "       [-3.33149826e+00,  1.16773800e+00],\n",
       "       [-4.33707292e+00,  7.31930195e-01],\n",
       "       [ 5.38018090e+00,  2.65274402e+00],\n",
       "       [ 7.98394451e+00,  2.66410920e+00],\n",
       "       [ 6.56166797e+00,  3.38951520e+00],\n",
       "       [-3.57224849e+00, -7.97295747e-01],\n",
       "       [ 5.75254568e+00,  3.66798153e+00],\n",
       "       [-7.22258088e+00, -8.36269294e+00],\n",
       "       [ 5.02257568e+00,  3.61339068e+00],\n",
       "       [-5.92551229e+00,  4.73685771e-01],\n",
       "       [-6.67731038e+00, -7.25332635e+00],\n",
       "       [-6.57950663e+00, -9.83672311e+00],\n",
       "       [ 5.84003206e+00,  2.47627476e+00],\n",
       "       [-3.67713604e+00,  1.41013710e+00],\n",
       "       [ 6.39907917e+00,  3.59563947e+00],\n",
       "       [-5.02279310e+00, -1.74279116e-01],\n",
       "       [ 6.45033025e+00,  3.90512606e+00],\n",
       "       [ 6.21930443e+00,  4.03026307e+00],\n",
       "       [ 6.03726760e+00,  2.53265885e+00],\n",
       "       [-3.71489405e+00,  1.36005687e+00],\n",
       "       [-6.10902999e+00, -8.69092285e+00],\n",
       "       [-3.56930331e+00, -2.12134726e-01],\n",
       "       [-4.36035045e+00, -5.51313480e-01],\n",
       "       [-5.27207303e+00, -1.42425968e+00],\n",
       "       [ 4.45879310e+00,  2.56164711e+00],\n",
       "       [-6.99465423e+00, -8.32088647e+00],\n",
       "       [-2.89831482e+00,  6.63012396e-01],\n",
       "       [ 5.16653741e+00,  3.82084531e+00],\n",
       "       [ 4.14643363e+00,  4.37634156e+00],\n",
       "       [-5.10645296e+00, -9.38318798e+00],\n",
       "       [-5.70152609e+00, -9.35770410e+00],\n",
       "       [ 7.28855019e+00,  4.63187083e+00],\n",
       "       [ 6.48355410e+00,  2.88928769e+00],\n",
       "       [ 6.44437015e+00,  1.60374122e+00],\n",
       "       [-6.71527158e+00, -8.70289192e+00],\n",
       "       [ 6.34129285e+00,  2.90706984e+00],\n",
       "       [-3.94616445e+00, -3.57686236e-04],\n",
       "       [-7.32780325e+00, -8.51456193e+00],\n",
       "       [ 5.61938417e+00,  2.37746857e+00],\n",
       "       [-4.00284364e+00,  9.12326148e-01],\n",
       "       [-6.29558266e+00, -8.10214622e+00],\n",
       "       [ 5.87064977e+00,  3.12309812e+00],\n",
       "       [-4.08179852e+00,  9.16734875e-01],\n",
       "       [-5.94031273e+00, -7.23515896e+00],\n",
       "       [-5.33616740e+00, -1.01178294e+01],\n",
       "       [-8.16881801e+00, -8.71581452e+00],\n",
       "       [-5.81898710e+00,  2.22385056e+00],\n",
       "       [-4.33149867e+00,  2.82763656e+00],\n",
       "       [ 7.99316678e+00,  2.42500019e+00],\n",
       "       [-6.28503458e+00, -9.40570644e+00],\n",
       "       [-5.83225478e+00, -8.37629477e+00],\n",
       "       [-7.81363598e+00, -9.91324068e+00],\n",
       "       [-4.21854379e+00, -9.40098465e+00],\n",
       "       [-7.44672756e+00, -9.87268126e+00],\n",
       "       [ 6.62373311e+00,  2.86583723e+00],\n",
       "       [-3.89183352e+00,  1.85416047e+00],\n",
       "       [-6.28332832e+00, -7.28404779e+00],\n",
       "       [-6.10394703e+00, -9.50853058e+00],\n",
       "       [-4.59731723e+00, -7.00939272e+00],\n",
       "       [-6.46890891e+00, -9.74331937e+00],\n",
       "       [ 4.60747716e+00,  4.25336117e+00],\n",
       "       [-4.76854749e+00,  3.25665909e-02],\n",
       "       [ 4.56448169e+00,  3.83653165e+00],\n",
       "       [ 4.78099633e+00,  3.48381767e+00],\n",
       "       [-4.56462412e+00, -7.54313097e+00],\n",
       "       [-4.21839824e+00,  2.49633774e-01],\n",
       "       [-5.62726414e+00, -8.91274148e+00],\n",
       "       [-4.94264394e+00,  6.08039071e-01],\n",
       "       [-4.77793277e+00,  2.94575702e-01],\n",
       "       [-3.16534068e+00,  1.78907344e+00],\n",
       "       [-7.23899704e+00, -9.86142933e+00],\n",
       "       [ 5.04996304e+00,  3.42733624e+00],\n",
       "       [ 6.18476980e+00,  3.72020449e+00],\n",
       "       [-2.79182341e+00,  1.38287065e-01],\n",
       "       [-5.10894670e+00, -7.58783623e+00],\n",
       "       [-3.96053867e+00,  5.21103076e-01],\n",
       "       [-5.83129634e+00, -8.13170728e+00],\n",
       "       [-5.88959059e+00, -8.83813261e+00],\n",
       "       [-7.17920264e+00, -9.64457917e+00],\n",
       "       [ 5.50217537e+00,  3.21208548e+00],\n",
       "       [-4.91306003e+00,  7.43002870e-01],\n",
       "       [-5.90716988e+00, -8.95668190e+00],\n",
       "       [-5.16646988e+00,  1.65612618e-01],\n",
       "       [-5.48108866e+00, -8.45990761e+00],\n",
       "       [ 5.15292941e+00,  3.73512088e+00],\n",
       "       [-4.64767985e+00,  2.13615236e+00],\n",
       "       [ 6.28132728e+00,  2.06903083e+00],\n",
       "       [-4.92718446e+00, -1.02958825e+01],\n",
       "       [ 4.90806595e+00,  3.11806512e+00],\n",
       "       [-3.97997274e+00, -8.24437843e-02],\n",
       "       [-4.29197902e+00, -9.18658962e+00],\n",
       "       [-7.00083116e+00, -8.84161440e+00],\n",
       "       [ 4.68525304e+00,  3.12585854e+00],\n",
       "       [-3.05056188e+00,  6.16226861e-01],\n",
       "       [-3.60240192e+00, -6.39674819e-02],\n",
       "       [ 4.19278072e+00,  2.85718869e+00],\n",
       "       [-2.87317105e+00,  2.38542732e-02],\n",
       "       [ 5.08911339e+00,  3.02685517e+00],\n",
       "       [ 4.86615552e+00,  2.24369422e+00],\n",
       "       [-4.71676999e+00,  1.79713932e+00],\n",
       "       [ 5.35422565e+00,  5.36325710e+00],\n",
       "       [-7.55005597e+00, -8.92617967e+00],\n",
       "       [-4.33835542e+00,  6.56120345e-01],\n",
       "       [-4.94865829e+00,  6.88335901e-01],\n",
       "       [-5.54707335e+00, -8.66913901e+00],\n",
       "       [-5.43110184e+00, -1.01810164e+01],\n",
       "       [-5.48530182e+00,  2.83754453e-01],\n",
       "       [ 6.00718451e+00,  4.79269751e+00],\n",
       "       [-5.53442548e+00, -9.28189230e+00],\n",
       "       [ 3.31964413e+00,  3.42504288e+00],\n",
       "       [-6.88074622e+00, -9.12217898e+00],\n",
       "       [-1.58144520e+00,  4.36831640e-01],\n",
       "       [-6.64556575e+00, -8.65857545e+00],\n",
       "       [ 5.91019028e+00,  2.22168082e+00],\n",
       "       [-3.13849465e+00,  1.48135895e+00],\n",
       "       [ 6.20540581e+00,  5.71990140e+00],\n",
       "       [-2.43708166e+00,  2.32897461e+00],\n",
       "       [ 5.37082322e+00,  3.90337789e+00],\n",
       "       [-2.98751815e+00, -3.71660997e-01],\n",
       "       [-6.72265200e+00, -7.74577502e+00],\n",
       "       [ 7.52191806e+00,  1.58733167e+00],\n",
       "       [-4.76842547e+00, -1.07859107e+01],\n",
       "       [ 7.13169940e+00,  3.55205086e+00],\n",
       "       [ 8.43714411e+00,  3.40884828e+00],\n",
       "       [-5.08899425e+00,  1.64300420e+00],\n",
       "       [-6.69191926e+00, -9.23376637e+00],\n",
       "       [ 5.52118338e+00,  3.05571750e+00],\n",
       "       [-3.12915818e+00,  4.73149862e-01],\n",
       "       [-7.61138193e+00, -9.32879795e+00],\n",
       "       [-8.92877535e+00, -8.79816520e+00],\n",
       "       [-7.70054684e+00, -8.55450395e+00],\n",
       "       [-6.71838104e+00, -7.56652008e+00],\n",
       "       [ 7.43530090e+00,  3.86150588e+00],\n",
       "       [-3.53891686e+00,  1.07701746e+00],\n",
       "       [-5.79339274e+00, -9.35317028e+00],\n",
       "       [-1.89968364e+00, -2.78819567e+00],\n",
       "       [ 4.55034075e+00,  6.34138749e+00],\n",
       "       [-5.58401156e+00, -9.61728085e+00],\n",
       "       [-4.73775056e+00,  2.02688250e-01],\n",
       "       [-3.86217993e+00,  3.03253737e-02],\n",
       "       [-5.26914896e+00, -1.02571836e-02],\n",
       "       [-1.93544295e+00,  1.76404536e+00],\n",
       "       [-7.38418303e+00, -1.03057276e+01],\n",
       "       [ 4.61298119e+00,  4.24280438e+00],\n",
       "       [ 4.70678814e+00,  3.41840872e+00],\n",
       "       [-3.93231313e+00,  1.41060769e+00],\n",
       "       [-3.46877377e+00,  1.31484579e+00],\n",
       "       [ 5.21766450e+00,  3.69974917e+00],\n",
       "       [ 6.50561289e+00,  3.16701444e+00],\n",
       "       [-2.79318378e+00,  1.51510982e+00],\n",
       "       [ 5.75917821e+00,  2.80497252e+00],\n",
       "       [ 5.70089159e+00,  2.96330661e+00],\n",
       "       [-5.42246059e+00, -7.63941026e+00],\n",
       "       [-5.14468024e+00, -9.93715403e+00],\n",
       "       [-4.04942018e+00, -4.28436462e-01],\n",
       "       [ 5.28205077e+00,  3.84064332e+00],\n",
       "       [-6.11917070e+00, -9.45430612e+00],\n",
       "       [ 5.90287179e+00,  7.13438085e-01],\n",
       "       [ 4.28656790e+00,  2.62601339e+00],\n",
       "       [-3.89287017e+00, -1.08398081e+00],\n",
       "       [-4.83163299e+00, -7.51160013e+00],\n",
       "       [-5.61069851e+00, -6.82311682e+00],\n",
       "       [-3.54666025e+00, -6.66218856e-03],\n",
       "       [-1.23557302e+00, -5.96350572e-01],\n",
       "       [-3.54902552e+00,  7.10881712e-01],\n",
       "       [-6.44640231e+00, -1.00022652e+01],\n",
       "       [-6.16129180e+00, -8.24031311e+00],\n",
       "       [-4.86192298e+00,  9.61631105e-01],\n",
       "       [ 2.48764122e+00,  2.21093708e+00],\n",
       "       [-5.94373256e+00, -7.66671736e+00],\n",
       "       [ 6.33009431e+00,  3.09378743e+00],\n",
       "       [ 7.02862847e+00,  3.32645069e+00],\n",
       "       [-4.88127472e+00, -9.26725571e+00],\n",
       "       [-6.10140056e+00, -1.07365730e+01],\n",
       "       [ 6.72949594e+00,  2.70231891e+00],\n",
       "       [-3.71360527e+00,  1.29623020e+00],\n",
       "       [-5.19892985e+00,  3.61707670e-01]])"
      ]
     },
     "execution_count": 8,
     "metadata": {},
     "output_type": "execute_result"
    }
   ],
   "source": [
    "X"
   ]
  },
  {
   "cell_type": "code",
   "execution_count": 9,
   "id": "967845ff-c78b-4290-a2c1-adeca4ef6b4a",
   "metadata": {},
   "outputs": [
    {
     "data": {
      "text/plain": [
       "<matplotlib.collections.PathCollection at 0x1b5eafac290>"
      ]
     },
     "execution_count": 9,
     "metadata": {},
     "output_type": "execute_result"
    },
    {
     "data": {
      "image/png": "[encoded data removed]",
      "text/plain": [
       "<Figure size 800x800 with 1 Axes>"
      ]
     },
     "metadata": {},
     "output_type": "display_data"
    }
   ],
   "source": [
    "plt.figure(figsize = (8,8))\n",
    "plt.scatter( X[ : , 0 ], X[ : , 1])"
   ]
  },
  {
   "cell_type": "code",
   "execution_count": 10,
   "id": "05f75391-56d4-4316-b97e-dacf279ecbb3",
   "metadata": {},
   "outputs": [],
   "source": [
    "# найдем центроиду"
   ]
  },
  {
   "cell_type": "code",
   "execution_count": 11,
   "id": "a39a7697-1b95-4ef0-a7ec-a4e92110b279",
   "metadata": {},
   "outputs": [],
   "source": [
    "centroid = np.mean(X, axis = 0)"
   ]
  },
  {
   "cell_type": "code",
   "execution_count": 12,
   "id": "6fed5df5-fd49-44d8-9ffc-ad4778bbc71f",
   "metadata": {},
   "outputs": [
    {
     "data": {
      "text/plain": [
       "array([-1.46009376, -1.6457303 ])"
      ]
     },
     "execution_count": 12,
     "metadata": {},
     "output_type": "execute_result"
    }
   ],
   "source": [
    "centroid"
   ]
  },
  {
   "cell_type": "code",
   "execution_count": 13,
   "id": "ad551305-98b3-451d-a655-f944c0fa7e60",
   "metadata": {},
   "outputs": [],
   "source": [
    "#пример центроиды"
   ]
  },
  {
   "cell_type": "code",
   "execution_count": 14,
   "id": "bb975389-13e6-4ec8-a34c-a6ecda5d03f2",
   "metadata": {},
   "outputs": [
    {
     "data": {
      "text/plain": [
       "<matplotlib.collections.PathCollection at 0x1b5ee7f4620>"
      ]
     },
     "execution_count": 14,
     "metadata": {},
     "output_type": "execute_result"
    },
    {
     "data": {
      "image/png": "[encoded data removed]",
      "text/plain": [
       "<Figure size 800x800 with 1 Axes>"
      ]
     },
     "metadata": {},
     "output_type": "display_data"
    }
   ],
   "source": [
    "plt.figure(figsize = (8,8))\n",
    "plt.scatter( X[ : , 0 ], X[ : , 1])\n",
    "plt.scatter(centroid[0], centroid[1], marker = '*', s = 55)"
   ]
  },
  {
   "cell_type": "code",
   "execution_count": 15,
   "id": "e69148b7-113a-4f5d-ab9a-6cef7078a5dc",
   "metadata": {},
   "outputs": [],
   "source": [
    "#ищем внутрикласстерное расстояние\n",
    "#\\sum_{i}^{}\\rho(x_{i}, c)#"
   ]
  },
  {
   "cell_type": "code",
   "execution_count": 16,
   "id": "853e9f20-d1eb-4264-b5f0-9c5c88d7f4c0",
   "metadata": {},
   "outputs": [],
   "source": [
    "from sklearn.cluster import KMeans as sk_KMeans"
   ]
  },
  {
   "cell_type": "code",
   "execution_count": 17,
   "id": "476f4185-23fd-4f74-a677-41c729d792d1",
   "metadata": {},
   "outputs": [
    {
     "name": "stderr",
     "output_type": "stream",
     "text": [
      "C:\\Users\\User1\\AppData\\Local\\Programs\\Python\\Python312\\Lib\\site-packages\\sklearn\\cluster\\_kmeans.py:1416: FutureWarning: The default value of `n_init` will change from 10 to 'auto' in 1.4. Set the value of `n_init` explicitly to suppress the warning\n",
      "  super()._check_params_vs_input(X, default_n_init=10)\n"
     ]
    }
   ],
   "source": [
    "km = sk_KMeans(n_clusters =1).fit(X)"
   ]
  },
  {
   "cell_type": "code",
   "execution_count": 18,
   "id": "d309aefa-1408-426a-b48a-e80f034dd5d4",
   "metadata": {},
   "outputs": [
    {
     "data": {
      "text/plain": [
       "sklearn.cluster._kmeans.KMeans"
      ]
     },
     "execution_count": 18,
     "metadata": {},
     "output_type": "execute_result"
    }
   ],
   "source": [
    "type(km)"
   ]
  },
  {
   "cell_type": "code",
   "execution_count": 19,
   "id": "296fad88-1efe-40f7-800d-a46611bdfa00",
   "metadata": {},
   "outputs": [
    {
     "data": {
      "text/html": [
       "<style>#sk-container-id-1 {color: black;}#sk-container-id-1 pre{padding: 0;}#sk-container-id-1 div.sk-toggleable {background-color: white;}#sk-container-id-1 label.sk-toggleable__label {cursor: pointer;display: block;width: 100%;margin-bottom: 0;padding: 0.3em;box-sizing: border-box;text-align: center;}#sk-container-id-1 label.sk-toggleable__label-arrow:before {content: \"▸\";float: left;margin-right: 0.25em;color: #696969;}#sk-container-id-1 label.sk-toggleable__label-arrow:hover:before {color: black;}#sk-container-id-1 div.sk-estimator:hover label.sk-toggleable__label-arrow:before {color: black;}#sk-container-id-1 div.sk-toggleable__content {max-height: 0;max-width: 0;overflow: hidden;text-align: left;background-color: #f0f8ff;}#sk-container-id-1 div.sk-toggleable__content pre {margin: 0.2em;color: black;border-radius: 0.25em;background-color: #f0f8ff;}#sk-container-id-1 input.sk-toggleable__control:checked~div.sk-toggleable__content {max-height: 200px;max-width: 100%;overflow: auto;}#sk-container-id-1 input.sk-toggleable__control:checked~label.sk-toggleable__label-arrow:before {content: \"▾\";}#sk-container-id-1 div.sk-estimator input.sk-toggleable__control:checked~label.sk-toggleable__label {background-color: #d4ebff;}#sk-container-id-1 div.sk-label input.sk-toggleable__control:checked~label.sk-toggleable__label {background-color: #d4ebff;}#sk-container-id-1 input.sk-hidden--visually {border: 0;clip: rect(1px 1px 1px 1px);clip: rect(1px, 1px, 1px, 1px);height: 1px;margin: -1px;overflow: hidden;padding: 0;position: absolute;width: 1px;}#sk-container-id-1 div.sk-estimator {font-family: monospace;background-color: #f0f8ff;border: 1px dotted black;border-radius: 0.25em;box-sizing: border-box;margin-bottom: 0.5em;}#sk-container-id-1 div.sk-estimator:hover {background-color: #d4ebff;}#sk-container-id-1 div.sk-parallel-item::after {content: \"\";width: 100%;border-bottom: 1px solid gray;flex-grow: 1;}#sk-container-id-1 div.sk-label:hover label.sk-toggleable__label {background-color: #d4ebff;}#sk-container-id-1 div.sk-serial::before {content: \"\";position: absolute;border-left: 1px solid gray;box-sizing: border-box;top: 0;bottom: 0;left: 50%;z-index: 0;}#sk-container-id-1 div.sk-serial {display: flex;flex-direction: column;align-items: center;background-color: white;padding-right: 0.2em;padding-left: 0.2em;position: relative;}#sk-container-id-1 div.sk-item {position: relative;z-index: 1;}#sk-container-id-1 div.sk-parallel {display: flex;align-items: stretch;justify-content: center;background-color: white;position: relative;}#sk-container-id-1 div.sk-item::before, #sk-container-id-1 div.sk-parallel-item::before {content: \"\";position: absolute;border-left: 1px solid gray;box-sizing: border-box;top: 0;bottom: 0;left: 50%;z-index: -1;}#sk-container-id-1 div.sk-parallel-item {display: flex;flex-direction: column;z-index: 1;position: relative;background-color: white;}#sk-container-id-1 div.sk-parallel-item:first-child::after {align-self: flex-end;width: 50%;}#sk-container-id-1 div.sk-parallel-item:last-child::after {align-self: flex-start;width: 50%;}#sk-container-id-1 div.sk-parallel-item:only-child::after {width: 0;}#sk-container-id-1 div.sk-dashed-wrapped {border: 1px dashed gray;margin: 0 0.4em 0.5em 0.4em;box-sizing: border-box;padding-bottom: 0.4em;background-color: white;}#sk-container-id-1 div.sk-label label {font-family: monospace;font-weight: bold;display: inline-block;line-height: 1.2em;}#sk-container-id-1 div.sk-label-container {text-align: center;}#sk-container-id-1 div.sk-container {/* jupyter's `normalize.less` sets `[hidden] { display: none; }` but bootstrap.min.css set `[hidden] { display: none !important; }` so we also need the `!important` here to be able to override the default hidden behavior on the sphinx rendered scikit-learn.org. See: https://github.com/scikit-learn/scikit-learn/issues/21755 */display: inline-block !important;position: relative;}#sk-container-id-1 div.sk-text-repr-fallback {display: none;}</style><div id=\"sk-container-id-1\" class=\"sk-top-container\"><div class=\"sk-text-repr-fallback\"><pre>KMeans(n_clusters=1)</pre><b>In a Jupyter environment, please rerun this cell to show the HTML representation or trust the notebook. <br />On GitHub, the HTML representation is unable to render, please try loading this page with nbviewer.org.</b></div><div class=\"sk-container\" hidden><div class=\"sk-item\"><div class=\"sk-estimator sk-toggleable\"><input class=\"sk-toggleable__control sk-hidden--visually\" id=\"sk-estimator-id-1\" type=\"checkbox\" checked><label for=\"sk-estimator-id-1\" class=\"sk-toggleable__label sk-toggleable__label-arrow\">KMeans</label><div class=\"sk-toggleable__content\"><pre>KMeans(n_clusters=1)</pre></div></div></div></div></div>"
      ],
      "text/plain": [
       "KMeans(n_clusters=1)"
      ]
     },
     "execution_count": 19,
     "metadata": {},
     "output_type": "execute_result"
    }
   ],
   "source": [
    "km"
   ]
  },
  {
   "cell_type": "code",
   "execution_count": 66,
   "id": "7cd176fe-27f6-436f-bbf8-ab4e0ac274c8",
   "metadata": {},
   "outputs": [
    {
     "data": {
      "text/plain": [
       "numpy.ndarray"
      ]
     },
     "execution_count": 66,
     "metadata": {},
     "output_type": "execute_result"
    }
   ],
   "source": [
    "type(km.labels_)"
   ]
  },
  {
   "cell_type": "code",
   "execution_count": null,
   "id": "39121a8c-4a1d-43e5-b31c-1bf2d9095337",
   "metadata": {},
   "outputs": [],
   "source": []
  },
  {
   "cell_type": "code",
   "execution_count": 21,
   "id": "522408b1-e74f-484d-aa58-beb1d38d16ee",
   "metadata": {},
   "outputs": [
    {
     "data": {
      "text/plain": [
       "array([[-1.46009376, -1.6457303 ]])"
      ]
     },
     "execution_count": 21,
     "metadata": {},
     "output_type": "execute_result"
    }
   ],
   "source": [
    "km.cluster_centers_"
   ]
  },
  {
   "cell_type": "code",
   "execution_count": 22,
   "id": "965ef4c7-f7a1-46b2-9357-6b0fee979aed",
   "metadata": {},
   "outputs": [
    {
     "data": {
      "text/plain": [
       "13854.939841543304"
      ]
     },
     "execution_count": 22,
     "metadata": {},
     "output_type": "execute_result"
    }
   ],
   "source": [
    "km.inertia_"
   ]
  },
  {
   "cell_type": "code",
   "execution_count": 23,
   "id": "3f34d53f-cc42-4d46-92c0-fd9aeac84c16",
   "metadata": {},
   "outputs": [],
   "source": [
    "import seaborn as sns"
   ]
  },
  {
   "cell_type": "code",
   "execution_count": 24,
   "id": "2d08cacd-c4e6-4e7b-9ee9-b7d37981a554",
   "metadata": {},
   "outputs": [
    {
     "data": {
      "text/plain": [
       "numpy.ndarray"
      ]
     },
     "execution_count": 24,
     "metadata": {},
     "output_type": "execute_result"
    }
   ],
   "source": [
    "type(X)"
   ]
  },
  {
   "cell_type": "code",
   "execution_count": 25,
   "id": "a960cd6b-dff6-4dc1-8c8c-accc5fd3555a",
   "metadata": {},
   "outputs": [],
   "source": [
    "x =X.astype(pd.DataFrame)"
   ]
  },
  {
   "cell_type": "code",
   "execution_count": 26,
   "id": "d576c209-5d5f-47ce-8990-26bed281ec2d",
   "metadata": {},
   "outputs": [
    {
     "data": {
      "text/plain": [
       "numpy.ndarray"
      ]
     },
     "execution_count": 26,
     "metadata": {},
     "output_type": "execute_result"
    }
   ],
   "source": [
    "type(x)"
   ]
  },
  {
   "cell_type": "code",
   "execution_count": 27,
   "id": "18af43f5-b476-43db-91df-f167dcb84e3f",
   "metadata": {},
   "outputs": [],
   "source": [
    "#делаю три кластера"
   ]
  },
  {
   "cell_type": "code",
   "execution_count": 57,
   "id": "e03a0ab4-874b-4abb-bf99-e8544edfb3bd",
   "metadata": {},
   "outputs": [],
   "source": [
    "km3 = sk_KMeans(n_clusters =3, n_init = 'auto').fit(X)"
   ]
  },
  {
   "cell_type": "code",
   "execution_count": 29,
   "id": "98f8ffb9-6c43-40ae-ac4c-2dc5f48a5d8a",
   "metadata": {},
   "outputs": [
    {
     "data": {
      "text/html": [
       "<style>#sk-container-id-2 {color: black;}#sk-container-id-2 pre{padding: 0;}#sk-container-id-2 div.sk-toggleable {background-color: white;}#sk-container-id-2 label.sk-toggleable__label {cursor: pointer;display: block;width: 100%;margin-bottom: 0;padding: 0.3em;box-sizing: border-box;text-align: center;}#sk-container-id-2 label.sk-toggleable__label-arrow:before {content: \"▸\";float: left;margin-right: 0.25em;color: #696969;}#sk-container-id-2 label.sk-toggleable__label-arrow:hover:before {color: black;}#sk-container-id-2 div.sk-estimator:hover label.sk-toggleable__label-arrow:before {color: black;}#sk-container-id-2 div.sk-toggleable__content {max-height: 0;max-width: 0;overflow: hidden;text-align: left;background-color: #f0f8ff;}#sk-container-id-2 div.sk-toggleable__content pre {margin: 0.2em;color: black;border-radius: 0.25em;background-color: #f0f8ff;}#sk-container-id-2 input.sk-toggleable__control:checked~div.sk-toggleable__content {max-height: 200px;max-width: 100%;overflow: auto;}#sk-container-id-2 input.sk-toggleable__control:checked~label.sk-toggleable__label-arrow:before {content: \"▾\";}#sk-container-id-2 div.sk-estimator input.sk-toggleable__control:checked~label.sk-toggleable__label {background-color: #d4ebff;}#sk-container-id-2 div.sk-label input.sk-toggleable__control:checked~label.sk-toggleable__label {background-color: #d4ebff;}#sk-container-id-2 input.sk-hidden--visually {border: 0;clip: rect(1px 1px 1px 1px);clip: rect(1px, 1px, 1px, 1px);height: 1px;margin: -1px;overflow: hidden;padding: 0;position: absolute;width: 1px;}#sk-container-id-2 div.sk-estimator {font-family: monospace;background-color: #f0f8ff;border: 1px dotted black;border-radius: 0.25em;box-sizing: border-box;margin-bottom: 0.5em;}#sk-container-id-2 div.sk-estimator:hover {background-color: #d4ebff;}#sk-container-id-2 div.sk-parallel-item::after {content: \"\";width: 100%;border-bottom: 1px solid gray;flex-grow: 1;}#sk-container-id-2 div.sk-label:hover label.sk-toggleable__label {background-color: #d4ebff;}#sk-container-id-2 div.sk-serial::before {content: \"\";position: absolute;border-left: 1px solid gray;box-sizing: border-box;top: 0;bottom: 0;left: 50%;z-index: 0;}#sk-container-id-2 div.sk-serial {display: flex;flex-direction: column;align-items: center;background-color: white;padding-right: 0.2em;padding-left: 0.2em;position: relative;}#sk-container-id-2 div.sk-item {position: relative;z-index: 1;}#sk-container-id-2 div.sk-parallel {display: flex;align-items: stretch;justify-content: center;background-color: white;position: relative;}#sk-container-id-2 div.sk-item::before, #sk-container-id-2 div.sk-parallel-item::before {content: \"\";position: absolute;border-left: 1px solid gray;box-sizing: border-box;top: 0;bottom: 0;left: 50%;z-index: -1;}#sk-container-id-2 div.sk-parallel-item {display: flex;flex-direction: column;z-index: 1;position: relative;background-color: white;}#sk-container-id-2 div.sk-parallel-item:first-child::after {align-self: flex-end;width: 50%;}#sk-container-id-2 div.sk-parallel-item:last-child::after {align-self: flex-start;width: 50%;}#sk-container-id-2 div.sk-parallel-item:only-child::after {width: 0;}#sk-container-id-2 div.sk-dashed-wrapped {border: 1px dashed gray;margin: 0 0.4em 0.5em 0.4em;box-sizing: border-box;padding-bottom: 0.4em;background-color: white;}#sk-container-id-2 div.sk-label label {font-family: monospace;font-weight: bold;display: inline-block;line-height: 1.2em;}#sk-container-id-2 div.sk-label-container {text-align: center;}#sk-container-id-2 div.sk-container {/* jupyter's `normalize.less` sets `[hidden] { display: none; }` but bootstrap.min.css set `[hidden] { display: none !important; }` so we also need the `!important` here to be able to override the default hidden behavior on the sphinx rendered scikit-learn.org. See: https://github.com/scikit-learn/scikit-learn/issues/21755 */display: inline-block !important;position: relative;}#sk-container-id-2 div.sk-text-repr-fallback {display: none;}</style><div id=\"sk-container-id-2\" class=\"sk-top-container\"><div class=\"sk-text-repr-fallback\"><pre>KMeans(n_clusters=3)</pre><b>In a Jupyter environment, please rerun this cell to show the HTML representation or trust the notebook. <br />On GitHub, the HTML representation is unable to render, please try loading this page with nbviewer.org.</b></div><div class=\"sk-container\" hidden><div class=\"sk-item\"><div class=\"sk-estimator sk-toggleable\"><input class=\"sk-toggleable__control sk-hidden--visually\" id=\"sk-estimator-id-2\" type=\"checkbox\" checked><label for=\"sk-estimator-id-2\" class=\"sk-toggleable__label sk-toggleable__label-arrow\">KMeans</label><div class=\"sk-toggleable__content\"><pre>KMeans(n_clusters=3)</pre></div></div></div></div></div>"
      ],
      "text/plain": [
       "KMeans(n_clusters=3)"
      ]
     },
     "execution_count": 29,
     "metadata": {},
     "output_type": "execute_result"
    }
   ],
   "source": [
    "km3"
   ]
  },
  {
   "cell_type": "code",
   "execution_count": 30,
   "id": "72f028ce-14c0-4685-b8d1-d7bcec5ec3fc",
   "metadata": {},
   "outputs": [
    {
     "data": {
      "text/plain": [
       "514.4528052587525"
      ]
     },
     "execution_count": 30,
     "metadata": {},
     "output_type": "execute_result"
    }
   ],
   "source": [
    "km3.inertia_"
   ]
  },
  {
   "cell_type": "code",
   "execution_count": 31,
   "id": "62ccc981-01f4-47fb-a331-ebe7c5ac0216",
   "metadata": {},
   "outputs": [],
   "source": [
    "inertias = [] #list\n",
    "for i in range(1, 7):\n",
    "    dists = sk_KMeans(n_clusters = i, n_init  =\"auto\").fit(X).inertia_\n",
    "    inertias.append(dists)\n"
   ]
  },
  {
   "cell_type": "code",
   "execution_count": 32,
   "id": "f1083372-f4dd-4f53-8946-fa10c096c6b7",
   "metadata": {},
   "outputs": [
    {
     "data": {
      "text/plain": [
       "[13854.939841543304,\n",
       " 4421.2311931485065,\n",
       " 514.4528052587525,\n",
       " 449.2666641951753,\n",
       " 400.36680135439366,\n",
       " 343.78171004455004]"
      ]
     },
     "execution_count": 32,
     "metadata": {},
     "output_type": "execute_result"
    }
   ],
   "source": [
    "inertias"
   ]
  },
  {
   "cell_type": "code",
   "execution_count": 33,
   "id": "9b969901-a1a7-459d-b841-96278fce20bd",
   "metadata": {},
   "outputs": [
    {
     "data": {
      "text/plain": [
       "([<matplotlib.axis.XTick at 0x1b5f161a0f0>,\n",
       "  <matplotlib.axis.XTick at 0x1b5f161a0c0>,\n",
       "  <matplotlib.axis.XTick at 0x1b5ee8924b0>,\n",
       "  <matplotlib.axis.XTick at 0x1b5f1649fd0>,\n",
       "  <matplotlib.axis.XTick at 0x1b5f164a8d0>,\n",
       "  <matplotlib.axis.XTick at 0x1b5f164b230>],\n",
       " [Text(0, 0, '1'),\n",
       "  Text(1, 0, '2'),\n",
       "  Text(2, 0, '3'),\n",
       "  Text(3, 0, '4'),\n",
       "  Text(4, 0, '5'),\n",
       "  Text(5, 0, '6')])"
      ]
     },
     "execution_count": 33,
     "metadata": {},
     "output_type": "execute_result"
    },
    {
     "data": {
      "image/png": "[encoded data removed]",
      "text/plain": [
       "<Figure size 700x500 with 1 Axes>"
      ]
     },
     "metadata": {},
     "output_type": "display_data"
    }
   ],
   "source": [
    "plt.figure(figsize=(7, 5))\n",
    "plt.plot(inertias)\n",
    "plt.xticks(np.arange(0, 6), np.arange(1, 7))"
   ]
  },
  {
   "cell_type": "code",
   "execution_count": 34,
   "id": "faf2a97f-2a0b-4cd6-8753-57854d38b1c2",
   "metadata": {},
   "outputs": [],
   "source": [
    "colors = ['green', 'orange', 'red', 'navy', 'pink', 'yellow', 'black']"
   ]
  },
  {
   "cell_type": "code",
   "execution_count": 35,
   "id": "4c4a769a-4623-4769-ae16-4fd0403a3eaa",
   "metadata": {},
   "outputs": [
    {
     "data": {
      "text/plain": [
       "array([2, 2, 2, 1, 2, 0, 1, 1, 2, 2, 0, 0, 2, 0, 0, 2, 2, 0, 0, 2, 0, 2,\n",
       "       2, 0, 1, 2, 1, 1, 2, 2, 0, 0, 0, 0, 0, 0, 1, 0, 1, 1, 0, 2, 0, 1,\n",
       "       0, 0, 1, 1, 2, 1, 0, 1, 2, 2, 1, 1, 0, 2, 1, 2, 0, 0, 2, 1, 1, 1,\n",
       "       1, 2, 2, 1, 0, 1, 0, 0, 0, 2, 2, 2, 0, 2, 1, 2, 0, 1, 1, 2, 0, 2,\n",
       "       0, 2, 2, 2, 0, 1, 0, 0, 0, 2, 1, 0, 2, 2, 1, 1, 2, 2, 2, 1, 2, 0,\n",
       "       1, 2, 0, 1, 2, 0, 1, 1, 1, 0, 0, 2, 1, 1, 1, 1, 1, 2, 0, 1, 1, 1,\n",
       "       1, 2, 0, 2, 2, 1, 0, 1, 0, 0, 0, 1, 2, 2, 0, 1, 0, 1, 1, 1, 2, 0,\n",
       "       1, 0, 1, 2, 0, 2, 1, 2, 0, 1, 1, 2, 0, 0, 2, 0, 2, 2, 0, 2, 1, 0,\n",
       "       0, 1, 1, 0, 2, 1, 2, 1, 0, 1, 2, 0, 2, 0, 2, 0, 1, 2, 1, 2, 2, 0,\n",
       "       1, 2, 0, 1, 1, 1, 1, 2, 0, 1, 0, 2, 1, 0, 0, 0, 0, 1, 2, 2, 0, 0,\n",
       "       2, 2, 0, 2, 2, 1, 1, 0, 2, 1, 2, 2, 0, 1, 1, 0, 0, 0, 1, 1, 0, 2,\n",
       "       1, 2, 2, 1, 1, 2, 0, 0])"
      ]
     },
     "execution_count": 35,
     "metadata": {},
     "output_type": "execute_result"
    }
   ],
   "source": [
    "km3.labels_"
   ]
  },
  {
   "cell_type": "code",
   "execution_count": 36,
   "id": "6a428c55-8e6f-4920-831c-cf14d70dd095",
   "metadata": {},
   "outputs": [
    {
     "data": {
      "text/plain": [
       "250"
      ]
     },
     "execution_count": 36,
     "metadata": {},
     "output_type": "execute_result"
    }
   ],
   "source": [
    "len(X)"
   ]
  },
  {
   "cell_type": "code",
   "execution_count": 37,
   "id": "2dfd9b91-2a65-4e9f-b7a4-58bcffef3bb5",
   "metadata": {},
   "outputs": [
    {
     "data": {
      "image/png": "[encoded data removed]",
      "text/plain": [
       "<Figure size 700x700 with 1 Axes>"
      ]
     },
     "metadata": {},
     "output_type": "display_data"
    }
   ],
   "source": [
    "plt.figure(figsize=(7, 7))\n",
    "\n",
    "i=0\n",
    "for x in X:\n",
    "    plt.scatter(x[0], x[1], color=colors[km3.labels_[i]])\n",
    "    i += 1"
   ]
  },
  {
   "cell_type": "code",
   "execution_count": 38,
   "id": "55b556a7-a365-48bc-a490-a93c5d805cde",
   "metadata": {},
   "outputs": [],
   "source": [
    "#другие данные\n"
   ]
  },
  {
   "cell_type": "code",
   "execution_count": 39,
   "id": "b27b364e-e71f-4010-9e41-44b901402a98",
   "metadata": {},
   "outputs": [],
   "source": [
    "from sklearn.datasets import make_classification"
   ]
  },
  {
   "cell_type": "code",
   "execution_count": 60,
   "id": "b195be9b-1912-48e4-8202-b327a9b03e75",
   "metadata": {},
   "outputs": [],
   "source": [
    "X, y = make_classification(n_samples=300, random_state=10, n_informative=2, n_redundant=0)"
   ]
  },
  {
   "cell_type": "code",
   "execution_count": 41,
   "id": "a4a45474-b351-46ed-9958-0666bffdcf4f",
   "metadata": {},
   "outputs": [
    {
     "data": {
      "text/plain": [
       "<matplotlib.collections.PathCollection at 0x1b5f17d8ef0>"
      ]
     },
     "execution_count": 41,
     "metadata": {},
     "output_type": "execute_result"
    },
    {
     "data": {
      "image/png": "[encoded data removed]",
      "text/plain": [
       "<Figure size 640x480 with 1 Axes>"
      ]
     },
     "metadata": {},
     "output_type": "display_data"
    }
   ],
   "source": [
    "plt.scatter(X[ : ,0], X[ : ,1],c =y)"
   ]
  },
  {
   "cell_type": "code",
   "execution_count": 42,
   "id": "de74a952-73cc-48da-ae31-ff7743adb7b6",
   "metadata": {},
   "outputs": [],
   "source": [
    "inertias = [] #list\n",
    "for i in range(1, 7):\n",
    "    dists = sk_KMeans(n_clusters = i, n_init  =\"auto\").fit(X).inertia_\n",
    "    inertias.append(dists)"
   ]
  },
  {
   "cell_type": "code",
   "execution_count": 43,
   "id": "88c6bb16-c9aa-4ad6-b98e-511f06573cbe",
   "metadata": {},
   "outputs": [
    {
     "data": {
      "text/plain": [
       "[6281.391177646008,\n",
       " 5818.8380023378595,\n",
       " 5553.450571869821,\n",
       " 5388.764764167672,\n",
       " 5295.929776252042,\n",
       " 5177.896441668565]"
      ]
     },
     "execution_count": 43,
     "metadata": {},
     "output_type": "execute_result"
    }
   ],
   "source": [
    "inertias"
   ]
  },
  {
   "cell_type": "code",
   "execution_count": 44,
   "id": "1ddf7034-2119-4e7a-8f87-ccd748ea7269",
   "metadata": {},
   "outputs": [],
   "source": [
    "diff = np.diff(inertias)"
   ]
  },
  {
   "cell_type": "code",
   "execution_count": 45,
   "id": "70f1a1df-8b2e-4959-9025-84240c2a7c2a",
   "metadata": {},
   "outputs": [
    {
     "data": {
      "text/plain": [
       "[<matplotlib.lines.Line2D at 0x1b5f1ad22d0>]"
      ]
     },
     "execution_count": 45,
     "metadata": {},
     "output_type": "execute_result"
    },
    {
     "data": {
      "image/png": "[encoded data removed]",
      "text/plain": [
       "<Figure size 700x500 with 1 Axes>"
      ]
     },
     "metadata": {},
     "output_type": "display_data"
    }
   ],
   "source": [
    "plt.figure(figsize = (7,5))\n",
    "plt.plot(inertias)\n"
   ]
  },
  {
   "cell_type": "code",
   "execution_count": 46,
   "id": "c456c382-7b87-4573-ac45-e102df029117",
   "metadata": {},
   "outputs": [
    {
     "data": {
      "text/plain": [
       "[<matplotlib.lines.Line2D at 0x1b5f1fdeff0>]"
      ]
     },
     "execution_count": 46,
     "metadata": {},
     "output_type": "execute_result"
    },
    {
     "data": {
      "image/png": "[encoded data removed]",
      "text/plain": [
       "<Figure size 700x500 with 1 Axes>"
      ]
     },
     "metadata": {},
     "output_type": "display_data"
    }
   ],
   "source": [
    "plt.figure(figsize = (7,5))\n",
    "plt.plot(diff)"
   ]
  },
  {
   "cell_type": "code",
   "execution_count": 56,
   "id": "ced182d7-44ad-4b76-8ee2-d39c2daec80e",
   "metadata": {},
   "outputs": [
    {
     "data": {
      "text/html": [
       "<style>#sk-container-id-4 {color: black;}#sk-container-id-4 pre{padding: 0;}#sk-container-id-4 div.sk-toggleable {background-color: white;}#sk-container-id-4 label.sk-toggleable__label {cursor: pointer;display: block;width: 100%;margin-bottom: 0;padding: 0.3em;box-sizing: border-box;text-align: center;}#sk-container-id-4 label.sk-toggleable__label-arrow:before {content: \"▸\";float: left;margin-right: 0.25em;color: #696969;}#sk-container-id-4 label.sk-toggleable__label-arrow:hover:before {color: black;}#sk-container-id-4 div.sk-estimator:hover label.sk-toggleable__label-arrow:before {color: black;}#sk-container-id-4 div.sk-toggleable__content {max-height: 0;max-width: 0;overflow: hidden;text-align: left;background-color: #f0f8ff;}#sk-container-id-4 div.sk-toggleable__content pre {margin: 0.2em;color: black;border-radius: 0.25em;background-color: #f0f8ff;}#sk-container-id-4 input.sk-toggleable__control:checked~div.sk-toggleable__content {max-height: 200px;max-width: 100%;overflow: auto;}#sk-container-id-4 input.sk-toggleable__control:checked~label.sk-toggleable__label-arrow:before {content: \"▾\";}#sk-container-id-4 div.sk-estimator input.sk-toggleable__control:checked~label.sk-toggleable__label {background-color: #d4ebff;}#sk-container-id-4 div.sk-label input.sk-toggleable__control:checked~label.sk-toggleable__label {background-color: #d4ebff;}#sk-container-id-4 input.sk-hidden--visually {border: 0;clip: rect(1px 1px 1px 1px);clip: rect(1px, 1px, 1px, 1px);height: 1px;margin: -1px;overflow: hidden;padding: 0;position: absolute;width: 1px;}#sk-container-id-4 div.sk-estimator {font-family: monospace;background-color: #f0f8ff;border: 1px dotted black;border-radius: 0.25em;box-sizing: border-box;margin-bottom: 0.5em;}#sk-container-id-4 div.sk-estimator:hover {background-color: #d4ebff;}#sk-container-id-4 div.sk-parallel-item::after {content: \"\";width: 100%;border-bottom: 1px solid gray;flex-grow: 1;}#sk-container-id-4 div.sk-label:hover label.sk-toggleable__label {background-color: #d4ebff;}#sk-container-id-4 div.sk-serial::before {content: \"\";position: absolute;border-left: 1px solid gray;box-sizing: border-box;top: 0;bottom: 0;left: 50%;z-index: 0;}#sk-container-id-4 div.sk-serial {display: flex;flex-direction: column;align-items: center;background-color: white;padding-right: 0.2em;padding-left: 0.2em;position: relative;}#sk-container-id-4 div.sk-item {position: relative;z-index: 1;}#sk-container-id-4 div.sk-parallel {display: flex;align-items: stretch;justify-content: center;background-color: white;position: relative;}#sk-container-id-4 div.sk-item::before, #sk-container-id-4 div.sk-parallel-item::before {content: \"\";position: absolute;border-left: 1px solid gray;box-sizing: border-box;top: 0;bottom: 0;left: 50%;z-index: -1;}#sk-container-id-4 div.sk-parallel-item {display: flex;flex-direction: column;z-index: 1;position: relative;background-color: white;}#sk-container-id-4 div.sk-parallel-item:first-child::after {align-self: flex-end;width: 50%;}#sk-container-id-4 div.sk-parallel-item:last-child::after {align-self: flex-start;width: 50%;}#sk-container-id-4 div.sk-parallel-item:only-child::after {width: 0;}#sk-container-id-4 div.sk-dashed-wrapped {border: 1px dashed gray;margin: 0 0.4em 0.5em 0.4em;box-sizing: border-box;padding-bottom: 0.4em;background-color: white;}#sk-container-id-4 div.sk-label label {font-family: monospace;font-weight: bold;display: inline-block;line-height: 1.2em;}#sk-container-id-4 div.sk-label-container {text-align: center;}#sk-container-id-4 div.sk-container {/* jupyter's `normalize.less` sets `[hidden] { display: none; }` but bootstrap.min.css set `[hidden] { display: none !important; }` so we also need the `!important` here to be able to override the default hidden behavior on the sphinx rendered scikit-learn.org. See: https://github.com/scikit-learn/scikit-learn/issues/21755 */display: inline-block !important;position: relative;}#sk-container-id-4 div.sk-text-repr-fallback {display: none;}</style><div id=\"sk-container-id-4\" class=\"sk-top-container\"><div class=\"sk-text-repr-fallback\"><pre>KMeans(n_clusters=3, n_init=&#x27;auto&#x27;)</pre><b>In a Jupyter environment, please rerun this cell to show the HTML representation or trust the notebook. <br />On GitHub, the HTML representation is unable to render, please try loading this page with nbviewer.org.</b></div><div class=\"sk-container\" hidden><div class=\"sk-item\"><div class=\"sk-estimator sk-toggleable\"><input class=\"sk-toggleable__control sk-hidden--visually\" id=\"sk-estimator-id-4\" type=\"checkbox\" checked><label for=\"sk-estimator-id-4\" class=\"sk-toggleable__label sk-toggleable__label-arrow\">KMeans</label><div class=\"sk-toggleable__content\"><pre>KMeans(n_clusters=3, n_init=&#x27;auto&#x27;)</pre></div></div></div></div></div>"
      ],
      "text/plain": [
       "KMeans(n_clusters=3, n_init='auto')"
      ]
     },
     "execution_count": 56,
     "metadata": {},
     "output_type": "execute_result"
    }
   ],
   "source": [
    "sk_KMeans(n_clusters =3, n_init = 'auto').fit(X)"
   ]
  },
  {
   "cell_type": "code",
   "execution_count": 62,
   "id": "8680fb53-226e-4f4f-930c-7fad5475504f",
   "metadata": {},
   "outputs": [],
   "source": [
    "Kmeans = sk_KMeans(n_clusters =3, n_init = 'auto').fit(X)"
   ]
  },
  {
   "cell_type": "code",
   "execution_count": 64,
   "id": "a090394b-4a3e-40fc-bb0d-d8f37f408277",
   "metadata": {},
   "outputs": [
    {
     "data": {
      "text/plain": [
       "array([1, 0, 0, 2, 2, 1, 1, 0, 1, 1, 2, 1, 1, 0, 2, 1, 2, 2, 2, 1, 1, 0,\n",
       "       1, 1, 2, 0, 2, 0, 1, 0, 0, 2, 0, 0, 0, 1, 1, 2, 0, 2, 1, 2, 2, 0,\n",
       "       1, 2, 1, 0, 2, 0, 0, 1, 1, 0, 1, 0, 2, 1, 0, 2, 0, 0, 1, 0, 2, 0,\n",
       "       0, 1, 0, 1, 2, 1, 2, 1, 1, 0, 0, 1, 2, 0, 1, 1, 0, 2, 1, 2, 0, 0,\n",
       "       1, 1, 1, 0, 1, 2, 1, 1, 0, 2, 2, 0, 1, 1, 2, 0, 0, 1, 2, 2, 0, 2,\n",
       "       0, 2, 2, 0, 2, 0, 1, 0, 2, 2, 1, 1, 1, 1, 0, 0, 2, 2, 0, 1, 2, 2,\n",
       "       2, 0, 1, 0, 1, 0, 1, 0, 0, 0, 2, 0, 1, 1, 1, 0, 0, 1, 0, 0, 0, 2,\n",
       "       2, 0, 2, 0, 1, 2, 1, 1, 1, 0, 2, 2, 0, 1, 2, 0, 0, 1, 1, 1, 2, 1,\n",
       "       2, 0, 0, 1, 2, 0, 2, 0, 1, 0, 1, 1, 2, 1, 0, 2, 2, 1, 2, 1, 0, 0,\n",
       "       2, 2, 1, 1, 2, 0, 1, 2, 2, 0, 2, 0, 0, 0, 0, 0, 1, 2, 0, 0, 1, 0,\n",
       "       1, 2, 0, 2, 1, 2, 0, 0, 2, 2, 2, 2, 2, 2, 0, 2, 1, 1, 2, 2, 0, 0,\n",
       "       1, 1, 0, 1, 1, 2, 0, 0, 0, 0, 2, 0, 0, 0, 2, 0, 2, 1, 0, 0, 0, 1,\n",
       "       0, 0, 1, 0, 1, 2, 2, 1, 2, 0, 1, 1, 2, 1, 1, 0, 0, 1, 2, 2, 1, 0,\n",
       "       1, 1, 0, 2, 2, 1, 0, 0, 2, 1, 1, 1, 2, 1])"
      ]
     },
     "execution_count": 64,
     "metadata": {},
     "output_type": "execute_result"
    }
   ],
   "source": [
    "Kmeans.labels_"
   ]
  },
  {
   "cell_type": "code",
   "execution_count": 65,
   "id": "6c9719bd-9e0d-453d-addc-1675bd5dae9a",
   "metadata": {},
   "outputs": [
    {
     "data": {
      "image/png": "[encoded data removed]",
      "text/plain": [
       "<Figure size 700x700 with 1 Axes>"
      ]
     },
     "metadata": {},
     "output_type": "display_data"
    }
   ],
   "source": [
    "plt.figure(figsize=(7, 7))\n",
    "\n",
    "i=0\n",
    "for x in X:\n",
    "    plt.scatter(x[0], x[1], color=colors[Kmeans.labels_[i]])\n",
    "    i += 1"
   ]
  },
  {
   "cell_type": "code",
   "execution_count": 47,
   "id": "30bb5dbd-4a74-4156-b371-6d98d1055a54",
   "metadata": {},
   "outputs": [],
   "source": [
    "## yellowbrick"
   ]
  },
  {
   "cell_type": "code",
   "execution_count": null,
   "id": "4e4e6516-1e1b-4e55-8b64-44ef61b879e7",
   "metadata": {},
   "outputs": [],
   "source": [
    "from yellowbrick.cluster.elbow import kelbow_visualizer\n",
    "\n",
    "kelbow_visualizer(sk_KMeans(random_state=0), X, k=(1,10), timing=False);"
   ]
  },
  {
   "cell_type": "code",
   "execution_count": null,
   "id": "edbad6d8-f26e-4927-9f07-aa8b56cb81d1",
   "metadata": {},
   "outputs": [],
   "source": []
  },
  {
   "cell_type": "code",
   "execution_count": null,
   "id": "e00d548f-fd6a-4c12-87ad-d99ab76d3250",
   "metadata": {},
   "outputs": [],
   "source": []
  },
  {
   "cell_type": "code",
   "execution_count": null,
   "id": "f7e1d7bd-61e5-4c35-9c7a-0c949a8aa07a",
   "metadata": {},
   "outputs": [],
   "source": []
  },
  {
   "cell_type": "code",
   "execution_count": null,
   "id": "b4725e7c-4c6d-4372-b04e-2a9f4c024e61",
   "metadata": {},
   "outputs": [],
   "source": []
  },
  {
   "cell_type": "code",
   "execution_count": null,
   "id": "4d65ad3d-a87f-4269-b45b-567eee9853a2",
   "metadata": {},
   "outputs": [],
   "source": []
  },
  {
   "cell_type": "code",
   "execution_count": null,
   "id": "aae62374-387f-4354-9de2-6dd7c0cfe1c2",
   "metadata": {},
   "outputs": [],
   "source": []
  },
  {
   "cell_type": "code",
   "execution_count": null,
   "id": "b573a52b-955e-4fd2-87bc-224868f39492",
   "metadata": {},
   "outputs": [],
   "source": []
  },
  {
   "cell_type": "code",
   "execution_count": null,
   "id": "5ac30a96-3829-4ff1-aafe-a8a19701ecf0",
   "metadata": {},
   "outputs": [],
   "source": []
  },
  {
   "cell_type": "code",
   "execution_count": null,
   "id": "50148a04-ae8c-4379-90b1-c882916558fb",
   "metadata": {},
   "outputs": [],
   "source": []
  },
  {
   "cell_type": "code",
   "execution_count": null,
   "id": "f3379599-b5c7-4c08-b9d5-b9ff4ce0f4ae",
   "metadata": {},
   "outputs": [],
   "source": []
  },
  {
   "cell_type": "code",
   "execution_count": null,
   "id": "a3809118-0948-4bb2-aef2-335bdabedd0c",
   "metadata": {},
   "outputs": [],
   "source": []
  },
  {
   "cell_type": "code",
   "execution_count": null,
   "id": "37e4e5b3-384f-417a-bc59-f6d6c02328d2",
   "metadata": {},
   "outputs": [],
   "source": []
  },
  {
   "cell_type": "code",
   "execution_count": null,
   "id": "5d382979-a630-4fea-9d6a-e35a2340b4ca",
   "metadata": {},
   "outputs": [],
   "source": []
  },
  {
   "cell_type": "code",
   "execution_count": null,
   "id": "9e466598-8d3a-4a48-91f1-391155f82099",
   "metadata": {},
   "outputs": [],
   "source": []
  },
  {
   "cell_type": "code",
   "execution_count": null,
   "id": "911eca1a-a4b1-4e83-afe6-ddaa7d6974c3",
   "metadata": {},
   "outputs": [],
   "source": []
  },
  {
   "cell_type": "code",
   "execution_count": null,
   "id": "b115871a-9c16-4891-a438-c56829a013ac",
   "metadata": {},
   "outputs": [],
   "source": []
  },
  {
   "cell_type": "code",
   "execution_count": null,
   "id": "a1450e06-4912-4a84-a058-20bc653e042b",
   "metadata": {},
   "outputs": [],
   "source": []
  },
  {
   "cell_type": "code",
   "execution_count": null,
   "id": "1465b11a-edb7-47b2-b732-ac46c5a92ce2",
   "metadata": {},
   "outputs": [],
   "source": []
  },
  {
   "cell_type": "code",
   "execution_count": null,
   "id": "fb4ffc02-e284-4953-81ed-7c6b5255bbe4",
   "metadata": {},
   "outputs": [],
   "source": []
  },
  {
   "cell_type": "code",
   "execution_count": null,
   "id": "b30959eb-92a7-4237-9509-36db9ddc9a55",
   "metadata": {},
   "outputs": [],
   "source": []
  },
  {
   "cell_type": "code",
   "execution_count": null,
   "id": "e32c51d3-8f40-4c2f-8b54-404eddc3ffc9",
   "metadata": {},
   "outputs": [],
   "source": []
  },
  {
   "cell_type": "code",
   "execution_count": null,
   "id": "277caada-00ac-479c-8c25-aa6d198e8c09",
   "metadata": {},
   "outputs": [],
   "source": []
  },
  {
   "cell_type": "code",
   "execution_count": null,
   "id": "c4db0f8c-eaf7-4b9f-9895-379e208f8d79",
   "metadata": {},
   "outputs": [],
   "source": []
  },
  {
   "cell_type": "code",
   "execution_count": null,
   "id": "bc122a40-2fd7-48c7-9377-07bd978b1923",
   "metadata": {},
   "outputs": [],
   "source": []
  },
  {
   "cell_type": "code",
   "execution_count": null,
   "id": "849703f3-95ea-4f30-97f5-39f35347f71b",
   "metadata": {},
   "outputs": [],
   "source": []
  },
  {
   "cell_type": "code",
   "execution_count": null,
   "id": "4e0d5f2d-3718-40c5-83bd-58e6061fbc9f",
   "metadata": {},
   "outputs": [],
   "source": []
  },
  {
   "cell_type": "code",
   "execution_count": null,
   "id": "bfc933fa-f28a-4301-a412-54a2e5b1dbc4",
   "metadata": {},
   "outputs": [],
   "source": []
  },
  {
   "cell_type": "code",
   "execution_count": null,
   "id": "34987398-e5bb-4e90-8216-b8ee3f480fdd",
   "metadata": {},
   "outputs": [],
   "source": []
  },
  {
   "cell_type": "code",
   "execution_count": null,
   "id": "86d367a1-bf4a-4bb1-8538-1cde5d334e5b",
   "metadata": {},
   "outputs": [],
   "source": []
  },
  {
   "cell_type": "code",
   "execution_count": null,
   "id": "64d0bafd-059e-45d1-90ce-71059c756cda",
   "metadata": {},
   "outputs": [],
   "source": []
  },
  {
   "cell_type": "code",
   "execution_count": null,
   "id": "0f8b3491-1901-40c2-87d9-f4e388c1919f",
   "metadata": {},
   "outputs": [],
   "source": []
  },
  {
   "cell_type": "code",
   "execution_count": null,
   "id": "7826b065-e553-4b1a-8345-5b055938ce05",
   "metadata": {},
   "outputs": [],
   "source": []
  },
  {
   "cell_type": "code",
   "execution_count": null,
   "id": "1ba6205e-e13d-4585-b61f-e93ebb883549",
   "metadata": {},
   "outputs": [],
   "source": []
  },
  {
   "cell_type": "code",
   "execution_count": null,
   "id": "76787521-89c8-4c4f-abef-1d270b604833",
   "metadata": {},
   "outputs": [],
   "source": []
  },
  {
   "cell_type": "code",
   "execution_count": null,
   "id": "abdc1357-838b-4bcb-b208-59c1a758a83f",
   "metadata": {},
   "outputs": [],
   "source": []
  },
  {
   "cell_type": "code",
   "execution_count": null,
   "id": "00abc570-6e8d-4873-8505-7b70b20fb117",
   "metadata": {},
   "outputs": [],
   "source": []
  },
  {
   "cell_type": "code",
   "execution_count": null,
   "id": "f4560601-dd6c-4f5c-aa4f-7f5224fd60c4",
   "metadata": {},
   "outputs": [],
   "source": []
  },
  {
   "cell_type": "code",
   "execution_count": null,
   "id": "44760236-7bb3-46f1-9de9-293bb5801fa8",
   "metadata": {},
   "outputs": [],
   "source": []
  },
  {
   "cell_type": "code",
   "execution_count": null,
   "id": "9e7fcba4-150d-4164-9cc4-53dcad4e20aa",
   "metadata": {},
   "outputs": [],
   "source": []
  },
  {
   "cell_type": "code",
   "execution_count": 34,
   "id": "4591a904-800a-4bf3-a995-6d4f89d8209c",
   "metadata": {},
   "outputs": [],
   "source": [
    "#можно и самим посчитаьь через цикл"
   ]
  },
  {
   "cell_type": "code",
   "execution_count": 35,
   "id": "7be5ce2e-0daf-482d-a916-6404dbb498fb",
   "metadata": {},
   "outputs": [],
   "source": [
    "dists = 0\n",
    "for x in X:\n",
    "    dists += np.linalg.norm( x - centroid) ** 2\n",
    "    "
   ]
  },
  {
   "cell_type": "code",
   "execution_count": 36,
   "id": "4dce7252-2f0f-42aa-a5a9-9ee4cb053aa0",
   "metadata": {},
   "outputs": [
    {
     "data": {
      "text/plain": [
       "13854.939841543317"
      ]
     },
     "execution_count": 36,
     "metadata": {},
     "output_type": "execute_result"
    }
   ],
   "source": [
    "dists"
   ]
  },
  {
   "cell_type": "code",
   "execution_count": 43,
   "id": "3ee4237a-d5a9-495c-9e68-68df4a68ca7b",
   "metadata": {},
   "outputs": [
    {
     "name": "stdout",
     "output_type": "stream",
     "text": [
      "Разница в sklearn и цикле 13854.939841543317\n"
     ]
    }
   ],
   "source": [
    "delta = abs(km.inertia_ - dists)/dists\n",
    "print('Разница в sklearn и цикле', dists)"
   ]
  },
  {
   "cell_type": "code",
   "execution_count": null,
   "id": "8edfb183-8a4f-47fe-b39d-02a6f8c9f040",
   "metadata": {},
   "outputs": [],
   "source": []
  },
  {
   "cell_type": "code",
   "execution_count": null,
   "id": "fcf4b4c7-7c78-4c30-853c-2801f3d1d0e7",
   "metadata": {},
   "outputs": [],
   "source": []
  },
  {
   "cell_type": "code",
   "execution_count": null,
   "id": "d51b7809-d279-4fa7-9ead-4843040de2ab",
   "metadata": {},
   "outputs": [],
   "source": []
  },
  {
   "cell_type": "code",
   "execution_count": null,
   "id": "d2739efa-3115-4a25-b09b-db3e54063192",
   "metadata": {},
   "outputs": [],
   "source": []
  },
  {
   "cell_type": "code",
   "execution_count": null,
   "id": "879e93a5-949e-41bc-999d-8485f6789f85",
   "metadata": {},
   "outputs": [],
   "source": []
  },
  {
   "cell_type": "code",
   "execution_count": null,
   "id": "2da9e919-193c-47e1-b4ba-2719d0948cc2",
   "metadata": {},
   "outputs": [],
   "source": []
  },
  {
   "cell_type": "code",
   "execution_count": null,
   "id": "a16bb4e4-8bfa-439c-bb15-1b8b5dc9ecd0",
   "metadata": {},
   "outputs": [],
   "source": []
  },
  {
   "cell_type": "code",
   "execution_count": null,
   "id": "5b6ab128-a388-451d-865d-78ffd5e59ae5",
   "metadata": {},
   "outputs": [],
   "source": []
  },
  {
   "cell_type": "code",
   "execution_count": null,
   "id": "7b11da02-aae4-4f0c-8bfb-f46a89ee9232",
   "metadata": {},
   "outputs": [],
   "source": []
  },
  {
   "cell_type": "code",
   "execution_count": null,
   "id": "7a032217-4f1c-4d02-831f-d3220e3f25cc",
   "metadata": {},
   "outputs": [],
   "source": []
  },
  {
   "cell_type": "code",
   "execution_count": null,
   "id": "adc7c471-aea0-4771-bbba-45db13a6b5bd",
   "metadata": {},
   "outputs": [],
   "source": []
  },
  {
   "cell_type": "code",
   "execution_count": null,
   "id": "d4130578-47d5-4685-84d2-60f02d2581c0",
   "metadata": {},
   "outputs": [],
   "source": []
  },
  {
   "cell_type": "code",
   "execution_count": null,
   "id": "53a35842-ade0-4a7e-a8e9-451b61c58aca",
   "metadata": {},
   "outputs": [],
   "source": []
  },
  {
   "cell_type": "code",
   "execution_count": null,
   "id": "58a97e9f-c40d-4237-a2ab-56df3fd389cd",
   "metadata": {},
   "outputs": [],
   "source": []
  },
  {
   "cell_type": "code",
   "execution_count": null,
   "id": "571114bb-05f8-4a6a-83dd-af3b903d9666",
   "metadata": {},
   "outputs": [],
   "source": []
  },
  {
   "cell_type": "code",
   "execution_count": null,
   "id": "8a966639-3256-4c49-a81f-b2b06ddbcd0b",
   "metadata": {},
   "outputs": [],
   "source": []
  },
  {
   "cell_type": "code",
   "execution_count": null,
   "id": "3fc31f68-6c14-4f62-bf4d-c7d9bd8bfba8",
   "metadata": {},
   "outputs": [],
   "source": []
  },
  {
   "cell_type": "code",
   "execution_count": null,
   "id": "c74cf154-b7d5-45f9-8b7b-ea8bf48d89c2",
   "metadata": {},
   "outputs": [],
   "source": []
  },
  {
   "cell_type": "code",
   "execution_count": null,
   "id": "6eb35f28-8ef7-4dc9-9d14-ca8ed26b8768",
   "metadata": {},
   "outputs": [],
   "source": []
  },
  {
   "cell_type": "code",
   "execution_count": null,
   "id": "932156bf-1653-4f49-b90c-f0c97e644d95",
   "metadata": {},
   "outputs": [],
   "source": []
  },
  {
   "cell_type": "code",
   "execution_count": null,
   "id": "1d6e5c7c-7b5d-4a49-9d42-ee4ecc01efe1",
   "metadata": {},
   "outputs": [],
   "source": []
  },
  {
   "cell_type": "code",
   "execution_count": null,
   "id": "4ac9f686-e62d-4882-a9f8-1984f919f21a",
   "metadata": {},
   "outputs": [],
   "source": []
  },
  {
   "cell_type": "code",
   "execution_count": null,
   "id": "01076a81-46e8-4ef3-91b4-5a9be34a6346",
   "metadata": {},
   "outputs": [],
   "source": []
  },
  {
   "cell_type": "code",
   "execution_count": null,
   "id": "b82afc17-4eb3-4ab5-b012-e77ba35edb30",
   "metadata": {},
   "outputs": [],
   "source": []
  },
  {
   "cell_type": "code",
   "execution_count": null,
   "id": "a14f63c8-e5f4-477f-ac76-70483a723599",
   "metadata": {},
   "outputs": [],
   "source": []
  },
  {
   "cell_type": "code",
   "execution_count": null,
   "id": "907e7c2f-014a-453c-8005-40c875c9bd92",
   "metadata": {},
   "outputs": [],
   "source": []
  }
 ],
 "metadata": {
  "kernelspec": {
   "display_name": "Python 3 (ipykernel)",
   "language": "python",
   "name": "python3"
  },
  "language_info": {
   "codemirror_mode": {
    "name": "ipython",
    "version": 3
   },
   "file_extension": ".py",
   "mimetype": "text/x-python",
   "name": "python",
   "nbconvert_exporter": "python",
   "pygments_lexer": "ipython3",
   "version": "3.12.0"
  }
 },
 "nbformat": 4,
 "nbformat_minor": 5
}
