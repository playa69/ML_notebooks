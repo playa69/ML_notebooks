{
 "cells": [
  {
   "cell_type": "markdown",
   "id": "a620bf29-0cd1-438b-9911-a17c00c6afc4",
   "metadata": {},
   "source": [
    "## kNN для бинарных features\n"
   ]
  },
  {
   "cell_type": "code",
   "execution_count": 1,
   "id": "85032af7-481f-4f00-b443-0c7f3f53421a",
   "metadata": {},
   "outputs": [],
   "source": [
    "from sklearn.datasets import make_classification"
   ]
  },
  {
   "cell_type": "code",
   "execution_count": 4,
   "id": "3525388b-0702-4e85-805a-8862a013cdf2",
   "metadata": {},
   "outputs": [],
   "source": [
    "X, y = make_classification(n_samples=110,\n",
    "    n_features=2,n_informative =2, n_redundant = 0, n_classes = 2, random_state = 6)"
   ]
  },
  {
   "cell_type": "code",
   "execution_count": 3,
   "id": "dc20bac4-49a5-474f-903a-0cbba68ab65b",
   "metadata": {},
   "outputs": [
    {
     "data": {
      "text/plain": [
       "\u001b[1;31mSignature:\u001b[0m\n",
       "\u001b[0mmake_classification\u001b[0m\u001b[1;33m(\u001b[0m\u001b[1;33m\n",
       "\u001b[0m    \u001b[0mn_samples\u001b[0m\u001b[1;33m=\u001b[0m\u001b[1;36m100\u001b[0m\u001b[1;33m,\u001b[0m\u001b[1;33m\n",
       "\u001b[0m    \u001b[0mn_features\u001b[0m\u001b[1;33m=\u001b[0m\u001b[1;36m20\u001b[0m\u001b[1;33m,\u001b[0m\u001b[1;33m\n",
       "\u001b[0m    \u001b[1;33m*\u001b[0m\u001b[1;33m,\u001b[0m\u001b[1;33m\n",
       "\u001b[0m    \u001b[0mn_informative\u001b[0m\u001b[1;33m=\u001b[0m\u001b[1;36m2\u001b[0m\u001b[1;33m,\u001b[0m\u001b[1;33m\n",
       "\u001b[0m    \u001b[0mn_redundant\u001b[0m\u001b[1;33m=\u001b[0m\u001b[1;36m2\u001b[0m\u001b[1;33m,\u001b[0m\u001b[1;33m\n",
       "\u001b[0m    \u001b[0mn_repeated\u001b[0m\u001b[1;33m=\u001b[0m\u001b[1;36m0\u001b[0m\u001b[1;33m,\u001b[0m\u001b[1;33m\n",
       "\u001b[0m    \u001b[0mn_classes\u001b[0m\u001b[1;33m=\u001b[0m\u001b[1;36m2\u001b[0m\u001b[1;33m,\u001b[0m\u001b[1;33m\n",
       "\u001b[0m    \u001b[0mn_clusters_per_class\u001b[0m\u001b[1;33m=\u001b[0m\u001b[1;36m2\u001b[0m\u001b[1;33m,\u001b[0m\u001b[1;33m\n",
       "\u001b[0m    \u001b[0mweights\u001b[0m\u001b[1;33m=\u001b[0m\u001b[1;32mNone\u001b[0m\u001b[1;33m,\u001b[0m\u001b[1;33m\n",
       "\u001b[0m    \u001b[0mflip_y\u001b[0m\u001b[1;33m=\u001b[0m\u001b[1;36m0.01\u001b[0m\u001b[1;33m,\u001b[0m\u001b[1;33m\n",
       "\u001b[0m    \u001b[0mclass_sep\u001b[0m\u001b[1;33m=\u001b[0m\u001b[1;36m1.0\u001b[0m\u001b[1;33m,\u001b[0m\u001b[1;33m\n",
       "\u001b[0m    \u001b[0mhypercube\u001b[0m\u001b[1;33m=\u001b[0m\u001b[1;32mTrue\u001b[0m\u001b[1;33m,\u001b[0m\u001b[1;33m\n",
       "\u001b[0m    \u001b[0mshift\u001b[0m\u001b[1;33m=\u001b[0m\u001b[1;36m0.0\u001b[0m\u001b[1;33m,\u001b[0m\u001b[1;33m\n",
       "\u001b[0m    \u001b[0mscale\u001b[0m\u001b[1;33m=\u001b[0m\u001b[1;36m1.0\u001b[0m\u001b[1;33m,\u001b[0m\u001b[1;33m\n",
       "\u001b[0m    \u001b[0mshuffle\u001b[0m\u001b[1;33m=\u001b[0m\u001b[1;32mTrue\u001b[0m\u001b[1;33m,\u001b[0m\u001b[1;33m\n",
       "\u001b[0m    \u001b[0mrandom_state\u001b[0m\u001b[1;33m=\u001b[0m\u001b[1;32mNone\u001b[0m\u001b[1;33m,\u001b[0m\u001b[1;33m\n",
       "\u001b[0m\u001b[1;33m)\u001b[0m\u001b[1;33m\u001b[0m\u001b[1;33m\u001b[0m\u001b[0m\n",
       "\u001b[1;31mDocstring:\u001b[0m\n",
       "Generate a random n-class classification problem.\n",
       "\n",
       "This initially creates clusters of points normally distributed (std=1)\n",
       "about vertices of an ``n_informative``-dimensional hypercube with sides of\n",
       "length ``2*class_sep`` and assigns an equal number of clusters to each\n",
       "class. It introduces interdependence between these features and adds\n",
       "various types of further noise to the data.\n",
       "\n",
       "Without shuffling, ``X`` horizontally stacks features in the following\n",
       "order: the primary ``n_informative`` features, followed by ``n_redundant``\n",
       "linear combinations of the informative features, followed by ``n_repeated``\n",
       "duplicates, drawn randomly with replacement from the informative and\n",
       "redundant features. The remaining features are filled with random noise.\n",
       "Thus, without shuffling, all useful features are contained in the columns\n",
       "``X[:, :n_informative + n_redundant + n_repeated]``.\n",
       "\n",
       "Read more in the :ref:`User Guide <sample_generators>`.\n",
       "\n",
       "Parameters\n",
       "----------\n",
       "n_samples : int, default=100\n",
       "    The number of samples.\n",
       "\n",
       "n_features : int, default=20\n",
       "    The total number of features. These comprise ``n_informative``\n",
       "    informative features, ``n_redundant`` redundant features,\n",
       "    ``n_repeated`` duplicated features and\n",
       "    ``n_features-n_informative-n_redundant-n_repeated`` useless features\n",
       "    drawn at random.\n",
       "\n",
       "n_informative : int, default=2\n",
       "    The number of informative features. Each class is composed of a number\n",
       "    of gaussian clusters each located around the vertices of a hypercube\n",
       "    in a subspace of dimension ``n_informative``. For each cluster,\n",
       "    informative features are drawn independently from  N(0, 1) and then\n",
       "    randomly linearly combined within each cluster in order to add\n",
       "    covariance. The clusters are then placed on the vertices of the\n",
       "    hypercube.\n",
       "\n",
       "n_redundant : int, default=2\n",
       "    The number of redundant features. These features are generated as\n",
       "    random linear combinations of the informative features.\n",
       "\n",
       "n_repeated : int, default=0\n",
       "    The number of duplicated features, drawn randomly from the informative\n",
       "    and the redundant features.\n",
       "\n",
       "n_classes : int, default=2\n",
       "    The number of classes (or labels) of the classification problem.\n",
       "\n",
       "n_clusters_per_class : int, default=2\n",
       "    The number of clusters per class.\n",
       "\n",
       "weights : array-like of shape (n_classes,) or (n_classes - 1,),              default=None\n",
       "    The proportions of samples assigned to each class. If None, then\n",
       "    classes are balanced. Note that if ``len(weights) == n_classes - 1``,\n",
       "    then the last class weight is automatically inferred.\n",
       "    More than ``n_samples`` samples may be returned if the sum of\n",
       "    ``weights`` exceeds 1. Note that the actual class proportions will\n",
       "    not exactly match ``weights`` when ``flip_y`` isn't 0.\n",
       "\n",
       "flip_y : float, default=0.01\n",
       "    The fraction of samples whose class is assigned randomly. Larger\n",
       "    values introduce noise in the labels and make the classification\n",
       "    task harder. Note that the default setting flip_y > 0 might lead\n",
       "    to less than ``n_classes`` in y in some cases.\n",
       "\n",
       "class_sep : float, default=1.0\n",
       "    The factor multiplying the hypercube size.  Larger values spread\n",
       "    out the clusters/classes and make the classification task easier.\n",
       "\n",
       "hypercube : bool, default=True\n",
       "    If True, the clusters are put on the vertices of a hypercube. If\n",
       "    False, the clusters are put on the vertices of a random polytope.\n",
       "\n",
       "shift : float, ndarray of shape (n_features,) or None, default=0.0\n",
       "    Shift features by the specified value. If None, then features\n",
       "    are shifted by a random value drawn in [-class_sep, class_sep].\n",
       "\n",
       "scale : float, ndarray of shape (n_features,) or None, default=1.0\n",
       "    Multiply features by the specified value. If None, then features\n",
       "    are scaled by a random value drawn in [1, 100]. Note that scaling\n",
       "    happens after shifting.\n",
       "\n",
       "shuffle : bool, default=True\n",
       "    Shuffle the samples and the features.\n",
       "\n",
       "random_state : int, RandomState instance or None, default=None\n",
       "    Determines random number generation for dataset creation. Pass an int\n",
       "    for reproducible output across multiple function calls.\n",
       "    See :term:`Glossary <random_state>`.\n",
       "\n",
       "Returns\n",
       "-------\n",
       "X : ndarray of shape (n_samples, n_features)\n",
       "    The generated samples.\n",
       "\n",
       "y : ndarray of shape (n_samples,)\n",
       "    The integer labels for class membership of each sample.\n",
       "\n",
       "See Also\n",
       "--------\n",
       "make_blobs : Simplified variant.\n",
       "make_multilabel_classification : Unrelated generator for multilabel tasks.\n",
       "\n",
       "Notes\n",
       "-----\n",
       "The algorithm is adapted from Guyon [1] and was designed to generate\n",
       "the \"Madelon\" dataset.\n",
       "\n",
       "References\n",
       "----------\n",
       ".. [1] I. Guyon, \"Design of experiments for the NIPS 2003 variable\n",
       "       selection benchmark\", 2003.\n",
       "\u001b[1;31mFile:\u001b[0m      c:\\users\\user1\\appdata\\local\\programs\\python\\python312\\lib\\site-packages\\sklearn\\datasets\\_samples_generator.py\n",
       "\u001b[1;31mType:\u001b[0m      function"
      ]
     },
     "metadata": {},
     "output_type": "display_data"
    }
   ],
   "source": [
    "make_classification?"
   ]
  },
  {
   "cell_type": "code",
   "execution_count": 5,
   "id": "e19ec077-39a1-46c1-80a6-5dce39baa203",
   "metadata": {},
   "outputs": [
    {
     "data": {
      "text/plain": [
       "array([[-1.71435607,  1.05793305],\n",
       "       [ 1.22308043, -2.2635163 ],\n",
       "       [-0.74339553, -0.82836749],\n",
       "       [-3.10114999,  0.55737705],\n",
       "       [-1.25272785, -1.99962916],\n",
       "       [ 1.295549  , -0.90585939],\n",
       "       [-0.39121512,  1.30843756],\n",
       "       [-2.29436606, -0.32114685],\n",
       "       [-0.37326143, -1.5106069 ],\n",
       "       [ 0.84350362,  0.03804169],\n",
       "       [-1.23337772,  0.62869299],\n",
       "       [-0.51595847, -1.69033762],\n",
       "       [ 0.11293492, -1.46417755],\n",
       "       [ 0.39978471, -1.3120226 ],\n",
       "       [-2.49684085, -0.0139064 ],\n",
       "       [ 1.19899006,  1.27323302],\n",
       "       [-1.84733371,  1.17918884],\n",
       "       [-1.68009315,  0.94130391],\n",
       "       [ 2.6400623 , -0.13810078],\n",
       "       [-1.8453037 ,  0.96321745],\n",
       "       [-0.71170663,  0.71554382],\n",
       "       [-0.02934338, -1.59054511],\n",
       "       [ 1.23158511,  1.36757795],\n",
       "       [ 1.72196418, -0.7425116 ],\n",
       "       [ 1.5719743 , -3.17595646],\n",
       "       [ 0.14132289, -1.44743003],\n",
       "       [ 1.80872881, -0.63583078],\n",
       "       [ 1.79510491, -0.69260501],\n",
       "       [ 0.07462334,  1.01023259],\n",
       "       [ 0.95171302,  1.44854725],\n",
       "       [-1.19446451, -0.8474957 ],\n",
       "       [ 1.25632941,  0.35620977],\n",
       "       [-2.24908252, -0.28644243],\n",
       "       [ 0.82474865, -0.03271731],\n",
       "       [ 0.18634794,  0.05062521],\n",
       "       [ 1.03098019,  1.42444297],\n",
       "       [ 0.68659065, -0.02781403],\n",
       "       [-1.14524878,  1.4430906 ],\n",
       "       [ 0.22013091,  0.9582595 ],\n",
       "       [ 0.40798076, -2.16809281],\n",
       "       [ 0.4668523 ,  1.1886345 ],\n",
       "       [ 0.82664994,  1.4672776 ],\n",
       "       [-0.47732004,  0.97301565],\n",
       "       [-0.52964965, -1.61180206],\n",
       "       [ 1.18049148, -0.88573201],\n",
       "       [ 0.56858555,  1.63416065],\n",
       "       [-1.63075668,  0.88990026],\n",
       "       [-0.52147411, -1.29269155],\n",
       "       [ 1.17920531, -0.95482454],\n",
       "       [-1.08235506, -0.95981772],\n",
       "       [-0.01062043, -1.51978412],\n",
       "       [-1.11904418, -1.35724946],\n",
       "       [-0.43372781,  0.81710993],\n",
       "       [-1.90408022,  0.78778037],\n",
       "       [-0.12250595, -1.89663844],\n",
       "       [-1.19512354,  1.02316418],\n",
       "       [-0.11045328, -1.70842715],\n",
       "       [-1.5727935 ,  0.95296353],\n",
       "       [-0.13483089,  0.36769071],\n",
       "       [-1.58212305,  0.2779565 ],\n",
       "       [ 1.28048571, -0.66705982],\n",
       "       [-1.29807152,  1.00564621],\n",
       "       [-2.60556052,  0.20090259],\n",
       "       [ 0.22402532,  1.70119761],\n",
       "       [ 0.01109194,  0.81931453],\n",
       "       [ 1.12696083,  2.34009809],\n",
       "       [ 0.34701998,  0.64856096],\n",
       "       [ 4.58019646,  0.59593671],\n",
       "       [ 1.68669243, -0.82136343],\n",
       "       [ 0.52861697, -0.97362376],\n",
       "       [ 1.08127939, -0.76460936],\n",
       "       [-1.47184038,  1.03743568],\n",
       "       [-0.21275877, -1.83408772],\n",
       "       [-2.16271324,  0.22109986],\n",
       "       [ 1.10337767,  1.54338503],\n",
       "       [ 1.24406513, -0.13074864],\n",
       "       [-0.40739519, -1.42213182],\n",
       "       [-0.93039933, -1.09566136],\n",
       "       [ 0.23490551, -0.37733286],\n",
       "       [ 1.02465948, -0.19060412],\n",
       "       [ 1.61901905,  1.94712244],\n",
       "       [ 1.23318754, -0.76543014],\n",
       "       [ 0.61407512, -2.55871026],\n",
       "       [ 1.29357898, -0.96566098],\n",
       "       [-2.14728937,  0.55909197],\n",
       "       [-0.70433282, -0.63475682],\n",
       "       [-2.29338649,  0.20224234],\n",
       "       [-0.23878794,  1.09339004],\n",
       "       [ 1.2265298 ,  1.8491658 ],\n",
       "       [ 1.64658987, -0.55485143],\n",
       "       [ 1.99181785,  1.11576034],\n",
       "       [ 1.09924989, -0.90411481],\n",
       "       [ 0.80976032, -1.12345802],\n",
       "       [-0.0794199 ,  1.66274856],\n",
       "       [-2.00891792, -0.15619181],\n",
       "       [-0.4338418 , -1.93937779],\n",
       "       [-0.68161073,  1.14872781],\n",
       "       [ 1.2366826 , -0.97721481],\n",
       "       [ 0.02942419, -1.32562721],\n",
       "       [ 2.61750165,  2.21818536],\n",
       "       [ 1.35553342,  1.26584188],\n",
       "       [-1.03567978,  1.0224662 ],\n",
       "       [-1.73036196, -0.17567094],\n",
       "       [-0.71819552,  0.30636576],\n",
       "       [-1.74881986,  0.94640166],\n",
       "       [ 0.362523  , -1.99527252],\n",
       "       [-0.10894122, -1.62186578],\n",
       "       [-1.79350521, -1.06662938],\n",
       "       [ 0.43640371,  0.59084543],\n",
       "       [ 0.78339011, -1.07954513]])"
      ]
     },
     "metadata": {},
     "output_type": "display_data"
    },
    {
     "data": {
      "text/plain": [
       "array([1, 0, 0, 0, 0, 0, 1, 0, 0, 1, 1, 0, 0, 0, 0, 1, 1, 1, 0, 1, 1, 0,\n",
       "       1, 0, 0, 0, 0, 0, 1, 1, 0, 1, 0, 1, 1, 1, 1, 1, 1, 0, 1, 1, 1, 0,\n",
       "       0, 1, 1, 0, 0, 0, 0, 0, 1, 1, 0, 1, 0, 1, 1, 1, 0, 1, 0, 1, 1, 1,\n",
       "       1, 0, 0, 0, 1, 1, 0, 0, 1, 1, 0, 0, 1, 1, 1, 1, 0, 0, 1, 0, 0, 1,\n",
       "       1, 0, 1, 0, 0, 1, 0, 0, 1, 0, 0, 1, 1, 1, 0, 1, 1, 0, 0, 0, 1, 0])"
      ]
     },
     "metadata": {},
     "output_type": "display_data"
    }
   ],
   "source": [
    "display(X,y)"
   ]
  },
  {
   "cell_type": "markdown",
   "id": "e2ad9158-be0e-4f0c-9f10-61fa5e70cdb8",
   "metadata": {},
   "source": [
    "## Отложенная выборка"
   ]
  },
  {
   "cell_type": "code",
   "execution_count": 6,
   "id": "b95c7b55-762d-472c-9ca8-617cb126476c",
   "metadata": {},
   "outputs": [],
   "source": [
    "from sklearn.model_selection import train_test_split"
   ]
  },
  {
   "cell_type": "code",
   "execution_count": 7,
   "id": "a31046a8-f058-4fa2-ab12-019d7ad5ccac",
   "metadata": {},
   "outputs": [],
   "source": [
    "X_train, X_test, y_train, y_test = train_test_split(X,y,random_state = 10, test_size=10)"
   ]
  },
  {
   "cell_type": "code",
   "execution_count": 8,
   "id": "d6951790-2a2a-4f88-ba57-3e7e68114f29",
   "metadata": {},
   "outputs": [
    {
     "data": {
      "text/plain": [
       "(100, 2)"
      ]
     },
     "execution_count": 8,
     "metadata": {},
     "output_type": "execute_result"
    }
   ],
   "source": [
    "X_train.shape"
   ]
  },
  {
   "cell_type": "code",
   "execution_count": 9,
   "id": "135a0649-e3d6-44d7-a7ae-0a2332c4845e",
   "metadata": {},
   "outputs": [
    {
     "data": {
      "text/plain": [
       "(10, 2)"
      ]
     },
     "execution_count": 9,
     "metadata": {},
     "output_type": "execute_result"
    }
   ],
   "source": [
    "X_test.shape"
   ]
  },
  {
   "cell_type": "code",
   "execution_count": 10,
   "id": "998346d7-5ad6-4c61-9917-eb89c2b5d523",
   "metadata": {},
   "outputs": [
    {
     "data": {
      "text/plain": [
       "(110, 2)"
      ]
     },
     "execution_count": 10,
     "metadata": {},
     "output_type": "execute_result"
    }
   ],
   "source": [
    "X.shape"
   ]
  },
  {
   "cell_type": "markdown",
   "id": "0c8abf6a-ee8c-4729-a0ba-71afa4ad8bfd",
   "metadata": {},
   "source": [
    "## Отрисуем"
   ]
  },
  {
   "cell_type": "code",
   "execution_count": 13,
   "id": "7c6f6022-804c-49e7-b322-adffb5f554a0",
   "metadata": {},
   "outputs": [],
   "source": [
    "import seaborn as sns"
   ]
  },
  {
   "cell_type": "code",
   "execution_count": 14,
   "id": "218ca5aa-f998-499a-893b-0558225e57e0",
   "metadata": {},
   "outputs": [],
   "source": [
    "import matplotlib.pyplot as plt"
   ]
  },
  {
   "cell_type": "code",
   "execution_count": 15,
   "id": "051a4442-7a51-4155-a410-799946ad5a8f",
   "metadata": {},
   "outputs": [],
   "source": [
    "from matplotlib.colors import ListedColormap"
   ]
  },
  {
   "cell_type": "code",
   "execution_count": 16,
   "id": "d8a9de0a-3efa-4f01-aad1-4703dbbe579d",
   "metadata": {},
   "outputs": [],
   "source": [
    "cmap_bold = [\"darkorange\", \"darkblue\"]"
   ]
  },
  {
   "cell_type": "code",
   "execution_count": 22,
   "id": "2a609691-d39e-4a6c-a99d-50943c002e6a",
   "metadata": {},
   "outputs": [
    {
     "data": {
      "text/plain": [
       "array([ 1.17920531, -0.40739519,  0.43640371, -1.73036196])"
      ]
     },
     "execution_count": 22,
     "metadata": {},
     "output_type": "execute_result"
    }
   ],
   "source": [
    "X_train[0:4, 0]"
   ]
  },
  {
   "cell_type": "code",
   "execution_count": 23,
   "id": "314959b1-f344-4410-86ab-882cde555cd6",
   "metadata": {},
   "outputs": [
    {
     "data": {
      "text/plain": [
       "array([[ 1.17920531, -0.95482454],\n",
       "       [-0.40739519, -1.42213182],\n",
       "       [ 0.43640371,  0.59084543],\n",
       "       [-1.73036196, -0.17567094],\n",
       "       [ 1.22308043, -2.2635163 ],\n",
       "       [-1.23337772,  0.62869299],\n",
       "       [ 0.40798076, -2.16809281],\n",
       "       [ 0.80976032, -1.12345802],\n",
       "       [ 0.22402532,  1.70119761],\n",
       "       [-0.52147411, -1.29269155],\n",
       "       [-1.8453037 ,  0.96321745],\n",
       "       [-2.49684085, -0.0139064 ],\n",
       "       [ 1.03098019,  1.42444297],\n",
       "       [ 1.10337767,  1.54338503],\n",
       "       [ 1.24406513, -0.13074864],\n",
       "       [-0.68161073,  1.14872781],\n",
       "       [-3.10114999,  0.55737705],\n",
       "       [ 1.08127939, -0.76460936],\n",
       "       [-0.70433282, -0.63475682],\n",
       "       [ 2.61750165,  2.21818536],\n",
       "       [-1.90408022,  0.78778037],\n",
       "       [ 4.58019646,  0.59593671],\n",
       "       [ 0.61407512, -2.55871026],\n",
       "       [-0.13483089,  0.36769071],\n",
       "       [-0.47732004,  0.97301565],\n",
       "       [-0.11045328, -1.70842715],\n",
       "       [-1.58212305,  0.2779565 ],\n",
       "       [-1.74881986,  0.94640166],\n",
       "       [ 1.28048571, -0.66705982],\n",
       "       [-1.47184038,  1.03743568],\n",
       "       [-0.02934338, -1.59054511],\n",
       "       [-0.39121512,  1.30843756],\n",
       "       [ 0.56858555,  1.63416065],\n",
       "       [-0.71819552,  0.30636576],\n",
       "       [ 1.23318754, -0.76543014],\n",
       "       [ 0.34701998,  0.64856096],\n",
       "       [ 0.02942419, -1.32562721],\n",
       "       [ 0.18634794,  0.05062521],\n",
       "       [-2.29338649,  0.20224234],\n",
       "       [-0.01062043, -1.51978412],\n",
       "       [-1.19512354,  1.02316418],\n",
       "       [-1.29807152,  1.00564621],\n",
       "       [-1.25272785, -1.99962916],\n",
       "       [ 1.295549  , -0.90585939],\n",
       "       [ 1.18049148, -0.88573201],\n",
       "       [ 1.5719743 , -3.17595646],\n",
       "       [-2.24908252, -0.28644243],\n",
       "       [-0.71170663,  0.71554382],\n",
       "       [ 1.09924989, -0.90411481],\n",
       "       [ 1.68669243, -0.82136343],\n",
       "       [-0.10894122, -1.62186578],\n",
       "       [-2.29436606, -0.32114685],\n",
       "       [-1.63075668,  0.88990026],\n",
       "       [-1.68009315,  0.94130391],\n",
       "       [-2.14728937,  0.55909197],\n",
       "       [ 1.99181785,  1.11576034],\n",
       "       [-1.79350521, -1.06662938],\n",
       "       [ 0.78339011, -1.07954513],\n",
       "       [ 0.362523  , -1.99527252],\n",
       "       [-0.4338418 , -1.93937779],\n",
       "       [ 1.72196418, -0.7425116 ],\n",
       "       [ 1.23158511,  1.36757795],\n",
       "       [ 2.6400623 , -0.13810078],\n",
       "       [ 1.79510491, -0.69260501],\n",
       "       [ 1.2366826 , -0.97721481],\n",
       "       [-1.5727935 ,  0.95296353],\n",
       "       [ 1.25632941,  0.35620977],\n",
       "       [ 1.12696083,  2.34009809],\n",
       "       [ 0.11293492, -1.46417755],\n",
       "       [ 1.61901905,  1.94712244],\n",
       "       [-1.19446451, -0.8474957 ],\n",
       "       [ 1.29357898, -0.96566098],\n",
       "       [ 0.14132289, -1.44743003],\n",
       "       [ 0.39978471, -1.3120226 ],\n",
       "       [ 0.52861697, -0.97362376],\n",
       "       [-0.93039933, -1.09566136],\n",
       "       [-2.00891792, -0.15619181],\n",
       "       [-1.11904418, -1.35724946],\n",
       "       [-1.08235506, -0.95981772],\n",
       "       [ 0.23490551, -0.37733286],\n",
       "       [-0.21275877, -1.83408772],\n",
       "       [ 0.82474865, -0.03271731],\n",
       "       [-2.60556052,  0.20090259],\n",
       "       [ 1.2265298 ,  1.8491658 ],\n",
       "       [-0.12250595, -1.89663844],\n",
       "       [-0.51595847, -1.69033762],\n",
       "       [-1.84733371,  1.17918884],\n",
       "       [ 0.68659065, -0.02781403],\n",
       "       [ 0.4668523 ,  1.1886345 ],\n",
       "       [-1.71435607,  1.05793305],\n",
       "       [-2.16271324,  0.22109986],\n",
       "       [-0.37326143, -1.5106069 ],\n",
       "       [ 0.95171302,  1.44854725],\n",
       "       [-0.0794199 ,  1.66274856],\n",
       "       [ 1.64658987, -0.55485143],\n",
       "       [ 0.07462334,  1.01023259],\n",
       "       [ 0.01109194,  0.81931453],\n",
       "       [ 1.19899006,  1.27323302],\n",
       "       [ 1.35553342,  1.26584188],\n",
       "       [ 0.84350362,  0.03804169]])"
      ]
     },
     "execution_count": 23,
     "metadata": {},
     "output_type": "execute_result"
    }
   ],
   "source": [
    "X_train"
   ]
  },
  {
   "cell_type": "code",
   "execution_count": 25,
   "id": "4c2531c2-ffe1-4300-916a-f57af9338aac",
   "metadata": {},
   "outputs": [
    {
     "data": {
      "text/plain": [
       "<Axes: >"
      ]
     },
     "execution_count": 25,
     "metadata": {},
     "output_type": "execute_result"
    },
    {
     "data": {
      "image/png": "[encoded data removed]",
      "text/plain": [
       "<Figure size 1000x800 with 1 Axes>"
      ]
     },
     "metadata": {},
     "output_type": "display_data"
    }
   ],
   "source": [
    "plt.figure(figsize=(10,8))\n",
    "sns.scatterplot( x = X_train[ : ,0], y = X_train[ : ,1])"
   ]
  },
  {
   "cell_type": "code",
   "execution_count": 32,
   "id": "011be084-9e9a-4f94-acdf-6d7f222b36f7",
   "metadata": {},
   "outputs": [
    {
     "data": {
      "text/plain": [
       "<matplotlib.collections.PathCollection at 0x295d4e9eff0>"
      ]
     },
     "execution_count": 32,
     "metadata": {},
     "output_type": "execute_result"
    },
    {
     "data": {
      "image/png": "[encoded data removed]",
      "text/plain": [
       "<Figure size 1000x800 with 1 Axes>"
      ]
     },
     "metadata": {},
     "output_type": "display_data"
    }
   ],
   "source": [
    "plt.figure(figsize=(10,8))\n",
    "sns.scatterplot( x = X_train[ : ,0], y = X_train[ : ,1], hue = y_train, palette = cmap_bold)\n",
    "plt.scatter( X_test[ : ,0], X_test[ : ,1], color = 'red', marker = '*', s = 170)"
   ]
  },
  {
   "cell_type": "markdown",
   "id": "bd1d5a6f-7999-443f-a1f0-6b0347150d15",
   "metadata": {},
   "source": [
    "## Модель kNN из skLearn"
   ]
  },
  {
   "cell_type": "code",
   "execution_count": 34,
   "id": "e69e196d-3844-4122-830a-0c31a539e964",
   "metadata": {},
   "outputs": [],
   "source": [
    "from sklearn.neighbors import KNeighborsClassifier"
   ]
  },
  {
   "cell_type": "code",
   "execution_count": 35,
   "id": "585894c7-b181-4d0b-b534-1c8b7fa86d28",
   "metadata": {},
   "outputs": [],
   "source": [
    "n_neighbors = 3\n",
    "model = KNeighborsClassifier( n_neighbors = n_neighbors)"
   ]
  },
  {
   "cell_type": "code",
   "execution_count": 36,
   "id": "16e30139-443a-49c7-9859-83f635b809fb",
   "metadata": {},
   "outputs": [
    {
     "data": {
      "text/html": [
       "<style>#sk-container-id-1 {color: black;}#sk-container-id-1 pre{padding: 0;}#sk-container-id-1 div.sk-toggleable {background-color: white;}#sk-container-id-1 label.sk-toggleable__label {cursor: pointer;display: block;width: 100%;margin-bottom: 0;padding: 0.3em;box-sizing: border-box;text-align: center;}#sk-container-id-1 label.sk-toggleable__label-arrow:before {content: \"▸\";float: left;margin-right: 0.25em;color: #696969;}#sk-container-id-1 label.sk-toggleable__label-arrow:hover:before {color: black;}#sk-container-id-1 div.sk-estimator:hover label.sk-toggleable__label-arrow:before {color: black;}#sk-container-id-1 div.sk-toggleable__content {max-height: 0;max-width: 0;overflow: hidden;text-align: left;background-color: #f0f8ff;}#sk-container-id-1 div.sk-toggleable__content pre {margin: 0.2em;color: black;border-radius: 0.25em;background-color: #f0f8ff;}#sk-container-id-1 input.sk-toggleable__control:checked~div.sk-toggleable__content {max-height: 200px;max-width: 100%;overflow: auto;}#sk-container-id-1 input.sk-toggleable__control:checked~label.sk-toggleable__label-arrow:before {content: \"▾\";}#sk-container-id-1 div.sk-estimator input.sk-toggleable__control:checked~label.sk-toggleable__label {background-color: #d4ebff;}#sk-container-id-1 div.sk-label input.sk-toggleable__control:checked~label.sk-toggleable__label {background-color: #d4ebff;}#sk-container-id-1 input.sk-hidden--visually {border: 0;clip: rect(1px 1px 1px 1px);clip: rect(1px, 1px, 1px, 1px);height: 1px;margin: -1px;overflow: hidden;padding: 0;position: absolute;width: 1px;}#sk-container-id-1 div.sk-estimator {font-family: monospace;background-color: #f0f8ff;border: 1px dotted black;border-radius: 0.25em;box-sizing: border-box;margin-bottom: 0.5em;}#sk-container-id-1 div.sk-estimator:hover {background-color: #d4ebff;}#sk-container-id-1 div.sk-parallel-item::after {content: \"\";width: 100%;border-bottom: 1px solid gray;flex-grow: 1;}#sk-container-id-1 div.sk-label:hover label.sk-toggleable__label {background-color: #d4ebff;}#sk-container-id-1 div.sk-serial::before {content: \"\";position: absolute;border-left: 1px solid gray;box-sizing: border-box;top: 0;bottom: 0;left: 50%;z-index: 0;}#sk-container-id-1 div.sk-serial {display: flex;flex-direction: column;align-items: center;background-color: white;padding-right: 0.2em;padding-left: 0.2em;position: relative;}#sk-container-id-1 div.sk-item {position: relative;z-index: 1;}#sk-container-id-1 div.sk-parallel {display: flex;align-items: stretch;justify-content: center;background-color: white;position: relative;}#sk-container-id-1 div.sk-item::before, #sk-container-id-1 div.sk-parallel-item::before {content: \"\";position: absolute;border-left: 1px solid gray;box-sizing: border-box;top: 0;bottom: 0;left: 50%;z-index: -1;}#sk-container-id-1 div.sk-parallel-item {display: flex;flex-direction: column;z-index: 1;position: relative;background-color: white;}#sk-container-id-1 div.sk-parallel-item:first-child::after {align-self: flex-end;width: 50%;}#sk-container-id-1 div.sk-parallel-item:last-child::after {align-self: flex-start;width: 50%;}#sk-container-id-1 div.sk-parallel-item:only-child::after {width: 0;}#sk-container-id-1 div.sk-dashed-wrapped {border: 1px dashed gray;margin: 0 0.4em 0.5em 0.4em;box-sizing: border-box;padding-bottom: 0.4em;background-color: white;}#sk-container-id-1 div.sk-label label {font-family: monospace;font-weight: bold;display: inline-block;line-height: 1.2em;}#sk-container-id-1 div.sk-label-container {text-align: center;}#sk-container-id-1 div.sk-container {/* jupyter's `normalize.less` sets `[hidden] { display: none; }` but bootstrap.min.css set `[hidden] { display: none !important; }` so we also need the `!important` here to be able to override the default hidden behavior on the sphinx rendered scikit-learn.org. See: https://github.com/scikit-learn/scikit-learn/issues/21755 */display: inline-block !important;position: relative;}#sk-container-id-1 div.sk-text-repr-fallback {display: none;}</style><div id=\"sk-container-id-1\" class=\"sk-top-container\"><div class=\"sk-text-repr-fallback\"><pre>KNeighborsClassifier(n_neighbors=3)</pre><b>In a Jupyter environment, please rerun this cell to show the HTML representation or trust the notebook. <br />On GitHub, the HTML representation is unable to render, please try loading this page with nbviewer.org.</b></div><div class=\"sk-container\" hidden><div class=\"sk-item\"><div class=\"sk-estimator sk-toggleable\"><input class=\"sk-toggleable__control sk-hidden--visually\" id=\"sk-estimator-id-1\" type=\"checkbox\" checked><label for=\"sk-estimator-id-1\" class=\"sk-toggleable__label sk-toggleable__label-arrow\">KNeighborsClassifier</label><div class=\"sk-toggleable__content\"><pre>KNeighborsClassifier(n_neighbors=3)</pre></div></div></div></div></div>"
      ],
      "text/plain": [
       "KNeighborsClassifier(n_neighbors=3)"
      ]
     },
     "execution_count": 36,
     "metadata": {},
     "output_type": "execute_result"
    }
   ],
   "source": [
    "model.fit(X_train, y_train) "
   ]
  },
  {
   "cell_type": "markdown",
   "id": "f48abfa9-5bda-41e7-9602-30b209d22bd4",
   "metadata": {},
   "source": [
    "# Модель просто сохранила выборку"
   ]
  },
  {
   "cell_type": "code",
   "execution_count": 37,
   "id": "96bf3adb-6e10-4adb-9fa3-12764b20dcd7",
   "metadata": {},
   "outputs": [],
   "source": [
    "pred_test = model.predict(X_test)"
   ]
  },
  {
   "cell_type": "code",
   "execution_count": 38,
   "id": "4a83a1e5-bb24-4013-a714-82b7bfe5b537",
   "metadata": {},
   "outputs": [
    {
     "data": {
      "text/plain": [
       "array([1, 1, 0, 0, 1, 1, 1, 1, 0, 1])"
      ]
     },
     "execution_count": 38,
     "metadata": {},
     "output_type": "execute_result"
    }
   ],
   "source": [
    "pred_test"
   ]
  },
  {
   "cell_type": "code",
   "execution_count": 39,
   "id": "7a932957-8898-4e76-9ee1-aba347a109f2",
   "metadata": {},
   "outputs": [
    {
     "data": {
      "text/plain": [
       "array([1, 1, 0, 0, 1, 1, 1, 1, 0, 1])"
      ]
     },
     "metadata": {},
     "output_type": "display_data"
    },
    {
     "data": {
      "text/plain": [
       "array([1, 1, 0, 0, 1, 1, 1, 1, 0, 1])"
      ]
     },
     "metadata": {},
     "output_type": "display_data"
    }
   ],
   "source": [
    "display(pred_test,y_test)"
   ]
  },
  {
   "cell_type": "code",
   "execution_count": 41,
   "id": "aee02947-abe3-45f9-96be-decf0310eeff",
   "metadata": {},
   "outputs": [
    {
     "data": {
      "text/plain": [
       "0.98"
      ]
     },
     "execution_count": 41,
     "metadata": {},
     "output_type": "execute_result"
    }
   ],
   "source": [
    "model.score(X_train, y_train)"
   ]
  },
  {
   "cell_type": "markdown",
   "id": "a92df1ad-0643-4636-b5e5-5b759584520a",
   "metadata": {},
   "source": [
    "## Для задачи классификации сделали. Теперь задача регрессии."
   ]
  },
  {
   "cell_type": "code",
   "execution_count": 42,
   "id": "215499a9-04c3-4158-b571-8acb213350e1",
   "metadata": {},
   "outputs": [],
   "source": [
    "from sklearn.datasets import make_regression"
   ]
  },
  {
   "cell_type": "code",
   "execution_count": 43,
   "id": "efa30b97-68f4-4959-a803-d9fc8a5c1f5a",
   "metadata": {},
   "outputs": [],
   "source": [
    "X, y = make_regression( n_samples = 110, n_features = 2 , n_informative =2, random_state = 6)"
   ]
  },
  {
   "cell_type": "code",
   "execution_count": 44,
   "id": "af69c9b3-c19d-4a5a-a99f-9dcf3d89e499",
   "metadata": {},
   "outputs": [
    {
     "data": {
      "text/plain": [
       "array([[ 0.78263039, -0.49341854],\n",
       "       [-0.18765745, -1.4863921 ],\n",
       "       [ 1.63929108, -0.4298936 ],\n",
       "       [ 0.35480861,  1.81259031],\n",
       "       [-2.12647459,  0.75144883],\n",
       "       [ 1.56448966,  0.71270509],\n",
       "       [ 0.65725757, -0.47237563],\n",
       "       [ 0.07409773,  2.03076035],\n",
       "       [-0.12673638, -1.36861282],\n",
       "       [-0.46550831,  0.23371059],\n",
       "       [-1.22257572,  0.8228126 ],\n",
       "       [ 0.11660197, -0.68225732],\n",
       "       [ 0.64330145, -0.44789505],\n",
       "       [-0.53070072,  1.13694227],\n",
       "       [ 0.17365335, -1.03543429],\n",
       "       [-0.96813764,  0.16706673],\n",
       "       [-0.33588161,  1.23773784],\n",
       "       [ 1.21848065, -0.85750144],\n",
       "       [ 0.17629034,  1.09462041],\n",
       "       [-0.50426698,  1.05250993],\n",
       "       [-0.04723705, -1.44903979],\n",
       "       [ 1.46901739,  1.74951635],\n",
       "       [-0.03618977, -0.09084699],\n",
       "       [ 0.82465384, -1.17643148],\n",
       "       [-0.47144628,  2.33660781],\n",
       "       [ 0.11444143, -0.02195668],\n",
       "       [-0.06009261, -0.56848829],\n",
       "       [ 0.31508564, -1.0146655 ],\n",
       "       [-0.05961756,  0.19416833],\n",
       "       [-0.81988596,  0.13871369],\n",
       "       [ 0.35353062, -0.64333729],\n",
       "       [ 1.37018152,  1.09965334],\n",
       "       [ 0.15268777, -1.6326206 ],\n",
       "       [ 0.35877096,  1.07368134],\n",
       "       [ 0.11112817,  0.12915125],\n",
       "       [ 1.11569378,  0.79410326],\n",
       "       [-0.31178367,  0.72900392],\n",
       "       [-3.69023566,  0.53384158],\n",
       "       [-2.12714455, -0.83440747],\n",
       "       [ 0.2628088 , -0.60903479],\n",
       "       [-0.66353389, -0.43373648],\n",
       "       [ 0.2868793 ,  0.05185969],\n",
       "       [-1.37105209, -1.06862477],\n",
       "       [ 1.50278553, -0.59545972],\n",
       "       [ 0.09079696,  0.27026659],\n",
       "       [ 0.44692842, -1.01464799],\n",
       "       [-0.56147088, -1.0335199 ],\n",
       "       [-0.08417101, -0.4485657 ],\n",
       "       [ 0.42628539, -0.75815703],\n",
       "       [-1.46705339,  1.57410416],\n",
       "       [ 0.48828411,  1.07030973],\n",
       "       [-0.16236698,  0.72680996],\n",
       "       [-0.07972565,  0.87266549],\n",
       "       [ 0.45240094, -0.30946257],\n",
       "       [-0.32016629, -0.59319584],\n",
       "       [ 0.51689471,  0.92885736],\n",
       "       [ 0.61189442, -0.26984406],\n",
       "       [-0.99541982, -0.11412716],\n",
       "       [ 0.95120126,  0.44189739],\n",
       "       [-1.6912109 ,  1.42780744],\n",
       "       [-0.31449183, -0.14497558],\n",
       "       [-0.58661296, -1.48185327],\n",
       "       [-0.78015214,  0.95560959],\n",
       "       [ 0.03060843, -0.29749921],\n",
       "       [-1.91402115, -0.13990231],\n",
       "       [ 0.11492459, -0.39500464],\n",
       "       [-0.37550472,  0.39636757],\n",
       "       [ 2.63128056,  0.60182225],\n",
       "       [ 1.90474232,  0.69415315],\n",
       "       [-1.18441686, -0.52817318],\n",
       "       [ 2.33903423, -0.31332286],\n",
       "       [-0.95331626, -1.07282736],\n",
       "       [ 0.5685534 , -0.80496557],\n",
       "       [-0.86878205,  0.35483766],\n",
       "       [ 0.44408297, -0.85682264],\n",
       "       [ 0.2785168 , -0.42754013],\n",
       "       [ 0.52294535, -0.59187648],\n",
       "       [ 0.07612761, -0.15512816],\n",
       "       [-2.48678065,  0.91325152],\n",
       "       [ 0.87426839, -0.73957208],\n",
       "       [-0.1810066 ,  0.53419953],\n",
       "       [ 1.12706373, -1.51409323],\n",
       "       [ 0.47233738,  1.67693004],\n",
       "       [-1.44992793, -2.70693079],\n",
       "       [ 1.38503523, -0.51962709],\n",
       "       [ 0.92856046,  0.33947011],\n",
       "       [ 0.66615792, -0.79624825],\n",
       "       [ 1.18705819,  1.69089583],\n",
       "       [ 0.05155094, -0.21958725],\n",
       "       [-0.98472793, -0.21062697],\n",
       "       [ 1.40058146,  0.38470804],\n",
       "       [ 0.52834106,  0.9398248 ],\n",
       "       [-0.47748711,  0.11252968],\n",
       "       [-0.54060704,  0.79322236],\n",
       "       [ 0.69249311,  0.96133333],\n",
       "       [-0.48444561,  1.36293786],\n",
       "       [ 0.41356334, -0.37337679],\n",
       "       [-1.20135139,  0.89165273],\n",
       "       [-1.3564758 , -0.46363197],\n",
       "       [ 0.35537056, -1.69891959],\n",
       "       [-2.1323234 ,  0.17386307],\n",
       "       [ 0.83647485, -1.37809438],\n",
       "       [-0.32365897,  1.26610337],\n",
       "       [ 0.63422534,  0.810655  ],\n",
       "       [-0.44524407, -0.14195923],\n",
       "       [ 0.85724762,  0.94309899],\n",
       "       [ 0.21782079, -0.8990918 ],\n",
       "       [-0.01958134,  1.66284285],\n",
       "       [-0.94542881,  1.09128647],\n",
       "       [-0.5532565 , -0.37391087]])"
      ]
     },
     "metadata": {},
     "output_type": "display_data"
    },
    {
     "data": {
      "text/plain": [
       "array([ -10.66244648,  -92.07211428,   13.26158326,  115.24501892,\n",
       "         -5.77482665,   78.87831107,  -12.37461469,  121.49849425,\n",
       "        -83.69176519,    2.81713379,   19.72411478,  -37.48598927,\n",
       "        -11.25972977,   54.54481088,  -56.96890099,  -12.9518793 ,\n",
       "         65.07750333,  -21.86615914,   68.70174093,   50.18849411,\n",
       "        -86.56196733,  137.7699071 ,   -6.20963507,  -49.94963378,\n",
       "        126.68433272,    1.40080308,  -34.93897749,  -52.41284413,\n",
       "         10.04578784,  -11.13189271,  -29.61021615,   97.11972486,\n",
       "        -92.67858277,   71.76516307,   10.23353984,   73.10728639,\n",
       "         35.64526282,  -55.44024142,  -99.30796032,  -29.72429363,\n",
       "        -41.20631185,    9.81536928,  -95.31048751,    0.28292736,\n",
       "         18.07617282,  -49.30635516,  -74.17129949,  -28.4343354 ,\n",
       "        -34.66741029,   58.26901278,   74.61692388,   39.03528174,\n",
       "         49.5828809 ,   -7.59293348,  -42.52180903,   66.94943122,\n",
       "         -1.49989836,  -30.176389  ,   48.46334221,   44.36209111,\n",
       "        -15.95677016, -101.20155328,   37.97605314,  -16.82245884,\n",
       "        -53.33329231,  -20.58631528,   14.5289209 ,   97.46703529,\n",
       "         85.79870099,  -59.04420862,   36.61763102,  -85.71886407,\n",
       "        -34.07667818,    0.46114721,  -40.06647593,  -18.65163146,\n",
       "        -22.58515683,   -7.35472182,   -4.72011643,  -23.01956535,\n",
       "         27.23807432,  -62.73838729,  110.01348379, -193.77864096,\n",
       "          1.98123091,   41.88995709,  -31.26362093,  127.67174326,\n",
       "        -11.73473522,  -35.61510754,   55.67571519,   67.86578677,\n",
       "         -4.61101082,   34.04244019,   73.00061267,   68.96119002,\n",
       "        -12.27672131,   24.28351465,  -59.29095441,  -91.81417113,\n",
       "        -39.97260749,  -61.56318468,   67.03810297,   62.74271572,\n",
       "        -18.85866632,   75.80600717,  -47.88850505,   97.59599807,\n",
       "         42.08390256,  -35.08091814])"
      ]
     },
     "metadata": {},
     "output_type": "display_data"
    }
   ],
   "source": [
    "display(X,y)"
   ]
  },
  {
   "cell_type": "code",
   "execution_count": 45,
   "id": "f203bfbd-2932-4dd0-97c2-7b666c5eab10",
   "metadata": {},
   "outputs": [
    {
     "data": {
      "text/plain": [
       "((110, 2), (110,))"
      ]
     },
     "execution_count": 45,
     "metadata": {},
     "output_type": "execute_result"
    }
   ],
   "source": [
    "X.shape, y.shape\n",
    "\n"
   ]
  },
  {
   "cell_type": "code",
   "execution_count": 47,
   "id": "7ea76d1a-d55f-450b-9317-77adf365dbbd",
   "metadata": {},
   "outputs": [],
   "source": [
    "from sklearn.model_selection import train_test_split\n",
    "X_train, X_test, y_train, y_test = train_test_split(X,y,random_state = 10, test_size=10)"
   ]
  },
  {
   "cell_type": "code",
   "execution_count": 51,
   "id": "a7f760a0-9ebe-46ce-8da3-d882445a92f8",
   "metadata": {},
   "outputs": [
    {
     "data": {
      "image/png": "[encoded data removed]",
      "text/plain": [
       "<Figure size 1200x900 with 1 Axes>"
      ]
     },
     "metadata": {},
     "output_type": "display_data"
    }
   ],
   "source": [
    "plt.figure(figsize= (12,9))\n",
    "sns.scatterplot(x = X_train[ : ,0], y = X_train[ : ,1], hue = y_train)\n",
    "\n",
    "plt.scatter(X_test[ :,0], X_test[ :,1], color = 'green', marker = '*', s= 130, label = 'test_dots xD')\n",
    "plt.legend();"
   ]
  },
  {
   "cell_type": "code",
   "execution_count": 54,
   "id": "b053a8b1-b166-44cf-85e6-bd0a42af5dab",
   "metadata": {},
   "outputs": [],
   "source": [
    "from sklearn.neighbors import KNeighborsRegressor"
   ]
  },
  {
   "cell_type": "code",
   "execution_count": 55,
   "id": "8812014a-3a47-4f12-94db-10d025897388",
   "metadata": {},
   "outputs": [],
   "source": [
    "n_neighbors = 3"
   ]
  },
  {
   "cell_type": "code",
   "execution_count": 56,
   "id": "3056d13f-d6a9-4a49-9c0f-704b065d915b",
   "metadata": {},
   "outputs": [],
   "source": [
    "model = KNeighborsRegressor(n_neighbors = n_neighbors)"
   ]
  },
  {
   "cell_type": "code",
   "execution_count": 57,
   "id": "76b42a0e-f089-4096-9730-e616c3199d24",
   "metadata": {},
   "outputs": [
    {
     "data": {
      "text/html": [
       "<style>#sk-container-id-2 {color: black;}#sk-container-id-2 pre{padding: 0;}#sk-container-id-2 div.sk-toggleable {background-color: white;}#sk-container-id-2 label.sk-toggleable__label {cursor: pointer;display: block;width: 100%;margin-bottom: 0;padding: 0.3em;box-sizing: border-box;text-align: center;}#sk-container-id-2 label.sk-toggleable__label-arrow:before {content: \"▸\";float: left;margin-right: 0.25em;color: #696969;}#sk-container-id-2 label.sk-toggleable__label-arrow:hover:before {color: black;}#sk-container-id-2 div.sk-estimator:hover label.sk-toggleable__label-arrow:before {color: black;}#sk-container-id-2 div.sk-toggleable__content {max-height: 0;max-width: 0;overflow: hidden;text-align: left;background-color: #f0f8ff;}#sk-container-id-2 div.sk-toggleable__content pre {margin: 0.2em;color: black;border-radius: 0.25em;background-color: #f0f8ff;}#sk-container-id-2 input.sk-toggleable__control:checked~div.sk-toggleable__content {max-height: 200px;max-width: 100%;overflow: auto;}#sk-container-id-2 input.sk-toggleable__control:checked~label.sk-toggleable__label-arrow:before {content: \"▾\";}#sk-container-id-2 div.sk-estimator input.sk-toggleable__control:checked~label.sk-toggleable__label {background-color: #d4ebff;}#sk-container-id-2 div.sk-label input.sk-toggleable__control:checked~label.sk-toggleable__label {background-color: #d4ebff;}#sk-container-id-2 input.sk-hidden--visually {border: 0;clip: rect(1px 1px 1px 1px);clip: rect(1px, 1px, 1px, 1px);height: 1px;margin: -1px;overflow: hidden;padding: 0;position: absolute;width: 1px;}#sk-container-id-2 div.sk-estimator {font-family: monospace;background-color: #f0f8ff;border: 1px dotted black;border-radius: 0.25em;box-sizing: border-box;margin-bottom: 0.5em;}#sk-container-id-2 div.sk-estimator:hover {background-color: #d4ebff;}#sk-container-id-2 div.sk-parallel-item::after {content: \"\";width: 100%;border-bottom: 1px solid gray;flex-grow: 1;}#sk-container-id-2 div.sk-label:hover label.sk-toggleable__label {background-color: #d4ebff;}#sk-container-id-2 div.sk-serial::before {content: \"\";position: absolute;border-left: 1px solid gray;box-sizing: border-box;top: 0;bottom: 0;left: 50%;z-index: 0;}#sk-container-id-2 div.sk-serial {display: flex;flex-direction: column;align-items: center;background-color: white;padding-right: 0.2em;padding-left: 0.2em;position: relative;}#sk-container-id-2 div.sk-item {position: relative;z-index: 1;}#sk-container-id-2 div.sk-parallel {display: flex;align-items: stretch;justify-content: center;background-color: white;position: relative;}#sk-container-id-2 div.sk-item::before, #sk-container-id-2 div.sk-parallel-item::before {content: \"\";position: absolute;border-left: 1px solid gray;box-sizing: border-box;top: 0;bottom: 0;left: 50%;z-index: -1;}#sk-container-id-2 div.sk-parallel-item {display: flex;flex-direction: column;z-index: 1;position: relative;background-color: white;}#sk-container-id-2 div.sk-parallel-item:first-child::after {align-self: flex-end;width: 50%;}#sk-container-id-2 div.sk-parallel-item:last-child::after {align-self: flex-start;width: 50%;}#sk-container-id-2 div.sk-parallel-item:only-child::after {width: 0;}#sk-container-id-2 div.sk-dashed-wrapped {border: 1px dashed gray;margin: 0 0.4em 0.5em 0.4em;box-sizing: border-box;padding-bottom: 0.4em;background-color: white;}#sk-container-id-2 div.sk-label label {font-family: monospace;font-weight: bold;display: inline-block;line-height: 1.2em;}#sk-container-id-2 div.sk-label-container {text-align: center;}#sk-container-id-2 div.sk-container {/* jupyter's `normalize.less` sets `[hidden] { display: none; }` but bootstrap.min.css set `[hidden] { display: none !important; }` so we also need the `!important` here to be able to override the default hidden behavior on the sphinx rendered scikit-learn.org. See: https://github.com/scikit-learn/scikit-learn/issues/21755 */display: inline-block !important;position: relative;}#sk-container-id-2 div.sk-text-repr-fallback {display: none;}</style><div id=\"sk-container-id-2\" class=\"sk-top-container\"><div class=\"sk-text-repr-fallback\"><pre>KNeighborsRegressor(n_neighbors=3)</pre><b>In a Jupyter environment, please rerun this cell to show the HTML representation or trust the notebook. <br />On GitHub, the HTML representation is unable to render, please try loading this page with nbviewer.org.</b></div><div class=\"sk-container\" hidden><div class=\"sk-item\"><div class=\"sk-estimator sk-toggleable\"><input class=\"sk-toggleable__control sk-hidden--visually\" id=\"sk-estimator-id-2\" type=\"checkbox\" checked><label for=\"sk-estimator-id-2\" class=\"sk-toggleable__label sk-toggleable__label-arrow\">KNeighborsRegressor</label><div class=\"sk-toggleable__content\"><pre>KNeighborsRegressor(n_neighbors=3)</pre></div></div></div></div></div>"
      ],
      "text/plain": [
       "KNeighborsRegressor(n_neighbors=3)"
      ]
     },
     "execution_count": 57,
     "metadata": {},
     "output_type": "execute_result"
    }
   ],
   "source": [
    "model.fit(X_train,y_train)"
   ]
  },
  {
   "cell_type": "code",
   "execution_count": 58,
   "id": "32e04866-683b-43b8-aa33-720c1093b7e0",
   "metadata": {},
   "outputs": [],
   "source": [
    "pred_test = model.predict(X_test)"
   ]
  },
  {
   "cell_type": "code",
   "execution_count": 59,
   "id": "269152ec-05c7-4fd2-99fa-b3fbda23fc3d",
   "metadata": {},
   "outputs": [
    {
     "data": {
      "text/plain": [
       "(array([-53.99812541, -25.33424853, -28.83554665, -10.18245823,\n",
       "         47.79409516, 114.96770525, -16.82251686,   9.90350525,\n",
       "          5.5775676 , -69.31157808]),\n",
       " array([-61.56318468, -23.01956535, -34.93897749,   0.28292736,\n",
       "         49.5828809 , 127.67174326, -55.44024142,   9.81536928,\n",
       "         13.26158326, -99.30796032]))"
      ]
     },
     "execution_count": 59,
     "metadata": {},
     "output_type": "execute_result"
    }
   ],
   "source": [
    "pred_test, y_test"
   ]
  },
  {
   "cell_type": "code",
   "execution_count": 60,
   "id": "a09f2338-5968-4c58-87b2-1efab8b0962c",
   "metadata": {},
   "outputs": [
    {
     "data": {
      "text/plain": [
       "0.9755410288255975"
      ]
     },
     "execution_count": 60,
     "metadata": {},
     "output_type": "execute_result"
    }
   ],
   "source": [
    "model.score(X_train, y_train)"
   ]
  },
  {
   "cell_type": "code",
   "execution_count": null,
   "id": "98c46507-0f33-49c5-8f2d-57f774c79089",
   "metadata": {},
   "outputs": [],
   "source": []
  }
 ],
 "metadata": {
  "kernelspec": {
   "display_name": "Python 3 (ipykernel)",
   "language": "python",
   "name": "python3"
  },
  "language_info": {
   "codemirror_mode": {
    "name": "ipython",
    "version": 3
   },
   "file_extension": ".py",
   "mimetype": "text/x-python",
   "name": "python",
   "nbconvert_exporter": "python",
   "pygments_lexer": "ipython3",
   "version": "3.12.0"
  }
 },
 "nbformat": 4,
 "nbformat_minor": 5
}
