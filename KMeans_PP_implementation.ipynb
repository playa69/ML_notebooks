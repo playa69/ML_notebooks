{
 "cells": [
  {
   "cell_type": "markdown",
   "id": "97223545-b36b-4044-a1ed-b3deabb9f9cc",
   "metadata": {},
   "source": [
    "## Сгенерируем датасет из sklearn. Далее напишем функции для KMeans++ с критерием останова"
   ]
  },
  {
   "cell_type": "code",
   "execution_count": 2,
   "id": "74b17622-d94e-47ea-87db-84f121fbdd1d",
   "metadata": {},
   "outputs": [],
   "source": [
    "import matplotlib.pyplot as plt"
   ]
  },
  {
   "cell_type": "code",
   "execution_count": 3,
   "id": "62e76f48-1675-42a3-8bf5-79d1eb74fa22",
   "metadata": {},
   "outputs": [],
   "source": [
    "import numpy as np"
   ]
  },
  {
   "cell_type": "code",
   "execution_count": 4,
   "id": "e71d90c6-e8f2-410b-9a67-97e450e5d51c",
   "metadata": {},
   "outputs": [],
   "source": [
    "from sklearn.datasets import make_blobs"
   ]
  },
  {
   "cell_type": "code",
   "execution_count": 124,
   "id": "933e7823-8c8e-4f6e-ae22-d26b2667723c",
   "metadata": {},
   "outputs": [],
   "source": [
    "X, y = make_blobs (n_samples = 100, random_state = 10)"
   ]
  },
  {
   "cell_type": "code",
   "execution_count": 125,
   "id": "7cd3ff7d-6660-4f70-9296-3644b8fe61ef",
   "metadata": {},
   "outputs": [
    {
     "data": {
      "text/plain": [
       "array([2, 2, 1, 0, 1, 1, 0, 2, 1, 0, 0, 1, 1, 2, 2, 1, 0, 1, 0, 1, 0, 2,\n",
       "       1, 2, 0, 1, 1, 1, 1, 0, 2, 1, 1, 0, 2, 2, 2, 1, 1, 1, 2, 0, 2, 2,\n",
       "       1, 0, 0, 0, 2, 0, 1, 2, 0, 0, 2, 0, 1, 2, 0, 0, 1, 1, 2, 2, 2, 0,\n",
       "       0, 2, 2, 2, 1, 0, 1, 1, 2, 1, 1, 2, 0, 0, 0, 1, 0, 1, 2, 1, 2, 0,\n",
       "       2, 2, 0, 0, 0, 2, 2, 2, 1, 0, 0, 0])"
      ]
     },
     "execution_count": 125,
     "metadata": {},
     "output_type": "execute_result"
    }
   ],
   "source": [
    "y"
   ]
  },
  {
   "cell_type": "code",
   "execution_count": 7,
   "id": "d8589ab2-16f1-47e7-bd68-a4da61b52a05",
   "metadata": {},
   "outputs": [
    {
     "data": {
      "text/plain": [
       "<Figure size 700x700 with 0 Axes>"
      ]
     },
     "execution_count": 7,
     "metadata": {},
     "output_type": "execute_result"
    },
    {
     "data": {
      "text/plain": [
       "<Figure size 700x700 with 0 Axes>"
      ]
     },
     "metadata": {},
     "output_type": "display_data"
    }
   ],
   "source": [
    "plt.figure(figsize = (7,7))"
   ]
  },
  {
   "cell_type": "code",
   "execution_count": 8,
   "id": "d2818354-4bd5-4dcb-8e76-772c197221cb",
   "metadata": {},
   "outputs": [
    {
     "data": {
      "text/plain": [
       "<matplotlib.collections.PathCollection at 0x25c26e43f80>"
      ]
     },
     "execution_count": 8,
     "metadata": {},
     "output_type": "execute_result"
    },
    {
     "data": {
      "image/png": "[encoded data removed]",
      "text/plain": [
       "<Figure size 640x480 with 1 Axes>"
      ]
     },
     "metadata": {},
     "output_type": "display_data"
    }
   ],
   "source": [
    "plt.scatter(X[ : ,0], X[ : ,1])"
   ]
  },
  {
   "cell_type": "code",
   "execution_count": 9,
   "id": "d23fa8f9-91e9-44c3-933a-2037fbf4d787",
   "metadata": {},
   "outputs": [
    {
     "data": {
      "text/plain": [
       "\u001b[1;31mSignature:\u001b[0m\n",
       "\u001b[0mplt\u001b[0m\u001b[1;33m.\u001b[0m\u001b[0mscatter\u001b[0m\u001b[1;33m(\u001b[0m\u001b[1;33m\n",
       "\u001b[0m    \u001b[0mx\u001b[0m\u001b[1;33m:\u001b[0m \u001b[1;34m'float | ArrayLike'\u001b[0m\u001b[1;33m,\u001b[0m\u001b[1;33m\n",
       "\u001b[0m    \u001b[0my\u001b[0m\u001b[1;33m:\u001b[0m \u001b[1;34m'float | ArrayLike'\u001b[0m\u001b[1;33m,\u001b[0m\u001b[1;33m\n",
       "\u001b[0m    \u001b[0ms\u001b[0m\u001b[1;33m:\u001b[0m \u001b[1;34m'float | ArrayLike | None'\u001b[0m \u001b[1;33m=\u001b[0m \u001b[1;32mNone\u001b[0m\u001b[1;33m,\u001b[0m\u001b[1;33m\n",
       "\u001b[0m    \u001b[0mc\u001b[0m\u001b[1;33m:\u001b[0m \u001b[1;34m'Sequence[ColorType] | ColorType | None'\u001b[0m \u001b[1;33m=\u001b[0m \u001b[1;32mNone\u001b[0m\u001b[1;33m,\u001b[0m\u001b[1;33m\n",
       "\u001b[0m    \u001b[0mmarker\u001b[0m\u001b[1;33m:\u001b[0m \u001b[1;34m'MarkerType | None'\u001b[0m \u001b[1;33m=\u001b[0m \u001b[1;32mNone\u001b[0m\u001b[1;33m,\u001b[0m\u001b[1;33m\n",
       "\u001b[0m    \u001b[0mcmap\u001b[0m\u001b[1;33m:\u001b[0m \u001b[1;34m'str | Colormap | None'\u001b[0m \u001b[1;33m=\u001b[0m \u001b[1;32mNone\u001b[0m\u001b[1;33m,\u001b[0m\u001b[1;33m\n",
       "\u001b[0m    \u001b[0mnorm\u001b[0m\u001b[1;33m:\u001b[0m \u001b[1;34m'str | Normalize | None'\u001b[0m \u001b[1;33m=\u001b[0m \u001b[1;32mNone\u001b[0m\u001b[1;33m,\u001b[0m\u001b[1;33m\n",
       "\u001b[0m    \u001b[0mvmin\u001b[0m\u001b[1;33m:\u001b[0m \u001b[1;34m'float | None'\u001b[0m \u001b[1;33m=\u001b[0m \u001b[1;32mNone\u001b[0m\u001b[1;33m,\u001b[0m\u001b[1;33m\n",
       "\u001b[0m    \u001b[0mvmax\u001b[0m\u001b[1;33m:\u001b[0m \u001b[1;34m'float | None'\u001b[0m \u001b[1;33m=\u001b[0m \u001b[1;32mNone\u001b[0m\u001b[1;33m,\u001b[0m\u001b[1;33m\n",
       "\u001b[0m    \u001b[0malpha\u001b[0m\u001b[1;33m:\u001b[0m \u001b[1;34m'float | None'\u001b[0m \u001b[1;33m=\u001b[0m \u001b[1;32mNone\u001b[0m\u001b[1;33m,\u001b[0m\u001b[1;33m\n",
       "\u001b[0m    \u001b[0mlinewidths\u001b[0m\u001b[1;33m:\u001b[0m \u001b[1;34m'float | Sequence[float] | None'\u001b[0m \u001b[1;33m=\u001b[0m \u001b[1;32mNone\u001b[0m\u001b[1;33m,\u001b[0m\u001b[1;33m\n",
       "\u001b[0m    \u001b[1;33m*\u001b[0m\u001b[1;33m,\u001b[0m\u001b[1;33m\n",
       "\u001b[0m    \u001b[0medgecolors\u001b[0m\u001b[1;33m:\u001b[0m \u001b[1;34m\"Literal['face', 'none'] | ColorType | Sequence[ColorType] | None\"\u001b[0m \u001b[1;33m=\u001b[0m \u001b[1;32mNone\u001b[0m\u001b[1;33m,\u001b[0m\u001b[1;33m\n",
       "\u001b[0m    \u001b[0mplotnonfinite\u001b[0m\u001b[1;33m:\u001b[0m \u001b[1;34m'bool'\u001b[0m \u001b[1;33m=\u001b[0m \u001b[1;32mFalse\u001b[0m\u001b[1;33m,\u001b[0m\u001b[1;33m\n",
       "\u001b[0m    \u001b[0mdata\u001b[0m\u001b[1;33m=\u001b[0m\u001b[1;32mNone\u001b[0m\u001b[1;33m,\u001b[0m\u001b[1;33m\n",
       "\u001b[0m    \u001b[1;33m**\u001b[0m\u001b[0mkwargs\u001b[0m\u001b[1;33m,\u001b[0m\u001b[1;33m\n",
       "\u001b[0m\u001b[1;33m)\u001b[0m \u001b[1;33m->\u001b[0m \u001b[1;34m'PathCollection'\u001b[0m\u001b[1;33m\u001b[0m\u001b[1;33m\u001b[0m\u001b[0m\n",
       "\u001b[1;31mDocstring:\u001b[0m\n",
       "A scatter plot of *y* vs. *x* with varying marker size and/or color.\n",
       "\n",
       "Parameters\n",
       "----------\n",
       "x, y : float or array-like, shape (n, )\n",
       "    The data positions.\n",
       "\n",
       "s : float or array-like, shape (n, ), optional\n",
       "    The marker size in points**2 (typographic points are 1/72 in.).\n",
       "    Default is ``rcParams['lines.markersize'] ** 2``.\n",
       "\n",
       "    The linewidth and edgecolor can visually interact with the marker\n",
       "    size, and can lead to artifacts if the marker size is smaller than\n",
       "    the linewidth.\n",
       "\n",
       "    If the linewidth is greater than 0 and the edgecolor is anything\n",
       "    but *'none'*, then the effective size of the marker will be\n",
       "    increased by half the linewidth because the stroke will be centered\n",
       "    on the edge of the shape.\n",
       "\n",
       "    To eliminate the marker edge either set *linewidth=0* or\n",
       "    *edgecolor='none'*.\n",
       "\n",
       "c : array-like or list of colors or color, optional\n",
       "    The marker colors. Possible values:\n",
       "\n",
       "    - A scalar or sequence of n numbers to be mapped to colors using\n",
       "      *cmap* and *norm*.\n",
       "    - A 2D array in which the rows are RGB or RGBA.\n",
       "    - A sequence of colors of length n.\n",
       "    - A single color format string.\n",
       "\n",
       "    Note that *c* should not be a single numeric RGB or RGBA sequence\n",
       "    because that is indistinguishable from an array of values to be\n",
       "    colormapped. If you want to specify the same RGB or RGBA value for\n",
       "    all points, use a 2D array with a single row.  Otherwise,\n",
       "    value-matching will have precedence in case of a size matching with\n",
       "    *x* and *y*.\n",
       "\n",
       "    If you wish to specify a single color for all points\n",
       "    prefer the *color* keyword argument.\n",
       "\n",
       "    Defaults to `None`. In that case the marker color is determined\n",
       "    by the value of *color*, *facecolor* or *facecolors*. In case\n",
       "    those are not specified or `None`, the marker color is determined\n",
       "    by the next color of the ``Axes``' current \"shape and fill\" color\n",
       "    cycle. This cycle defaults to :rc:`axes.prop_cycle`.\n",
       "\n",
       "marker : `~.markers.MarkerStyle`, default: :rc:`scatter.marker`\n",
       "    The marker style. *marker* can be either an instance of the class\n",
       "    or the text shorthand for a particular marker.\n",
       "    See :mod:`matplotlib.markers` for more information about marker\n",
       "    styles.\n",
       "\n",
       "cmap : str or `~matplotlib.colors.Colormap`, default: :rc:`image.cmap`\n",
       "    The Colormap instance or registered colormap name used to map scalar data\n",
       "    to colors.\n",
       "\n",
       "    This parameter is ignored if *c* is RGB(A).\n",
       "\n",
       "norm : str or `~matplotlib.colors.Normalize`, optional\n",
       "    The normalization method used to scale scalar data to the [0, 1] range\n",
       "    before mapping to colors using *cmap*. By default, a linear scaling is\n",
       "    used, mapping the lowest value to 0 and the highest to 1.\n",
       "\n",
       "    If given, this can be one of the following:\n",
       "\n",
       "    - An instance of `.Normalize` or one of its subclasses\n",
       "      (see :ref:`colormapnorms`).\n",
       "    - A scale name, i.e. one of \"linear\", \"log\", \"symlog\", \"logit\", etc.  For a\n",
       "      list of available scales, call `matplotlib.scale.get_scale_names()`.\n",
       "      In that case, a suitable `.Normalize` subclass is dynamically generated\n",
       "      and instantiated.\n",
       "\n",
       "    This parameter is ignored if *c* is RGB(A).\n",
       "\n",
       "vmin, vmax : float, optional\n",
       "    When using scalar data and no explicit *norm*, *vmin* and *vmax* define\n",
       "    the data range that the colormap covers. By default, the colormap covers\n",
       "    the complete value range of the supplied data. It is an error to use\n",
       "    *vmin*/*vmax* when a *norm* instance is given (but using a `str` *norm*\n",
       "    name together with *vmin*/*vmax* is acceptable).\n",
       "\n",
       "    This parameter is ignored if *c* is RGB(A).\n",
       "\n",
       "alpha : float, default: None\n",
       "    The alpha blending value, between 0 (transparent) and 1 (opaque).\n",
       "\n",
       "linewidths : float or array-like, default: :rc:`lines.linewidth`\n",
       "    The linewidth of the marker edges. Note: The default *edgecolors*\n",
       "    is 'face'. You may want to change this as well.\n",
       "\n",
       "edgecolors : {'face', 'none', *None*} or color or sequence of color, default: :rc:`scatter.edgecolors`\n",
       "    The edge color of the marker. Possible values:\n",
       "\n",
       "    - 'face': The edge color will always be the same as the face color.\n",
       "    - 'none': No patch boundary will be drawn.\n",
       "    - A color or sequence of colors.\n",
       "\n",
       "    For non-filled markers, *edgecolors* is ignored. Instead, the color\n",
       "    is determined like with 'face', i.e. from *c*, *colors*, or\n",
       "    *facecolors*.\n",
       "\n",
       "plotnonfinite : bool, default: False\n",
       "    Whether to plot points with nonfinite *c* (i.e. ``inf``, ``-inf``\n",
       "    or ``nan``). If ``True`` the points are drawn with the *bad*\n",
       "    colormap color (see `.Colormap.set_bad`).\n",
       "\n",
       "Returns\n",
       "-------\n",
       "`~matplotlib.collections.PathCollection`\n",
       "\n",
       "Other Parameters\n",
       "----------------\n",
       "data : indexable object, optional\n",
       "    If given, the following parameters also accept a string ``s``, which is\n",
       "    interpreted as ``data[s]`` (unless this raises an exception):\n",
       "\n",
       "    *x*, *y*, *s*, *linewidths*, *edgecolors*, *c*, *facecolor*, *facecolors*, *color*\n",
       "**kwargs : `~matplotlib.collections.Collection` properties\n",
       "\n",
       "See Also\n",
       "--------\n",
       "plot : To plot scatter plots when markers are identical in size and\n",
       "    color.\n",
       "\n",
       "Notes\n",
       "-----\n",
       "* The `.plot` function will be faster for scatterplots where markers\n",
       "  don't vary in size or color.\n",
       "\n",
       "* Any or all of *x*, *y*, *s*, and *c* may be masked arrays, in which\n",
       "  case all masks will be combined and only unmasked points will be\n",
       "  plotted.\n",
       "\n",
       "* Fundamentally, scatter works with 1D arrays; *x*, *y*, *s*, and *c*\n",
       "  may be input as N-D arrays, but within scatter they will be\n",
       "  flattened. The exception is *c*, which will be flattened only if its\n",
       "  size matches the size of *x* and *y*.\n",
       "\u001b[1;31mFile:\u001b[0m      c:\\users\\user1\\appdata\\local\\programs\\python\\python312\\lib\\site-packages\\matplotlib\\pyplot.py\n",
       "\u001b[1;31mType:\u001b[0m      function"
      ]
     },
     "metadata": {},
     "output_type": "display_data"
    }
   ],
   "source": [
    "plt.scatter?"
   ]
  },
  {
   "cell_type": "markdown",
   "id": "911c3738-3bef-486b-8cf5-c9c237a1323e",
   "metadata": {},
   "source": [
    "### Рандомим первую центроиду, оставшиеся центроиды будут на максимальном расстоянии от всех предыдущих."
   ]
  },
  {
   "cell_type": "code",
   "execution_count": 12,
   "id": "722a643b-53cb-4da5-afe3-81463119fd52",
   "metadata": {},
   "outputs": [],
   "source": [
    "def kmeanspp(X, k=3, seed=0):\n",
    "    \n",
    "    centroids = []\n",
    "    \n",
    "    np.random.seed(seed)\n",
    "    centroid_id = np.random.choice(X.shape[0])\n",
    "    centroids.append(X[centroid_id])\n",
    "\n",
    "    for _ in range(k-1):\n",
    "        dists = []\n",
    "        for x in X:\n",
    "            distances = np.linalg.norm(centroids - x, axis=1)\n",
    "            dists.append(distances.min())\n",
    "        \n",
    "        obj_ind = np.array(dists).argmax()\n",
    "        next_centroid = X[obj_ind]\n",
    "        centroids.append(next_centroid)\n",
    "\n",
    "    return centroids"
   ]
  },
  {
   "cell_type": "code",
   "execution_count": 39,
   "id": "4cda9cba-799a-4645-ab21-2f79d95b4a94",
   "metadata": {},
   "outputs": [],
   "source": [
    "centroids = kmeanspp(X, k = 3);"
   ]
  },
  {
   "cell_type": "code",
   "execution_count": 14,
   "id": "fa83611f-d3d6-48ce-b7a1-9862c68e54dc",
   "metadata": {},
   "outputs": [
    {
     "data": {
      "text/plain": [
       "[array([4.05619693, 5.32231077]),\n",
       " array([  3.44868458, -11.32833331]),\n",
       " array([-1.74093095, -4.89176978])]"
      ]
     },
     "execution_count": 14,
     "metadata": {},
     "output_type": "execute_result"
    }
   ],
   "source": [
    "centroids"
   ]
  },
  {
   "cell_type": "code",
   "execution_count": 43,
   "id": "72de1ce0-158a-45d0-b39c-dd9cde8c9f27",
   "metadata": {},
   "outputs": [
    {
     "data": {
      "image/png": "[encoded data removed]",
      "text/plain": [
       "<Figure size 640x480 with 1 Axes>"
      ]
     },
     "metadata": {},
     "output_type": "display_data"
    }
   ],
   "source": [
    "plt.scatter(X[ : ,0], X[ : ,1])\n",
    "\n",
    "for k in range(len(centroids)):\n",
    "    plt.scatter(centroids[k][ 0], centroids[k][ 1], marker='*', s=300)\n",
    "\n"
   ]
  },
  {
   "cell_type": "code",
   "execution_count": 45,
   "id": "d1cb130f-787e-4d42-8f3a-6b94d3ae98bd",
   "metadata": {},
   "outputs": [],
   "source": [
    "centroids = kmeanspp(X, k = 3, seed = 1);"
   ]
  },
  {
   "cell_type": "code",
   "execution_count": 46,
   "id": "69f71755-e957-4cfa-913e-0b6d1368eb5a",
   "metadata": {},
   "outputs": [
    {
     "data": {
      "image/png": "[encoded data removed]",
      "text/plain": [
       "<Figure size 640x480 with 1 Axes>"
      ]
     },
     "metadata": {},
     "output_type": "display_data"
    }
   ],
   "source": [
    "plt.scatter(X[ : ,0], X[ : ,1])\n",
    "\n",
    "for k in range(len(centroids)):\n",
    "    plt.scatter(centroids[k][ 0], centroids[k][ 1], marker='*', s=300)\n"
   ]
  },
  {
   "cell_type": "markdown",
   "id": "73699f31-9375-4403-8fe2-0238564ba08a",
   "metadata": {},
   "source": [
    "## В зависимости от семечки (seed) - разные центроиды. Это плохо. Проверим имплементацию в библиотеке sckitit"
   ]
  },
  {
   "cell_type": "code",
   "execution_count": 54,
   "id": "0fbf3ca4-89ec-4d5b-abf9-36f524974249",
   "metadata": {},
   "outputs": [],
   "source": [
    "from sklearn.cluster import kmeans_plusplus"
   ]
  },
  {
   "cell_type": "code",
   "execution_count": 59,
   "id": "d5d14ca2-7fdf-4136-80a8-1d1b63f226d1",
   "metadata": {},
   "outputs": [],
   "source": [
    "centorids_pp, centroids_ids = kmeans_plusplus(X, n_clusters = 3, random_state = 0)"
   ]
  },
  {
   "cell_type": "code",
   "execution_count": 65,
   "id": "f8856ac8-f4b0-446e-a762-1f67d17c7610",
   "metadata": {},
   "outputs": [
    {
     "data": {
      "text/plain": [
       "<matplotlib.collections.PathCollection at 0x25c2f965550>"
      ]
     },
     "execution_count": 65,
     "metadata": {},
     "output_type": "execute_result"
    },
    {
     "data": {
      "image/png": "[encoded data removed]",
      "text/plain": [
       "<Figure size 640x480 with 1 Axes>"
      ]
     },
     "metadata": {},
     "output_type": "display_data"
    }
   ],
   "source": [
    "plt.scatter(X[ : ,0], X[ : ,1], color = 'red')\n",
    "plt.scatter(X[centroids_ids, 0], X[centroids_ids,1])"
   ]
  },
  {
   "cell_type": "markdown",
   "id": "0a55ab87-f676-4df4-899e-d5017061f1c2",
   "metadata": {},
   "source": [
    "## Наща функция, которая находит центроиды по алгоритму kmeanspp и имеет критерий останова (дефолтный эпсилон = 10^(-4))"
   ]
  },
  {
   "cell_type": "code",
   "execution_count": 66,
   "id": "3b1062e1-0992-40be-b567-7986b87c9755",
   "metadata": {},
   "outputs": [],
   "source": [
    "def KMeans(X, k=3, num_iter=10, min_distance=1e-4, seed=0, centroids=None):\n",
    "    if centroids is None:\n",
    "        centroids = kmeanspp(X, k=k, seed=seed)\n",
    "\n",
    "    for i in range(num_iter):\n",
    "        clusters = {i: [] for i in range(k)}\n",
    "\n",
    "        for x in X:\n",
    "            distances = np.linalg.norm(centroids - x, axis=1)\n",
    "            cluster_ind = distances.argmin()\n",
    "            clusters[cluster_ind].append(x)    \n",
    "        \n",
    "        new_centroids = {}\n",
    "        for cluster in clusters:\n",
    "            new_centroids[cluster] = np.mean(clusters[cluster], axis=0)\n",
    "\n",
    "        new_centroids = dict(sorted(new_centroids.items()))\n",
    "        new_centroids = np.array(list(new_centroids.values()))\n",
    "\n",
    "        is_stop = True\n",
    "        for clust in range(len(centroids)):\n",
    "            if np.linalg.norm(centroids[clust] - new_centroids[clust]) > min_distance:\n",
    "                is_stop = False\n",
    "                break\n",
    "        if is_stop:\n",
    "            print(f'stopping at iter {i}')\n",
    "            break\n",
    "\n",
    "        centroids = new_centroids.copy()\n",
    "\n",
    "    return centroids, clusters"
   ]
  },
  {
   "cell_type": "code",
   "execution_count": 71,
   "id": "8004ff04-a9e8-4c14-9f4a-688b60b42bcd",
   "metadata": {},
   "outputs": [
    {
     "name": "stdout",
     "output_type": "stream",
     "text": [
      "stopping at iter 2\n"
     ]
    }
   ],
   "source": [
    "centroids_s, clusters_s = KMeans(X)"
   ]
  },
  {
   "cell_type": "code",
   "execution_count": 119,
   "id": "c6c749f0-6060-4f57-85eb-b3975d6ec9c5",
   "metadata": {},
   "outputs": [],
   "source": [
    "cl_list = list(clusters_s.values())"
   ]
  },
  {
   "cell_type": "code",
   "execution_count": 123,
   "id": "ccb80fc5-1104-4e84-a20a-f8718566245e",
   "metadata": {},
   "outputs": [
    {
     "data": {
      "image/png": "[encoded data removed]",
      "text/plain": [
       "<Figure size 640x480 with 1 Axes>"
      ]
     },
     "metadata": {},
     "output_type": "display_data"
    }
   ],
   "source": [
    "colors = ['green', 'orange', 'red', 'navy', 'pink', 'yellow', 'black']\n",
    "for k in range(len(centroids_s)):\n",
    "    for j in range(len(cl_list[k])):\n",
    "        plt.scatter(cl_list[k][j][0], cl_list[k][j][1], color = colors[k])\n",
    "    plt.scatter(centroids_s[k][0], centroids_s[k][1], color = 'navy', marker='*', s=300)"
   ]
  },
  {
   "cell_type": "code",
   "execution_count": 121,
   "id": "ff456673-9a93-4071-9d77-cd8b4f04f0c2",
   "metadata": {},
   "outputs": [
    {
     "data": {
      "text/plain": [
       "array([[ 2.84050716,  4.85840422],\n",
       "       [ 5.6183469 , -9.54288499],\n",
       "       [ 0.08921213, -5.46441742]])"
      ]
     },
     "execution_count": 121,
     "metadata": {},
     "output_type": "execute_result"
    }
   ],
   "source": [
    "centroids_s"
   ]
  },
  {
   "cell_type": "markdown",
   "id": "e9adffb1-808f-4326-8c6e-3c6a13f6acbb",
   "metadata": {},
   "source": [
    "## Ну и наконец еще раз посмотрим что можно сделать с klearn.cluster"
   ]
  },
  {
   "cell_type": "code",
   "execution_count": 129,
   "id": "0274b784-ab35-44f4-8c00-75c98aacf1c5",
   "metadata": {},
   "outputs": [],
   "source": [
    "from sklearn.cluster import KMeans as sk_KMeans"
   ]
  },
  {
   "cell_type": "code",
   "execution_count": 130,
   "id": "c777d290-151c-47a4-b4f3-e8b4ecfd917b",
   "metadata": {},
   "outputs": [],
   "source": [
    "ds, y = make_blobs(n_samples = 100, random_state = 19)"
   ]
  },
  {
   "cell_type": "code",
   "execution_count": 131,
   "id": "897c4844-9ced-4a63-b62b-254b5646c95f",
   "metadata": {},
   "outputs": [],
   "source": [
    "model = sk_KMeans( n_clusters = 3, init='k-means++',\n",
    "                  max_iter=10,\n",
    "                  random_state=0)"
   ]
  },
  {
   "cell_type": "code",
   "execution_count": 135,
   "id": "72cad62b-f3d7-4bec-82fb-c05b4732cb12",
   "metadata": {},
   "outputs": [
    {
     "name": "stderr",
     "output_type": "stream",
     "text": [
      "C:\\Users\\User1\\AppData\\Local\\Programs\\Python\\Python312\\Lib\\site-packages\\sklearn\\cluster\\_kmeans.py:1416: FutureWarning: The default value of `n_init` will change from 10 to 'auto' in 1.4. Set the value of `n_init` explicitly to suppress the warning\n",
      "  super()._check_params_vs_input(X, default_n_init=10)\n"
     ]
    },
    {
     "data": {
      "text/html": [
       "<style>#sk-container-id-2 {color: black;}#sk-container-id-2 pre{padding: 0;}#sk-container-id-2 div.sk-toggleable {background-color: white;}#sk-container-id-2 label.sk-toggleable__label {cursor: pointer;display: block;width: 100%;margin-bottom: 0;padding: 0.3em;box-sizing: border-box;text-align: center;}#sk-container-id-2 label.sk-toggleable__label-arrow:before {content: \"▸\";float: left;margin-right: 0.25em;color: #696969;}#sk-container-id-2 label.sk-toggleable__label-arrow:hover:before {color: black;}#sk-container-id-2 div.sk-estimator:hover label.sk-toggleable__label-arrow:before {color: black;}#sk-container-id-2 div.sk-toggleable__content {max-height: 0;max-width: 0;overflow: hidden;text-align: left;background-color: #f0f8ff;}#sk-container-id-2 div.sk-toggleable__content pre {margin: 0.2em;color: black;border-radius: 0.25em;background-color: #f0f8ff;}#sk-container-id-2 input.sk-toggleable__control:checked~div.sk-toggleable__content {max-height: 200px;max-width: 100%;overflow: auto;}#sk-container-id-2 input.sk-toggleable__control:checked~label.sk-toggleable__label-arrow:before {content: \"▾\";}#sk-container-id-2 div.sk-estimator input.sk-toggleable__control:checked~label.sk-toggleable__label {background-color: #d4ebff;}#sk-container-id-2 div.sk-label input.sk-toggleable__control:checked~label.sk-toggleable__label {background-color: #d4ebff;}#sk-container-id-2 input.sk-hidden--visually {border: 0;clip: rect(1px 1px 1px 1px);clip: rect(1px, 1px, 1px, 1px);height: 1px;margin: -1px;overflow: hidden;padding: 0;position: absolute;width: 1px;}#sk-container-id-2 div.sk-estimator {font-family: monospace;background-color: #f0f8ff;border: 1px dotted black;border-radius: 0.25em;box-sizing: border-box;margin-bottom: 0.5em;}#sk-container-id-2 div.sk-estimator:hover {background-color: #d4ebff;}#sk-container-id-2 div.sk-parallel-item::after {content: \"\";width: 100%;border-bottom: 1px solid gray;flex-grow: 1;}#sk-container-id-2 div.sk-label:hover label.sk-toggleable__label {background-color: #d4ebff;}#sk-container-id-2 div.sk-serial::before {content: \"\";position: absolute;border-left: 1px solid gray;box-sizing: border-box;top: 0;bottom: 0;left: 50%;z-index: 0;}#sk-container-id-2 div.sk-serial {display: flex;flex-direction: column;align-items: center;background-color: white;padding-right: 0.2em;padding-left: 0.2em;position: relative;}#sk-container-id-2 div.sk-item {position: relative;z-index: 1;}#sk-container-id-2 div.sk-parallel {display: flex;align-items: stretch;justify-content: center;background-color: white;position: relative;}#sk-container-id-2 div.sk-item::before, #sk-container-id-2 div.sk-parallel-item::before {content: \"\";position: absolute;border-left: 1px solid gray;box-sizing: border-box;top: 0;bottom: 0;left: 50%;z-index: -1;}#sk-container-id-2 div.sk-parallel-item {display: flex;flex-direction: column;z-index: 1;position: relative;background-color: white;}#sk-container-id-2 div.sk-parallel-item:first-child::after {align-self: flex-end;width: 50%;}#sk-container-id-2 div.sk-parallel-item:last-child::after {align-self: flex-start;width: 50%;}#sk-container-id-2 div.sk-parallel-item:only-child::after {width: 0;}#sk-container-id-2 div.sk-dashed-wrapped {border: 1px dashed gray;margin: 0 0.4em 0.5em 0.4em;box-sizing: border-box;padding-bottom: 0.4em;background-color: white;}#sk-container-id-2 div.sk-label label {font-family: monospace;font-weight: bold;display: inline-block;line-height: 1.2em;}#sk-container-id-2 div.sk-label-container {text-align: center;}#sk-container-id-2 div.sk-container {/* jupyter's `normalize.less` sets `[hidden] { display: none; }` but bootstrap.min.css set `[hidden] { display: none !important; }` so we also need the `!important` here to be able to override the default hidden behavior on the sphinx rendered scikit-learn.org. See: https://github.com/scikit-learn/scikit-learn/issues/21755 */display: inline-block !important;position: relative;}#sk-container-id-2 div.sk-text-repr-fallback {display: none;}</style><div id=\"sk-container-id-2\" class=\"sk-top-container\"><div class=\"sk-text-repr-fallback\"><pre>KMeans(max_iter=10, n_clusters=3, random_state=0)</pre><b>In a Jupyter environment, please rerun this cell to show the HTML representation or trust the notebook. <br />On GitHub, the HTML representation is unable to render, please try loading this page with nbviewer.org.</b></div><div class=\"sk-container\" hidden><div class=\"sk-item\"><div class=\"sk-estimator sk-toggleable\"><input class=\"sk-toggleable__control sk-hidden--visually\" id=\"sk-estimator-id-2\" type=\"checkbox\" checked><label for=\"sk-estimator-id-2\" class=\"sk-toggleable__label sk-toggleable__label-arrow\">KMeans</label><div class=\"sk-toggleable__content\"><pre>KMeans(max_iter=10, n_clusters=3, random_state=0)</pre></div></div></div></div></div>"
      ],
      "text/plain": [
       "KMeans(max_iter=10, n_clusters=3, random_state=0)"
      ]
     },
     "execution_count": 135,
     "metadata": {},
     "output_type": "execute_result"
    }
   ],
   "source": [
    "model.fit(ds)"
   ]
  },
  {
   "cell_type": "code",
   "execution_count": 136,
   "id": "08805acd-124e-4fb6-92f4-9b73d51b7c49",
   "metadata": {},
   "outputs": [
    {
     "data": {
      "text/plain": [
       "array([1, 2, 0, 0, 1, 0, 2, 0, 0, 1, 1, 2, 1, 1, 1, 2, 0, 1, 0, 0, 2, 1,\n",
       "       1, 0, 1, 2, 0, 2, 1, 0, 1, 1, 0, 2, 0, 2, 0, 2, 1, 2, 0, 1, 0, 2,\n",
       "       0, 2, 0, 0, 2, 1, 2, 1, 0, 2, 2, 2, 2, 1, 0, 1, 0, 2, 1, 0, 1, 1,\n",
       "       2, 0, 1, 2, 1, 1, 2, 2, 2, 0, 2, 2, 0, 2, 1, 1, 1, 2, 2, 0, 0, 2,\n",
       "       2, 1, 2, 0, 1, 0, 1, 1, 0, 1, 2, 0])"
      ]
     },
     "execution_count": 136,
     "metadata": {},
     "output_type": "execute_result"
    }
   ],
   "source": [
    "model.labels_"
   ]
  },
  {
   "cell_type": "code",
   "execution_count": 140,
   "id": "a5dbfd1b-6366-420f-b9b4-e68bf25bd008",
   "metadata": {},
   "outputs": [],
   "source": [
    "labels = model.predict(ds)"
   ]
  },
  {
   "cell_type": "code",
   "execution_count": 141,
   "id": "16cf4ee6-d5fd-488e-9006-efd7afb0efae",
   "metadata": {},
   "outputs": [
    {
     "data": {
      "text/plain": [
       "array([1, 2, 0, 0, 1, 0, 2, 0, 0, 1, 1, 2, 1, 1, 1, 2, 0, 1, 0, 0, 2, 1,\n",
       "       1, 0, 1, 2, 0, 2, 1, 0, 1, 1, 0, 2, 0, 2, 0, 2, 1, 2, 0, 1, 0, 2,\n",
       "       0, 2, 0, 0, 2, 1, 2, 1, 0, 2, 2, 2, 2, 1, 0, 1, 0, 2, 1, 0, 1, 1,\n",
       "       2, 0, 1, 2, 1, 1, 2, 2, 2, 0, 2, 2, 0, 2, 1, 1, 1, 2, 2, 0, 0, 2,\n",
       "       2, 1, 2, 0, 1, 0, 1, 1, 0, 1, 2, 0])"
      ]
     },
     "execution_count": 141,
     "metadata": {},
     "output_type": "execute_result"
    }
   ],
   "source": [
    "labels[:]"
   ]
  },
  {
   "cell_type": "code",
   "execution_count": 142,
   "id": "be4abc1f-ff18-4133-abe7-9094cf166f66",
   "metadata": {},
   "outputs": [
    {
     "data": {
      "text/plain": [
       "array([ True,  True,  True,  True,  True,  True,  True,  True,  True,\n",
       "        True,  True,  True,  True,  True,  True,  True,  True,  True,\n",
       "        True,  True,  True,  True,  True,  True,  True,  True,  True,\n",
       "        True,  True,  True,  True,  True,  True,  True,  True,  True,\n",
       "        True,  True,  True,  True,  True,  True,  True,  True,  True,\n",
       "        True,  True,  True,  True,  True,  True,  True,  True,  True,\n",
       "        True,  True,  True,  True,  True,  True,  True,  True,  True,\n",
       "        True,  True,  True,  True,  True,  True,  True,  True,  True,\n",
       "        True,  True,  True,  True,  True,  True,  True,  True,  True,\n",
       "        True,  True,  True,  True,  True,  True,  True,  True,  True,\n",
       "        True,  True,  True,  True,  True,  True,  True,  True,  True,\n",
       "        True])"
      ]
     },
     "execution_count": 142,
     "metadata": {},
     "output_type": "execute_result"
    }
   ],
   "source": [
    "labels == model.labels_"
   ]
  },
  {
   "cell_type": "code",
   "execution_count": 143,
   "id": "73b48544-7a33-467a-8f86-2f33822ed926",
   "metadata": {},
   "outputs": [
    {
     "data": {
      "text/plain": [
       "array([[-3.39341115, -8.79881934],\n",
       "       [-7.90352005,  5.26667161],\n",
       "       [-5.22283316, -7.28309069]])"
      ]
     },
     "execution_count": 143,
     "metadata": {},
     "output_type": "execute_result"
    }
   ],
   "source": [
    "model.cluster_centers_"
   ]
  },
  {
   "cell_type": "code",
   "execution_count": 145,
   "id": "a3e2ac52-3027-483a-92a6-85ba84a83e1b",
   "metadata": {},
   "outputs": [
    {
     "data": {
      "text/plain": [
       "158.79427469009588"
      ]
     },
     "execution_count": 145,
     "metadata": {},
     "output_type": "execute_result"
    }
   ],
   "source": [
    "model.inertia_"
   ]
  },
  {
   "cell_type": "code",
   "execution_count": 146,
   "id": "f64d85dd-b62e-421b-96fe-fc4c23e94eec",
   "metadata": {},
   "outputs": [
    {
     "data": {
      "text/plain": [
       "100"
      ]
     },
     "execution_count": 146,
     "metadata": {},
     "output_type": "execute_result"
    }
   ],
   "source": [
    "len(labels)"
   ]
  },
  {
   "cell_type": "code",
   "execution_count": 147,
   "id": "3553e02e-c85d-4573-8121-9e09b90f2db1",
   "metadata": {},
   "outputs": [
    {
     "data": {
      "text/plain": [
       "<enumerate at 0x25c2fd59a80>"
      ]
     },
     "execution_count": 147,
     "metadata": {},
     "output_type": "execute_result"
    }
   ],
   "source": [
    "enumerate(model.cluster_centers_)"
   ]
  },
  {
   "cell_type": "code",
   "execution_count": 148,
   "id": "fe615308-1587-4c7c-a658-b35f69fc2f0e",
   "metadata": {},
   "outputs": [
    {
     "data": {
      "image/png": "[encoded data removed]",
      "text/plain": [
       "<Figure size 700x700 with 1 Axes>"
      ]
     },
     "metadata": {},
     "output_type": "display_data"
    }
   ],
   "source": [
    "plt.figure(figsize=(7, 7))\n",
    "\n",
    "for i in range(len(labels)):\n",
    "    plt.scatter(ds[i, 0], ds[i, 1], color=colors[labels[i]])\n",
    "\n",
    "for i, centr in enumerate(model.cluster_centers_):\n",
    "    plt.scatter(centr[0], centr[1], marker='*', s=500, c=colors[i])\n",
    "    plt.text(centr[0]-0.1, centr[1]-0.2, f'{i+1}', fontsize=20);"
   ]
  }
 ],
 "metadata": {
  "kernelspec": {
   "display_name": "Python 3 (ipykernel)",
   "language": "python",
   "name": "python3"
  },
  "language_info": {
   "codemirror_mode": {
    "name": "ipython",
    "version": 3
   },
   "file_extension": ".py",
   "mimetype": "text/x-python",
   "name": "python",
   "nbconvert_exporter": "python",
   "pygments_lexer": "ipython3",
   "version": "3.12.0"
  }
 },
 "nbformat": 4,
 "nbformat_minor": 5
}
